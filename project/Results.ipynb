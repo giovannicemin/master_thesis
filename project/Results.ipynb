{
 "cells": [
  {
   "cell_type": "markdown",
   "id": "ac6dbb4f",
   "metadata": {},
   "source": [
    "# RESULTS\n",
    "Here I report the resulsts of the training procedure."
   ]
  },
  {
   "cell_type": "code",
   "execution_count": 2,
   "id": "e626ed74",
   "metadata": {},
   "outputs": [
    {
     "name": "stderr",
     "output_type": "stream",
     "text": [
      "/home/joke/anaconda3/envs/NN_Lindblad/lib/python3.9/site-packages/tqdm/auto.py:22: TqdmWarning: IProgress not found. Please update jupyter and ipywidgets. See https://ipywidgets.readthedocs.io/en/stable/user_install.html\n",
      "  from .autonotebook import tqdm as notebook_tqdm\n"
     ]
    }
   ],
   "source": [
    "import numpy as np\n",
    "import torch\n",
    "import pandas as pd\n",
    "import matplotlib.pyplot as plt\n",
    "\n",
    "from pathlib import Path"
   ]
  },
  {
   "cell_type": "code",
   "execution_count": 1,
   "id": "483dafdc",
   "metadata": {},
   "outputs": [],
   "source": [
    "prms = {'L' : 10,                # length of spin chain\n",
    "        'sites' : [0, 1],        # sites of the subsystem S spins\n",
    "        'omega' : 1,             # Rabi frequency\n",
    "        'beta' : 0.001,          # inverse temperature\n",
    "        'potential' : 0.1,       # interaction of subsystem's S spins\n",
    "        'potential_' : None,     # interaction of bath spins, if None same as potential\n",
    "        'T' : 10,                # total time for the evolution\n",
    "        'dt' : 0.01,             # interval every which save the data\n",
    "        'cutoff' : 1e-8,         # cutoff for TEBD algorithm\n",
    "        'im_cutoff' : 1e-10,      # cutoff for TEBD algorithm, img t-e\n",
    "        'tolerance' : 1e-3,      # Trotter tolerance for TEBD algorithm\n",
    "        'verbose' : True,        # verbosity of the script\n",
    "        'num_traj' : 20,         # how many trajectories to do\n",
    "        # file to save the data\n",
    "        'fname' : './data/data_tebd.hdf5'\n",
    "        }\n",
    "\n",
    "ml_params = {'model_dir': './data/trained_model', # folder where the metadata of the training are stored\n",
    "             'validation_split' : 0.2,\n",
    "             'batch_size': 256,\n",
    "             #'batches_per_epoch': 256,\n",
    "             'n_epochs': 20,\n",
    "             'device': 'cpu',\n",
    "             'mlp_params': {\n",
    "                 'data_dim': 15,\n",
    "                 'layers': [],\n",
    "                 'nonlin': 'id',\n",
    "                 'output_nonlin': 'id'\n",
    "                 },\n",
    "             }"
   ]
  },
  {
   "cell_type": "markdown",
   "id": "34bdc0b6",
   "metadata": {},
   "source": [
    "### Import the model"
   ]
  },
  {
   "cell_type": "code",
   "execution_count": 107,
   "id": "762edd83",
   "metadata": {},
   "outputs": [
    {
     "ename": "Exception",
     "evalue": "File do not exists!",
     "output_type": "error",
     "traceback": [
      "\u001b[0;31m---------------------------------------------------------------------------\u001b[0m",
      "\u001b[0;31mException\u001b[0m                                 Traceback (most recent call last)",
      "Input \u001b[0;32mIn [107]\u001b[0m, in \u001b[0;36m<cell line: 9>\u001b[0;34m()\u001b[0m\n\u001b[1;32m      8\u001b[0m my_file \u001b[38;5;241m=\u001b[39m Path(\u001b[38;5;124m'\u001b[39m\u001b[38;5;124m./data/trained_model/\u001b[39m\u001b[38;5;124m'\u001b[39m \u001b[38;5;241m+\u001b[39m name)\n\u001b[1;32m      9\u001b[0m \u001b[38;5;28;01mif\u001b[39;00m \u001b[38;5;129;01mnot\u001b[39;00m my_file\u001b[38;5;241m.\u001b[39mis_file():\n\u001b[0;32m---> 10\u001b[0m     \u001b[38;5;28;01mraise\u001b[39;00m \u001b[38;5;167;01mException\u001b[39;00m(\u001b[38;5;124m'\u001b[39m\u001b[38;5;124mFile do not exists!\u001b[39m\u001b[38;5;124m'\u001b[39m)\n\u001b[1;32m     12\u001b[0m model \u001b[38;5;241m=\u001b[39m MLLP(ml_params[\u001b[38;5;124m'\u001b[39m\u001b[38;5;124mmlp_params\u001b[39m\u001b[38;5;124m'\u001b[39m])\u001b[38;5;241m.\u001b[39mto(ml_params[\u001b[38;5;124m'\u001b[39m\u001b[38;5;124mdevice\u001b[39m\u001b[38;5;124m'\u001b[39m])\n\u001b[1;32m     13\u001b[0m model\u001b[38;5;241m.\u001b[39mload_state_dict(torch\u001b[38;5;241m.\u001b[39mload(my_file))\n",
      "\u001b[0;31mException\u001b[0m: File do not exists!"
     ]
    }
   ],
   "source": [
    "from ml.classes import MLLP\n",
    "\n",
    "name = 'model_L_' + str(prms['L']) + \\\n",
    "        '_V_' + str(int(prms['potential']*1e3)).zfill(4) + \\\n",
    "        '_beta_' + str(int(prms['beta']*1e3)).zfill(4) + \\\n",
    "        '_dt_' + str(int(prms['dt']*1e3)).zfill(4)\n",
    "\n",
    "my_file = Path('./data/trained_model/' + name)\n",
    "if not my_file.is_file():\n",
    "    raise Exception('File do not exists!')\n",
    "\n",
    "model = MLLP(ml_params['mlp_params']).to(ml_params['device'])\n",
    "model.load_state_dict(torch.load(my_file))"
   ]
  },
  {
   "cell_type": "markdown",
   "id": "dc3eb386",
   "metadata": {},
   "source": [
    "### Generate some data"
   ]
  },
  {
   "cell_type": "code",
   "execution_count": 3,
   "id": "cc5054d7",
   "metadata": {},
   "outputs": [
    {
     "name": "stderr",
     "output_type": "stream",
     "text": [
      "t=0.0005, max-bond=4: 100%|#################################################################################################################################| 100/100 [00:00<00:00, 987.34%/s]\n",
      "t=9.99, max-bond=25: 100%|################################################################################################################################| 1000/1000 [02:32<00:00,  6.57it/s]\n"
     ]
    }
   ],
   "source": [
    "from models import SpinChain\n",
    "\n",
    "sys_prms = prms.copy()\n",
    "sys_prms.pop('sites')\n",
    "sys_prms.pop('potential_')\n",
    "sys_prms.pop('num_traj')\n",
    "sys_prms.pop('fname')\n",
    "sys_prms['verbose'] = False\n",
    "\n",
    "# evolution of the spin chain\n",
    "system = SpinChain(**sys_prms)\n",
    "system.thermalize()\n",
    "system.evolve()\n",
    "\n",
    "results = system.return_results()"
   ]
  },
  {
   "cell_type": "markdown",
   "id": "17aa3450",
   "metadata": {},
   "source": [
    "### Generate the dynamics with the model"
   ]
  },
  {
   "cell_type": "code",
   "execution_count": 78,
   "id": "a99a7ffb",
   "metadata": {},
   "outputs": [],
   "source": [
    "ml_dyn = results[:1]\n",
    "\n",
    "X = torch.tensor(ml_dyn.to_numpy())\n",
    "\n",
    "for i in range(len(results)-1):\n",
    "    y = model.forward(X)\n",
    "    ml_dyn = pd.concat((ml_dyn, pd.DataFrame(y.detach().numpy(), columns=ml_dyn.keys())))\n",
    "    X = y"
   ]
  },
  {
   "cell_type": "code",
   "execution_count": 99,
   "id": "8c926fc0",
   "metadata": {},
   "outputs": [
    {
     "data": {
      "image/png": "[encoded data removed]",
      "text/plain": [
       "<Figure size 640x480 with 1 Axes>"
      ]
     },
     "metadata": {},
     "output_type": "display_data"
    }
   ],
   "source": [
    "keys = ['Z1X2']\n",
    "\n",
    "t = np.arange(0, 10, prms['dt'])\n",
    "\n",
    "for key in keys:\n",
    "    plt.plot(t, results[key], label='Simulation')\n",
    "    plt.plot(t, ml_dyn[key], label='ml')\n",
    "plt.legend()\n",
    "plt.grid()"
   ]
  },
  {
   "cell_type": "code",
   "execution_count": null,
   "id": "ae01f0bd",
   "metadata": {},
   "outputs": [],
   "source": []
  },
  {
   "cell_type": "code",
   "execution_count": null,
   "id": "756c6e2d",
   "metadata": {},
   "outputs": [],
   "source": []
  },
  {
   "cell_type": "code",
   "execution_count": null,
   "id": "09015398",
   "metadata": {},
   "outputs": [],
   "source": []
  },
  {
   "cell_type": "code",
   "execution_count": null,
   "id": "ca565d2a",
   "metadata": {},
   "outputs": [],
   "source": []
  },
  {
   "cell_type": "code",
   "execution_count": null,
   "id": "32c7c571",
   "metadata": {},
   "outputs": [],
   "source": []
  }
 ],
 "metadata": {
  "kernelspec": {
   "display_name": "Python 3 (ipykernel)",
   "language": "python",
   "name": "python3"
  },
  "language_info": {
   "codemirror_mode": {
    "name": "ipython",
    "version": 3
   },
   "file_extension": ".py",
   "mimetype": "text/x-python",
   "name": "python",
   "nbconvert_exporter": "python",
   "pygments_lexer": "ipython3",
   "version": "3.9.13"
  }
 },
 "nbformat": 4,
 "nbformat_minor": 5
}
