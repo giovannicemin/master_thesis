{
 "cells": [
  {
   "cell_type": "markdown",
   "id": "695b770d",
   "metadata": {},
   "source": [
    "# Managing the data"
   ]
  },
  {
   "cell_type": "code",
   "execution_count": 2,
   "id": "8212e325",
   "metadata": {},
   "outputs": [],
   "source": [
    "import os\n",
    "import h5py"
   ]
  },
  {
   "cell_type": "code",
   "execution_count": 3,
   "id": "27fe067c",
   "metadata": {},
   "outputs": [
    {
     "data": {
      "text/plain": [
       "['.ipynb_checkpoints',\n",
       " 'data_unc_test_S.hdf5',\n",
       " 'data_test_W.hdf5',\n",
       " 'trained_model_old',\n",
       " 'trained_unc_td',\n",
       " 'trained_not_rescaled',\n",
       " 'data_tebd_old.txt',\n",
       " 'data_unc_training_W_5.hdf5',\n",
       " 'trained_unc',\n",
       " 'DataHandling.ipynb',\n",
       " 'data_training_W.hdf5',\n",
       " 'data_unc_test_W.hdf5',\n",
       " 'data_test_S.hdf5',\n",
       " 'README.md',\n",
       " 'trained',\n",
       " 'data_test_W_bu.hdf5',\n",
       " 'data_unc_training_W.hdf5',\n",
       " 'data_training.hdf5',\n",
       " 'data_tebd_old.hdf5',\n",
       " 'data_unc_training_S.hdf5',\n",
       " 'data_training_S.hdf5']"
      ]
     },
     "execution_count": 3,
     "metadata": {},
     "output_type": "execute_result"
    }
   ],
   "source": [
    "os.listdir('./')"
   ]
  },
  {
   "cell_type": "code",
   "execution_count": 21,
   "id": "5bf30b7d-aba6-431a-822e-cc21df9f978b",
   "metadata": {},
   "outputs": [
    {
     "name": "stdout",
     "output_type": "stream",
     "text": [
      "cohVec_L_20_V_0100_beta_1000_dt_0010\n"
     ]
    },
    {
     "ename": "ValueError",
     "evalue": "Unable to create group (name already exists)",
     "output_type": "error",
     "traceback": [
      "\u001b[0;31m---------------------------------------------------------------------------\u001b[0m",
      "\u001b[0;31mValueError\u001b[0m                                Traceback (most recent call last)",
      "Cell \u001b[0;32mIn[21], line 5\u001b[0m\n\u001b[1;32m      3\u001b[0m \u001b[38;5;28;01mfor\u001b[39;00m key \u001b[38;5;129;01min\u001b[39;00m \u001b[38;5;28mlist\u001b[39m(f_old\u001b[38;5;241m.\u001b[39mkeys()):\n\u001b[1;32m      4\u001b[0m     \u001b[38;5;28mprint\u001b[39m(key)\n\u001b[0;32m----> 5\u001b[0m     group \u001b[38;5;241m=\u001b[39m \u001b[43mf_new\u001b[49m\u001b[38;5;241;43m.\u001b[39;49m\u001b[43mcreate_group\u001b[49m\u001b[43m(\u001b[49m\u001b[43mkey\u001b[49m\u001b[43m)\u001b[49m\n\u001b[1;32m      6\u001b[0m     group\u001b[38;5;241m.\u001b[39mcreate_dataset(\u001b[38;5;124m'\u001b[39m\u001b[38;5;124mX\u001b[39m\u001b[38;5;124m'\u001b[39m, data\u001b[38;5;241m=\u001b[39mf_old[key \u001b[38;5;241m+\u001b[39m \u001b[38;5;124m'\u001b[39m\u001b[38;5;124m/X\u001b[39m\u001b[38;5;124m'\u001b[39m])\n\u001b[1;32m      7\u001b[0m     group\u001b[38;5;241m.\u001b[39mcreate_dataset(\u001b[38;5;124m'\u001b[39m\u001b[38;5;124my\u001b[39m\u001b[38;5;124m'\u001b[39m, data\u001b[38;5;241m=\u001b[39mf_old[key \u001b[38;5;241m+\u001b[39m \u001b[38;5;124m'\u001b[39m\u001b[38;5;124m/y\u001b[39m\u001b[38;5;124m'\u001b[39m])\n",
      "File \u001b[0;32m~/anaconda3/envs/NN_Lindblad/lib/python3.9/site-packages/h5py/_hl/group.py:64\u001b[0m, in \u001b[0;36mGroup.create_group\u001b[0;34m(self, name, track_order)\u001b[0m\n\u001b[1;32m     62\u001b[0m name, lcpl \u001b[38;5;241m=\u001b[39m \u001b[38;5;28mself\u001b[39m\u001b[38;5;241m.\u001b[39m_e(name, lcpl\u001b[38;5;241m=\u001b[39m\u001b[38;5;28;01mTrue\u001b[39;00m)\n\u001b[1;32m     63\u001b[0m gcpl \u001b[38;5;241m=\u001b[39m Group\u001b[38;5;241m.\u001b[39m_gcpl_crt_order \u001b[38;5;28;01mif\u001b[39;00m track_order \u001b[38;5;28;01melse\u001b[39;00m \u001b[38;5;28;01mNone\u001b[39;00m\n\u001b[0;32m---> 64\u001b[0m gid \u001b[38;5;241m=\u001b[39m \u001b[43mh5g\u001b[49m\u001b[38;5;241;43m.\u001b[39;49m\u001b[43mcreate\u001b[49m\u001b[43m(\u001b[49m\u001b[38;5;28;43mself\u001b[39;49m\u001b[38;5;241;43m.\u001b[39;49m\u001b[43mid\u001b[49m\u001b[43m,\u001b[49m\u001b[43m \u001b[49m\u001b[43mname\u001b[49m\u001b[43m,\u001b[49m\u001b[43m \u001b[49m\u001b[43mlcpl\u001b[49m\u001b[38;5;241;43m=\u001b[39;49m\u001b[43mlcpl\u001b[49m\u001b[43m,\u001b[49m\u001b[43m \u001b[49m\u001b[43mgcpl\u001b[49m\u001b[38;5;241;43m=\u001b[39;49m\u001b[43mgcpl\u001b[49m\u001b[43m)\u001b[49m\n\u001b[1;32m     65\u001b[0m \u001b[38;5;28;01mreturn\u001b[39;00m Group(gid)\n",
      "File \u001b[0;32mh5py/_objects.pyx:54\u001b[0m, in \u001b[0;36mh5py._objects.with_phil.wrapper\u001b[0;34m()\u001b[0m\n",
      "File \u001b[0;32mh5py/_objects.pyx:55\u001b[0m, in \u001b[0;36mh5py._objects.with_phil.wrapper\u001b[0;34m()\u001b[0m\n",
      "File \u001b[0;32mh5py/h5g.pyx:166\u001b[0m, in \u001b[0;36mh5py.h5g.create\u001b[0;34m()\u001b[0m\n",
      "\u001b[0;31mValueError\u001b[0m: Unable to create group (name already exists)"
     ]
    }
   ],
   "source": [
    "with h5py.File('./data_unc_test.hdf5', 'a') as f_new:\n",
    "    with h5py.File('./data_unc_test_W.hdf5', 'r') as f_old:\n",
    "        for key in list(f_old.keys()):\n",
    "            print(key)\n",
    "            group = f_new.create_group(key)\n",
    "            group.create_dataset('X', data=f_old[key + '/X'])\n",
    "            group.create_dataset('y', data=f_old[key + '/y'])\n"
   ]
  },
  {
   "cell_type": "code",
   "execution_count": 20,
   "id": "c2cb831a-68c9-4c25-ac46-f66071ab01de",
   "metadata": {},
   "outputs": [
    {
     "name": "stdout",
     "output_type": "stream",
     "text": [
      "cohVec_L_20_V_0100_beta_1000_dt_0010\n",
      "cohVec_L_20_V_0150_beta_1000_dt_0010\n",
      "cohVec_L_20_V_0200_beta_1000_dt_0010\n",
      "cohVec_L_20_V_0250_beta_1000_dt_0010\n",
      "cohVec_L_20_V_0300_beta_1000_dt_0010\n",
      "cohVec_L_20_V_0350_beta_1000_dt_0010\n",
      "cohVec_L_20_V_0400_beta_1000_dt_0010\n",
      "cohVec_L_20_V_0450_beta_1000_dt_0010\n",
      "cohVec_L_20_V_0500_beta_1000_dt_0010\n",
      "cohVec_L_20_V_1000_beta_1000_dt_0010\n",
      "cohVec_L_20_V_2000_beta_1000_dt_0010\n",
      "cohVec_L_20_V_3000_beta_1000_dt_0010\n",
      "cohVec_L_20_V_4000_beta_1000_dt_0010\n",
      "cohVec_L_20_V_5000_beta_1000_dt_0010\n",
      "cohVec_L_20_V_6000_beta_1000_dt_0010\n",
      "cohVec_L_20_V_7000_beta_1000_dt_0010\n",
      "cohVec_L_20_V_8000_beta_1000_dt_0010\n",
      "cohVec_L_20_V_9000_beta_1000_dt_0010\n",
      "cohVec_L_40_V_0100_beta_1000_dt_0010\n",
      "cohVec_L_40_V_0150_beta_1000_dt_0010\n",
      "cohVec_L_40_V_0200_beta_1000_dt_0010\n",
      "cohVec_L_40_V_0250_beta_1000_dt_0010\n",
      "cohVec_L_40_V_0300_beta_1000_dt_0010\n",
      "cohVec_L_40_V_0350_beta_1000_dt_0010\n",
      "cohVec_L_40_V_0400_beta_1000_dt_0010\n",
      "cohVec_L_40_V_0450_beta_1000_dt_0010\n",
      "cohVec_L_40_V_0500_beta_1000_dt_0010\n",
      "cohVec_L_40_V_1000_beta_1000_dt_0010\n",
      "cohVec_L_40_V_2000_beta_1000_dt_0010\n",
      "cohVec_L_40_V_3000_beta_1000_dt_0010\n",
      "cohVec_L_40_V_4000_beta_1000_dt_0010\n",
      "cohVec_L_40_V_5000_beta_1000_dt_0010\n",
      "cohVec_L_40_V_6000_beta_1000_dt_0010\n",
      "cohVec_L_40_V_7000_beta_1000_dt_0010\n",
      "cohVec_L_40_V_8000_beta_1000_dt_0010\n",
      "cohVec_L_40_V_9000_beta_1000_dt_0010\n",
      "cohVec_L_60_V_0100_beta_1000_dt_0010\n",
      "cohVec_L_60_V_0150_beta_1000_dt_0010\n",
      "cohVec_L_60_V_0200_beta_1000_dt_0010\n",
      "cohVec_L_60_V_0250_beta_1000_dt_0010\n",
      "cohVec_L_60_V_0300_beta_1000_dt_0010\n",
      "cohVec_L_60_V_0350_beta_1000_dt_0010\n",
      "cohVec_L_60_V_0400_beta_1000_dt_0010\n",
      "cohVec_L_60_V_0450_beta_1000_dt_0010\n",
      "cohVec_L_60_V_0500_beta_1000_dt_0010\n",
      "cohVec_L_60_V_1000_beta_1000_dt_0010\n",
      "cohVec_L_60_V_2000_beta_1000_dt_0010\n",
      "cohVec_L_60_V_3000_beta_1000_dt_0010\n",
      "cohVec_L_60_V_4000_beta_1000_dt_0010\n",
      "cohVec_L_60_V_5000_beta_1000_dt_0010\n",
      "cohVec_L_60_V_6000_beta_1000_dt_0010\n",
      "cohVec_L_60_V_7000_beta_1000_dt_0010\n",
      "cohVec_L_60_V_8000_beta_1000_dt_0010\n",
      "cohVec_L_60_V_9000_beta_1000_dt_0010\n",
      "cohVec_L_80_V_0100_beta_1000_dt_0010\n",
      "cohVec_L_80_V_0150_beta_1000_dt_0010\n",
      "cohVec_L_80_V_0200_beta_1000_dt_0010\n",
      "cohVec_L_80_V_0250_beta_1000_dt_0010\n",
      "cohVec_L_80_V_0300_beta_1000_dt_0010\n",
      "cohVec_L_80_V_0350_beta_1000_dt_0010\n",
      "cohVec_L_80_V_0400_beta_1000_dt_0010\n",
      "cohVec_L_80_V_0450_beta_1000_dt_0010\n",
      "cohVec_L_80_V_0500_beta_1000_dt_0010\n"
     ]
    }
   ],
   "source": [
    "with h5py.File('./data_unc_training.hdf5', 'r') as f_new:\n",
    "    #del f_new['cohVec_L_40_V_0150_beta_1000_dt_0010']\n",
    "    print(*list(f_new.keys()), sep='\\n')"
   ]
  },
  {
   "cell_type": "code",
   "execution_count": 6,
   "id": "8eb15275",
   "metadata": {},
   "outputs": [
    {
     "name": "stdout",
     "output_type": "stream",
     "text": [
      "['cohVec_L_40_V_0100_beta_1000_dt_0010', 'cohVec_L_40_V_0150_beta_1000_dt_0010', 'cohVec_L_40_V_0200_beta_1000_dt_0010', 'cohVec_L_40_V_0250_beta_1000_dt_0010', 'cohVec_L_40_V_0300_beta_1000_dt_0010', 'cohVec_L_40_V_0350_beta_1000_dt_0010', 'cohVec_L_40_V_0400_beta_1000_dt_0010', 'cohVec_L_40_V_0450_beta_1000_dt_0010', 'cohVec_L_40_V_0500_beta_1000_dt_0010', 'cohVec_L_60_V_0100_beta_1000_dt_0010', 'cohVec_L_60_V_0150_beta_1000_dt_0010', 'cohVec_L_60_V_0200_beta_1000_dt_0010', 'cohVec_L_60_V_0250_beta_1000_dt_0010', 'cohVec_L_60_V_0300_beta_1000_dt_0010', 'cohVec_L_60_V_0350_beta_1000_dt_0010', 'cohVec_L_60_V_0400_beta_1000_dt_0010', 'cohVec_L_60_V_0450_beta_1000_dt_0010', 'cohVec_L_60_V_0500_beta_1000_dt_0010']\n",
      "[[-0.1932895  -0.12609682  0.40224564 ... -0.08544753 -0.05291146\n",
      "   0.15826597]\n",
      " [-0.19313279 -0.1303542   0.40096205 ... -0.08513785 -0.05450908\n",
      "   0.15719173]\n",
      " [-0.19297262 -0.13459758  0.39963729 ... -0.08481572 -0.05608417\n",
      "   0.1560857 ]\n",
      " ...\n",
      " [ 0.14011785  0.4214837   0.09682575 ... -0.0753007  -0.017634\n",
      "  -0.02661638]\n",
      " [ 0.13968546  0.42057459  0.10103664 ... -0.07589318 -0.01922203\n",
      "  -0.02745096]\n",
      " [ 0.13925479  0.41962258  0.10523824 ... -0.07647431 -0.02079454\n",
      "  -0.02831729]]\n"
     ]
    }
   ],
   "source": [
    "with h5py.File('./data_training_W.hdf5', 'r') as f:\n",
    "    #del f['cohVec_L_60_V_2000_beta_1000_dt_0010']\n",
    "    keys = list(f.keys())\n",
    "    print(keys)\n",
    "    print(f[keys[0]+'/X'][:])"
   ]
  },
  {
   "cell_type": "code",
   "execution_count": null,
   "id": "d9c68fb5",
   "metadata": {},
   "outputs": [],
   "source": []
  }
 ],
 "metadata": {
  "hide_input": false,
  "kernelspec": {
   "display_name": "Python 3 (ipykernel)",
   "language": "python",
   "name": "python3"
  },
  "language_info": {
   "codemirror_mode": {
    "name": "ipython",
    "version": 3
   },
   "file_extension": ".py",
   "mimetype": "text/x-python",
   "name": "python",
   "nbconvert_exporter": "python",
   "pygments_lexer": "ipython3",
   "version": "3.9.15"
  },
  "toc": {
   "base_numbering": 1,
   "nav_menu": {},
   "number_sections": true,
   "sideBar": true,
   "skip_h1_title": false,
   "title_cell": "Table of Contents",
   "title_sidebar": "Contents",
   "toc_cell": false,
   "toc_position": {},
   "toc_section_display": true,
   "toc_window_display": false
  }
 },
 "nbformat": 4,
 "nbformat_minor": 5
}
