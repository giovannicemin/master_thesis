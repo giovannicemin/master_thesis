{
 "cells": [
  {
   "cell_type": "markdown",
   "id": "695b770d",
   "metadata": {},
   "source": [
    "# Managing the data"
   ]
  },
  {
   "cell_type": "code",
   "execution_count": 2,
   "id": "8212e325",
   "metadata": {},
   "outputs": [],
   "source": [
    "import os\n",
    "import h5py"
   ]
  },
  {
   "cell_type": "code",
   "execution_count": 3,
   "id": "27fe067c",
   "metadata": {},
   "outputs": [
    {
     "data": {
      "text/plain": [
       "['.ipynb_checkpoints',\n",
       " 'data_unc_test_S.hdf5',\n",
       " 'data_test_W.hdf5',\n",
       " 'trained_model_old',\n",
       " 'trained_unc_td',\n",
       " 'trained_not_rescaled',\n",
       " 'data_tebd_old.txt',\n",
       " 'data_unc_training_W_5.hdf5',\n",
       " 'trained_unc',\n",
       " 'DataHandling.ipynb',\n",
       " 'data_training_W.hdf5',\n",
       " 'data_unc_test_W.hdf5',\n",
       " 'data_test_S.hdf5',\n",
       " 'README.md',\n",
       " 'trained',\n",
       " 'data_test_W_bu.hdf5',\n",
       " 'data_unc_training_W.hdf5',\n",
       " 'data_training.hdf5',\n",
       " 'data_tebd_old.hdf5',\n",
       " 'data_unc_training_S.hdf5',\n",
       " 'data_training_S.hdf5']"
      ]
     },
     "execution_count": 3,
     "metadata": {},
     "output_type": "execute_result"
    }
   ],
   "source": [
    "os.listdir('./')"
   ]
  },
  {
   "cell_type": "code",
   "execution_count": 23,
   "id": "a3d35b08-6a1b-4eaf-86c0-8875a9dbfd38",
   "metadata": {},
   "outputs": [],
   "source": [
    "keys = ['cohVec_L_60_V_1000_beta_1000_dt_0010',\n",
    "'cohVec_L_60_V_2000_beta_1000_dt_0010',\n",
    "'cohVec_L_60_V_3000_beta_1000_dt_0010',\n",
    "'cohVec_L_60_V_4000_beta_1000_dt_0010',\n",
    "'cohVec_L_60_V_5000_beta_1000_dt_0010',\n",
    "'cohVec_L_60_V_6000_beta_1000_dt_0010',\n",
    "'cohVec_L_60_V_7000_beta_1000_dt_0010',\n",
    "'cohVec_L_60_V_8000_beta_1000_dt_0010',\n",
    "'cohVec_L_60_V_9000_beta_1000_dt_0010']"
   ]
  },
  {
   "cell_type": "code",
   "execution_count": 21,
   "id": "5bf30b7d-aba6-431a-822e-cc21df9f978b",
   "metadata": {},
   "outputs": [
    {
     "name": "stdout",
     "output_type": "stream",
     "text": [
      "cohVec_L_60_V_1000_beta_1000_dt_0010\n",
      "cohVec_L_60_V_2000_beta_1000_dt_0010\n",
      "cohVec_L_60_V_3000_beta_1000_dt_0010\n",
      "cohVec_L_60_V_4000_beta_1000_dt_0010\n",
      "cohVec_L_60_V_5000_beta_1000_dt_0010\n",
      "cohVec_L_60_V_6000_beta_1000_dt_0010\n",
      "cohVec_L_60_V_7000_beta_1000_dt_0010\n",
      "cohVec_L_60_V_8000_beta_1000_dt_0010\n",
      "cohVec_L_60_V_9000_beta_1000_dt_0010\n"
     ]
    }
   ],
   "source": [
    "with h5py.File('./data_unc_test.hdf5', 'a') as f_new:\n",
    "    with h5py.File('./data_unc_test_S.hdf5', 'r') as f_old:\n",
    "        for key in list(f_old.keys()):\n",
    "            print(key)\n",
    "            group = f_new.create_group(key)\n",
    "            group.create_dataset('X', data=f_old[key + '/X'])\n",
    "            group.create_dataset('y', data=f_old[key + '/y'])\n"
   ]
  },
  {
   "cell_type": "code",
   "execution_count": 28,
   "id": "c2cb831a-68c9-4c25-ac46-f66071ab01de",
   "metadata": {},
   "outputs": [
    {
     "name": "stdout",
     "output_type": "stream",
     "text": [
      "cohVec_L_20_V_0100_beta_1000_dt_0010\n",
      "cohVec_L_20_V_0150_beta_1000_dt_0010\n",
      "cohVec_L_20_V_0200_beta_1000_dt_0010\n",
      "cohVec_L_20_V_0250_beta_1000_dt_0010\n",
      "cohVec_L_20_V_0300_beta_1000_dt_0010\n",
      "cohVec_L_20_V_0350_beta_1000_dt_0010\n",
      "cohVec_L_20_V_0400_beta_1000_dt_0010\n",
      "cohVec_L_20_V_0450_beta_1000_dt_0010\n",
      "cohVec_L_20_V_0500_beta_1000_dt_0010\n",
      "cohVec_L_40_V_0100_beta_1000_dt_0010\n",
      "cohVec_L_40_V_0150_beta_1000_dt_0010\n",
      "cohVec_L_40_V_0200_beta_1000_dt_0010\n",
      "cohVec_L_40_V_0250_beta_1000_dt_0010\n",
      "cohVec_L_40_V_0300_beta_1000_dt_0010\n",
      "cohVec_L_40_V_0350_beta_1000_dt_0010\n",
      "cohVec_L_40_V_0400_beta_1000_dt_0010\n",
      "cohVec_L_40_V_0450_beta_1000_dt_0010\n",
      "cohVec_L_40_V_0500_beta_1000_dt_0010\n",
      "cohVec_L_60_V_0100_beta_1000_dt_0010\n",
      "cohVec_L_60_V_0150_beta_1000_dt_0010\n",
      "cohVec_L_60_V_0200_beta_1000_dt_0010\n",
      "cohVec_L_60_V_0250_beta_1000_dt_0010\n",
      "cohVec_L_60_V_0300_beta_1000_dt_0010\n",
      "cohVec_L_60_V_0350_beta_1000_dt_0010\n",
      "cohVec_L_60_V_0400_beta_1000_dt_0010\n",
      "cohVec_L_60_V_0450_beta_1000_dt_0010\n",
      "cohVec_L_60_V_0500_beta_1000_dt_0010\n"
     ]
    }
   ],
   "source": [
    "with h5py.File('./.backup_data/data_unc_test_W.hdf5', 'r') as f_new:\n",
    "    #del f_new['cohVec_L_40_V_0150_beta_1000_dt_0010']\n",
    "    print(*list(f_new.keys()), sep='\\n')"
   ]
  },
  {
   "cell_type": "code",
   "execution_count": 6,
   "id": "8eb15275",
   "metadata": {},
   "outputs": [
    {
     "name": "stdout",
     "output_type": "stream",
     "text": [
      "['cohVec_L_40_V_0100_beta_1000_dt_0010', 'cohVec_L_40_V_0150_beta_1000_dt_0010', 'cohVec_L_40_V_0200_beta_1000_dt_0010', 'cohVec_L_40_V_0250_beta_1000_dt_0010', 'cohVec_L_40_V_0300_beta_1000_dt_0010', 'cohVec_L_40_V_0350_beta_1000_dt_0010', 'cohVec_L_40_V_0400_beta_1000_dt_0010', 'cohVec_L_40_V_0450_beta_1000_dt_0010', 'cohVec_L_40_V_0500_beta_1000_dt_0010', 'cohVec_L_60_V_0100_beta_1000_dt_0010', 'cohVec_L_60_V_0150_beta_1000_dt_0010', 'cohVec_L_60_V_0200_beta_1000_dt_0010', 'cohVec_L_60_V_0250_beta_1000_dt_0010', 'cohVec_L_60_V_0300_beta_1000_dt_0010', 'cohVec_L_60_V_0350_beta_1000_dt_0010', 'cohVec_L_60_V_0400_beta_1000_dt_0010', 'cohVec_L_60_V_0450_beta_1000_dt_0010', 'cohVec_L_60_V_0500_beta_1000_dt_0010']\n",
      "[[-0.1932895  -0.12609682  0.40224564 ... -0.08544753 -0.05291146\n",
      "   0.15826597]\n",
      " [-0.19313279 -0.1303542   0.40096205 ... -0.08513785 -0.05450908\n",
      "   0.15719173]\n",
      " [-0.19297262 -0.13459758  0.39963729 ... -0.08481572 -0.05608417\n",
      "   0.1560857 ]\n",
      " ...\n",
      " [ 0.14011785  0.4214837   0.09682575 ... -0.0753007  -0.017634\n",
      "  -0.02661638]\n",
      " [ 0.13968546  0.42057459  0.10103664 ... -0.07589318 -0.01922203\n",
      "  -0.02745096]\n",
      " [ 0.13925479  0.41962258  0.10523824 ... -0.07647431 -0.02079454\n",
      "  -0.02831729]]\n"
     ]
    }
   ],
   "source": [
    "with h5py.File('./data_training_W.hdf5', 'r') as f:\n",
    "    #del f['cohVec_L_60_V_2000_beta_1000_dt_0010']\n",
    "    keys = list(f.keys())\n",
    "    print(keys)\n",
    "    print(f[keys[0]+'/X'][:])"
   ]
  },
  {
   "cell_type": "code",
   "execution_count": null,
   "id": "d9c68fb5",
   "metadata": {},
   "outputs": [],
   "source": []
  }
 ],
 "metadata": {
  "hide_input": false,
  "kernelspec": {
   "display_name": "Python 3 (ipykernel)",
   "language": "python",
   "name": "python3"
  },
  "language_info": {
   "codemirror_mode": {
    "name": "ipython",
    "version": 3
   },
   "file_extension": ".py",
   "mimetype": "text/x-python",
   "name": "python",
   "nbconvert_exporter": "python",
   "pygments_lexer": "ipython3",
   "version": "3.9.15"
  },
  "toc": {
   "base_numbering": 1,
   "nav_menu": {},
   "number_sections": true,
   "sideBar": true,
   "skip_h1_title": false,
   "title_cell": "Table of Contents",
   "title_sidebar": "Contents",
   "toc_cell": false,
   "toc_position": {},
   "toc_section_display": true,
   "toc_window_display": false
  }
 },
 "nbformat": 4,
 "nbformat_minor": 5
}
