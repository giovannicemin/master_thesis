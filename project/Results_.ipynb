{
 "cells": [
  {
   "cell_type": "markdown",
   "id": "ac6dbb4f",
   "metadata": {},
   "source": [
    "# RESULTS\n",
    "Here I report the resulsts of the training procedure for a single model. I just want to check if everything works as supposed to."
   ]
  },
  {
   "cell_type": "code",
   "execution_count": null,
   "id": "e626ed74",
   "metadata": {},
   "outputs": [],
   "source": [
    "import numpy as np\n",
    "import torch\n",
    "import pandas as pd\n",
    "import matplotlib.pyplot as plt\n",
    "\n",
    "from pathlib import Path\n",
    "\n",
    "%load_ext autoreload\n",
    "%autoreload 2"
   ]
  },
  {
   "cell_type": "code",
   "execution_count": null,
   "id": "483dafdc",
   "metadata": {},
   "outputs": [],
   "source": [
    "prms = {'L' : 10,                # length of spin chain\n",
    "        'sites' : [0, 1],        # sites of the subsystem S spins\n",
    "        'omega' : 1,             # Rabi frequency\n",
    "        'beta' : 0.01,           # inverse temperature\n",
    "        'potential' : 0.1,       # interaction of subsystem's S spins\n",
    "        'potential_' : None,     # interaction of bath spins, if None same as potential\n",
    "        'T' : 10,                # total time for the evolution\n",
    "        'dt' : 0.01,             # interval every which save the data\n",
    "        'cutoff' : 1e-8,         # cutoff for TEBD algorithm\n",
    "        'im_cutoff' : 1e-10,      # cutoff for TEBD algorithm, img t-e\n",
    "        'tolerance' : 1e-3,      # Trotter tolerance for TEBD algorithm\n",
    "        'verbose' : True,        # verbosity of the script\n",
    "        'num_traj' : 20,         # how many trajectories to do\n",
    "        # file to save the data\n",
    "        'fname' : './data/data_tebd.hdf5'\n",
    "        }\n",
    "\n",
    "ml_params = {'model_dir': './data/trained_model', # folder where the metadata of the training are stored\n",
    "             'validation_split' : 0.8,\n",
    "             'batch_size': 256,\n",
    "             #'batches_per_epoch': 256,\n",
    "             'n_epochs': 20,\n",
    "             'device': 'cpu',\n",
    "             'mlp_params': {\n",
    "                 'data_dim': 15,\n",
    "                 'layers': [],\n",
    "                 'nonlin': 'id',\n",
    "                 'output_nonlin': 'id',\n",
    "                 'dt' : 0.01\n",
    "                 },\n",
    "             }"
   ]
  },
  {
   "cell_type": "markdown",
   "id": "dc3eb386",
   "metadata": {},
   "source": [
    "### Generate some data"
   ]
  },
  {
   "cell_type": "code",
   "execution_count": null,
   "id": "cc5054d7",
   "metadata": {},
   "outputs": [],
   "source": [
    "### TEBD\n",
    "from models import SpinChain\n",
    "\n",
    "sys_prms = prms.copy()\n",
    "sys_prms.pop('sites')\n",
    "sys_prms.pop('potential_')\n",
    "sys_prms.pop('num_traj')\n",
    "sys_prms.pop('fname')\n",
    "sys_prms['verbose'] = False\n",
    "\n",
    "# evolution of the spin chain\n",
    "system = SpinChain(**sys_prms)\n",
    "system.thermalize()\n",
    "system.evolve(seed=33)\n",
    "\n",
    "results = system.return_results()"
   ]
  },
  {
   "cell_type": "code",
   "execution_count": null,
   "id": "cebc62a6",
   "metadata": {},
   "outputs": [],
   "source": [
    "### EXACT\n",
    "from models import SpinChain_ex\n",
    "\n",
    "sys_prms = prms.copy()\n",
    "sys_prms.pop('sites')\n",
    "sys_prms.pop('potential_')\n",
    "sys_prms.pop('num_traj')\n",
    "sys_prms.pop('fname')\n",
    "sys_prms['verbose'] = False\n",
    "sys_prms.pop('cutoff')\n",
    "sys_prms.pop('im_cutoff')\n",
    "sys_prms.pop('tolerance')\n",
    "sys_prms.pop('verbose')\n",
    "# I simulate for longer times, I use it later\n",
    "sys_prms['T'] = 20\n",
    "\n",
    "# evolution of the spin chain\n",
    "system_ex = SpinChain_ex(**sys_prms)\n",
    "system_ex.evolve(seed=33)\n",
    "\n",
    "results_ex = system_ex.return_results()"
   ]
  },
  {
   "cell_type": "code",
   "execution_count": null,
   "id": "2bb3ef4a",
   "metadata": {},
   "outputs": [],
   "source": [
    "t = np.arange(0, 10, prms['dt'])\n",
    "\n",
    "rows= 5\n",
    "columns = 3\n",
    "\n",
    "fig, axs = plt.subplots(rows, columns, figsize=(15,15), dpi=80)\n",
    "plt.setp(axs, xlim=(0,10), ylim=(-0.006, 0.006))\n",
    "\n",
    "for i in range(rows):\n",
    "    for j in range(columns):\n",
    "        #if i == rows-1 & j == columns-1:\n",
    "        #    continue\n",
    "        axs[i, j].plot(t, [results_ex[k][(columns-1)*i+j] for k in range(len(t))], label='Exact', color='k', linewidth=2)\n",
    "        axs[i, j].plot(t, [results[k][(columns-1)*i+j] for k in range(len(t))], label='TEBD', color='r')\n",
    "        axs[i, j].grid()\n",
    "\n",
    "#plt.legend()\n",
    "plt.grid()"
   ]
  },
  {
   "cell_type": "markdown",
   "id": "6723f888",
   "metadata": {},
   "source": [
    "### Import the model"
   ]
  },
  {
   "cell_type": "code",
   "execution_count": null,
   "id": "a1dff3c3",
   "metadata": {},
   "outputs": [],
   "source": [
    "from ml.classes import MLLP\n",
    "\n",
    "name = 'model_L_' + str(prms['L']) + \\\n",
    "        '_V_' + str(int(prms['potential']*1e3)).zfill(4) + \\\n",
    "        '_beta_' + str(int(prms['beta']*1e3)).zfill(4) + \\\n",
    "        '_dt_' + str(int(prms['dt']*1e3)).zfill(4) + \\\n",
    "        '_T' + str(int(prms['T']))\n",
    "\n",
    "my_file = Path('./data/trained_model/' + name)\n",
    "if not my_file.is_file():\n",
    "    raise Exception('File do not exists!')\n",
    "\n",
    "model = MLLP(ml_params['mlp_params']).to(ml_params['device'])\n",
    "model.load_state_dict(torch.load(my_file))"
   ]
  },
  {
   "cell_type": "code",
   "execution_count": null,
   "id": "9471f627",
   "metadata": {},
   "outputs": [],
   "source": [
    "for idx, m in enumerate(model.modules()):\n",
    "    print(idx, '->', m)"
   ]
  },
  {
   "cell_type": "code",
   "execution_count": null,
   "id": "81f3efb7",
   "metadata": {},
   "outputs": [],
   "source": [
    "print(model)"
   ]
  },
  {
   "cell_type": "markdown",
   "id": "17aa3450",
   "metadata": {},
   "source": [
    "### Generate the dynamics with the model"
   ]
  },
  {
   "cell_type": "code",
   "execution_count": null,
   "id": "a99a7ffb",
   "metadata": {},
   "outputs": [],
   "source": [
    "ml_dyn = model.generate_trajectory(v_0=np.array(results[0]), T=10)"
   ]
  },
  {
   "cell_type": "code",
   "execution_count": null,
   "id": "263b1292",
   "metadata": {},
   "outputs": [],
   "source": [
    "from ml.utils import calculate_error\n",
    "\n",
    "err = calculate_error(results_ml=ml_dyn, results_tebd=results, T=prms['T'], dt=prms['dt'])\n",
    "print(err)"
   ]
  },
  {
   "cell_type": "code",
   "execution_count": null,
   "id": "8c926fc0",
   "metadata": {},
   "outputs": [],
   "source": [
    "t = np.arange(0, 10, prms['dt'])\n",
    "\n",
    "rows= 5\n",
    "columns = 3\n",
    "\n",
    "fig, axs = plt.subplots(rows, columns, figsize=(15,15), dpi=80)\n",
    "plt.setp(axs, xlim=(0,10), ylim=(-0.006, 0.006))\n",
    "\n",
    "for i in range(rows):\n",
    "    for j in range(columns):\n",
    "        #if i == rows-1 & j == columns-1:\n",
    "        #    continue\n",
    "        axs[i, j].plot(t, [results[k][(columns-1)*i+j] for k in range(len(t))], label='Simulation', color='k')\n",
    "        axs[i, j].plot(t, [ml_dyn[k][(columns-1)*i+j] for k in range(len(t))], label='ml', color='r', linestyle='--')\n",
    "        axs[i, j].grid()\n",
    "axs[4, 2].grid()\n",
    "#plt.legend()\n",
    "plt.grid()\n",
    "\n",
    "fig = plt.gcf()\n",
    "plt.show()\n",
    "\n",
    "#fig.savefig('../pictures/first_model.pdf', dpi=80)"
   ]
  },
  {
   "cell_type": "markdown",
   "id": "ab9f675c",
   "metadata": {},
   "source": [
    "## Further times"
   ]
  },
  {
   "cell_type": "code",
   "execution_count": null,
   "id": "d6d8a206",
   "metadata": {},
   "outputs": [],
   "source": [
    "ml_dyn_long = model.generate_trajectory(v_0=np.array(results[0]), T=20)"
   ]
  },
  {
   "cell_type": "code",
   "execution_count": null,
   "id": "e73a3fa5",
   "metadata": {},
   "outputs": [],
   "source": [
    "err = calculate_error(results_ml=ml_dyn_long, results_tebd=results_ex, T=20, dt=prms['dt'])\n",
    "print(err)"
   ]
  },
  {
   "cell_type": "code",
   "execution_count": null,
   "id": "a925c767",
   "metadata": {},
   "outputs": [],
   "source": [
    "t = np.arange(0, 20, prms['dt'])\n",
    "\n",
    "rows= 5\n",
    "columns = 3\n",
    "\n",
    "fig, axs = plt.subplots(rows, columns, figsize=(15,15), dpi=80)\n",
    "plt.setp(axs, xlim=(0,20), ylim=(-0.006, 0.006))\n",
    "\n",
    "for i in range(rows):\n",
    "    for j in range(columns):\n",
    "        #if i == rows-1 & j == columns-1:\n",
    "        #    continue\n",
    "        axs[i, j].plot(t, [results_ex[k][(columns-1)*i+j] for k in range(len(t))], label='Simulation', color='k')\n",
    "        axs[i, j].plot(t, [ml_dyn_long[k][(columns-1)*i+j] for k in range(len(t))], label='ml', color='r', linestyle='--')\n",
    "        axs[i, j].grid()\n",
    "axs[4, 2].grid()\n",
    "#plt.legend()\n",
    "plt.grid()\n",
    "\n",
    "fig = plt.gcf()\n",
    "plt.show()\n",
    "\n",
    "#fig.savefig('../pictures/first_model_further_times.pdf', dpi=80)"
   ]
  },
  {
   "cell_type": "code",
   "execution_count": null,
   "id": "0886e24b",
   "metadata": {},
   "outputs": [],
   "source": []
  },
  {
   "cell_type": "code",
   "execution_count": null,
   "id": "0930a595",
   "metadata": {},
   "outputs": [],
   "source": []
  },
  {
   "cell_type": "code",
   "execution_count": null,
   "id": "5c246a1a",
   "metadata": {},
   "outputs": [],
   "source": []
  },
  {
   "cell_type": "code",
   "execution_count": null,
   "id": "4f0f286b",
   "metadata": {},
   "outputs": [],
   "source": []
  },
  {
   "cell_type": "code",
   "execution_count": null,
   "id": "442425a3",
   "metadata": {},
   "outputs": [],
   "source": []
  }
 ],
 "metadata": {
  "kernelspec": {
   "display_name": "Python 3 (ipykernel)",
   "language": "python",
   "name": "python3"
  },
  "language_info": {
   "codemirror_mode": {
    "name": "ipython",
    "version": 3
   },
   "file_extension": ".py",
   "mimetype": "text/x-python",
   "name": "python",
   "nbconvert_exporter": "python",
   "pygments_lexer": "ipython3",
   "version": "3.9.13"
  }
 },
 "nbformat": 4,
 "nbformat_minor": 5
}
