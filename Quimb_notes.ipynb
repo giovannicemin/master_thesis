{
 "cells": [
  {
   "cell_type": "markdown",
   "id": "033b84a7",
   "metadata": {},
   "source": [
    "# Spin chain with PBC"
   ]
  },
  {
   "cell_type": "markdown",
   "id": "3b3ccc91",
   "metadata": {},
   "source": [
    "Using TEBD algorithm to simulate the time evolution of a system."
   ]
  },
  {
   "cell_type": "code",
   "execution_count": 3,
   "id": "432a9676",
   "metadata": {},
   "outputs": [],
   "source": [
    "import quimb as qu\n",
    "import quimb.tensor as qtn\n",
    "import numpy as np\n",
    "import sys"
   ]
  },
  {
   "cell_type": "code",
   "execution_count": 4,
   "id": "7561d2bd",
   "metadata": {},
   "outputs": [],
   "source": [
    "### PROBLEM PARAMETERS\n",
    "L = 10       # chain length\n",
    "omega = 1    # Rabi frequency\n",
    "V = 1        # bath spins interaction strength\n",
    "V_ = 1       # subsystem interaction strength\n",
    "beta = 0.1   # inverse temperature for the bath\n",
    "\n",
    "dims = [2]*L # overall space of L qbits"
   ]
  },
  {
   "cell_type": "markdown",
   "id": "fdc164de",
   "metadata": {},
   "source": [
    "### Thermal bath\n",
    "$$\\newcommand{\\ket}[1]{\\left|{#1}\\right\\rangle}\n",
    "\\newcommand{\\bra}[1]{\\left\\langle{#1}\\right|}\n",
    "\\newcommand{\\Tr}{\\text{Tr}}\n",
    "$$\n",
    "\n",
    "I need to create the bath B at a given teperature $\\beta$ \n",
    "$$\\rho=\\frac{e^{-\\beta H}}{Z}$$\n",
    "exploiting an ancillary system Q.\n",
    "\n",
    "I start by creating the purification of the $\\beta=0$ system\n",
    "$$\\rho_0 = \\bigg( \\frac{1}{d} \\hat{I} \\bigg)^{\\otimes L}$$\n",
    "where\n",
    "$$\\frac{1}{d}\\hat{I} = \\Tr_Q \\bigg[ \\bigg( \\sum_{\\sigma} \\frac{1}{\\sqrt{d}}\\ket{\\sigma}_{B}\\ket{\\sigma}_{Q} \\bigg) \\bigg( \\sum_{\\sigma} \\frac{1}{\\sqrt{d}}\\bra{\\sigma}_{B}\\bra{\\sigma}_{Q} \\bigg) \\bigg]$$."
   ]
  },
  {
   "cell_type": "code",
   "execution_count": 1,
   "id": "b0220943",
   "metadata": {},
   "outputs": [],
   "source": [
    "### CREATING THE PURIFICATION OF $\\beta=0$ STATE"
   ]
  },
  {
   "cell_type": "code",
   "execution_count": null,
   "id": "a54b1318",
   "metadata": {},
   "outputs": [],
   "source": []
  },
  {
   "cell_type": "code",
   "execution_count": 5,
   "id": "ff11972b",
   "metadata": {},
   "outputs": [],
   "source": [
    "### BUILDING THE HAMILTONIAN(s)\n",
    "\n",
    "# fisrt I build the operators\n",
    "pauli_x = [qu.ikron(qu.pauli('X'), dims, i) for i in range(L)]\n",
    "\n",
    "n_op = (1 + qu.pauli('Z'))/2\n",
    "int_nn = [qu.ikron(n_op, dims, inds=[i,i+1]) for i in range(L-1)]\n",
    "int_nn = qu.ikron(n_op, dims, inds=[0,L-1]) + int_nn # the first element is the 1-L interaction\n",
    "\n",
    "# let me first build the bath hamiltonian\n",
    "H_B = (omega/2)*sum(pauli_x[2:])\n",
    "H_B += V*sum(int_nn[3:])\n",
    "\n",
    "# and then add the rest\n",
    "H = H_B + (omega/2)*sum(pauli_x[:2])\n",
    "H += V_*sum(int_nn[:3])"
   ]
  },
  {
   "cell_type": "code",
   "execution_count": 53,
   "id": "ab0cfe11",
   "metadata": {},
   "outputs": [],
   "source": [
    "### BUILDING THE SPIN CHAIN\n",
    "\n",
    "# generating a random density matrix\n",
    "rho_S = qu.gen.rand.rand_rho(4)\n",
    "\n",
    "# thermal state for the bath\n",
    "rho_B = qu.gen.states.thermal_state(H_B, beta)\n"
   ]
  },
  {
   "cell_type": "code",
   "execution_count": 6,
   "id": "5d623f2b",
   "metadata": {},
   "outputs": [
    {
     "data": {
      "text/plain": [
       "[[[2.  +0.j 0.5 +0.j 0.  +0.j ... 0.  +0.j 0.  +0.j 0.  +0.j]\n",
       "  [0.5 +0.j 1.  +0.j 0.  +0.j ... 0.  +0.j 0.  +0.j 0.  +0.j]\n",
       "  [0.  +0.j 0.  +0.j 2.  +0.j ... 0.  +0.j 0.  +0.j 0.  +0.j]\n",
       "  ...\n",
       "  [0.  +0.j 0.  +0.j 0.  +0.j ... 0.  +0.j 0.  +0.j 0.  +0.j]\n",
       "  [0.  +0.j 0.  +0.j 0.  +0.j ... 0.  +0.j 0.  +0.j 0.  +0.j]\n",
       "  [0.  +0.j 0.  +0.j 0.  +0.j ... 0.  +0.j 0.  +0.j 0.  +0.j]]\n",
       "\n",
       " [[2.  +0.j 0.5 +0.j 0.  +0.j ... 0.  +0.j 0.  +0.j 0.  +0.j]\n",
       "  [0.5 +0.j 1.  +0.j 0.  +0.j ... 0.  +0.j 0.  +0.j 0.  +0.j]\n",
       "  [0.  +0.j 0.  +0.j 2.  +0.j ... 0.  +0.j 0.  +0.j 0.  +0.j]\n",
       "  ...\n",
       "  [0.  +0.j 0.  +0.j 0.  +0.j ... 0.  +0.j 0.  +0.j 0.  +0.j]\n",
       "  [0.  +0.j 0.  +0.j 0.  +0.j ... 0.  +0.j 0.  +0.j 0.  +0.j]\n",
       "  [0.  +0.j 0.  +0.j 0.  +0.j ... 0.  +0.j 0.  +0.j 0.  +0.j]]\n",
       "\n",
       " [[2.  +0.j 0.5 +0.j 0.  +0.j ... 0.  +0.j 0.  +0.j 0.  +0.j]\n",
       "  [0.5 +0.j 1.  +0.j 0.  +0.j ... 0.  +0.j 0.  +0.j 0.  +0.j]\n",
       "  [0.  +0.j 0.  +0.j 2.  +0.j ... 0.  +0.j 0.  +0.j 0.  +0.j]\n",
       "  ...\n",
       "  [0.  +0.j 0.  +0.j 0.  +0.j ... 0.  +0.j 0.  +0.j 0.  +0.j]\n",
       "  [0.  +0.j 0.  +0.j 0.  +0.j ... 0.  +0.j 0.  +0.j 0.  +0.j]\n",
       "  [0.  +0.j 0.  +0.j 0.  +0.j ... 0.  +0.j 0.  +0.j 0.  +0.j]]\n",
       "\n",
       " ...\n",
       "\n",
       " [[2.  +0.j 0.5 +0.j 0.  +0.j ... 0.  +0.j 0.  +0.j 0.  +0.j]\n",
       "  [0.5 +0.j 1.  +0.j 0.  +0.j ... 0.  +0.j 0.  +0.j 0.  +0.j]\n",
       "  [0.  +0.j 0.  +0.j 2.  +0.j ... 0.  +0.j 0.  +0.j 0.  +0.j]\n",
       "  ...\n",
       "  [0.  +0.j 0.  +0.j 0.  +0.j ... 0.  +0.j 0.  +0.j 0.  +0.j]\n",
       "  [0.  +0.j 0.  +0.j 0.  +0.j ... 0.  +0.j 0.  +0.j 0.  +0.j]\n",
       "  [0.  +0.j 0.  +0.j 0.  +0.j ... 0.  +0.j 0.  +0.j 0.  +0.j]]\n",
       "\n",
       " [[2.  +0.j 0.5 +0.j 0.5 +0.j ... 0.  +0.j 0.  +0.j 0.  +0.j]\n",
       "  [0.5 +0.j 1.  +0.j 0.  +0.j ... 0.  +0.j 0.  +0.j 0.  +0.j]\n",
       "  [0.5 +0.j 0.  +0.j 1.  +0.j ... 0.  +0.j 0.  +0.j 0.  +0.j]\n",
       "  ...\n",
       "  [0.  +0.j 0.  +0.j 0.  +0.j ... 0.  +0.j 0.  +0.j 0.  +0.j]\n",
       "  [0.  +0.j 0.  +0.j 0.  +0.j ... 0.  +0.j 0.  +0.j 0.  +0.j]\n",
       "  [0.  +0.j 0.  +0.j 0.  +0.j ... 0.  +0.j 0.  +0.j 0.  +0.j]]\n",
       "\n",
       " [[2.  +0.j 1.  +0.j 0.5 +0.j ... 0.  +0.j 0.  +0.j 0.  +0.j]\n",
       "  [1.  +0.j 0.  +0.j 0.25+0.j ... 0.  +0.j 0.  +0.j 0.  +0.j]\n",
       "  [0.5 +0.j 0.25+0.j 1.  +0.j ... 0.  +0.j 0.  +0.j 0.  +0.j]\n",
       "  ...\n",
       "  [0.  +0.j 0.  +0.j 0.  +0.j ... 0.  +0.j 0.25+0.j 0.  +0.j]\n",
       "  [0.  +0.j 0.  +0.j 0.  +0.j ... 0.25+0.j 0.  +0.j 0.  +0.j]\n",
       "  [0.  +0.j 0.  +0.j 0.  +0.j ... 0.  +0.j 0.  +0.j 0.  +0.j]]]"
      ]
     },
     "execution_count": 6,
     "metadata": {},
     "output_type": "execute_result"
    }
   ],
   "source": [
    "int_nn"
   ]
  },
  {
   "cell_type": "code",
   "execution_count": null,
   "id": "3676161a",
   "metadata": {},
   "outputs": [],
   "source": []
  },
  {
   "cell_type": "code",
   "execution_count": null,
   "id": "e66dbd0e",
   "metadata": {},
   "outputs": [],
   "source": []
  },
  {
   "cell_type": "code",
   "execution_count": null,
   "id": "ac0ad7ee",
   "metadata": {},
   "outputs": [],
   "source": []
  },
  {
   "cell_type": "code",
   "execution_count": 1,
   "id": "d1cc1f78",
   "metadata": {},
   "outputs": [],
   "source": [
    "from quimb import *"
   ]
  },
  {
   "cell_type": "markdown",
   "id": "c0d242fd",
   "metadata": {},
   "source": [
    "Simple conversion of data into Quimb objects."
   ]
  },
  {
   "cell_type": "code",
   "execution_count": 2,
   "id": "b03d3940",
   "metadata": {},
   "outputs": [],
   "source": [
    "data = [1, 2j, -3]"
   ]
  },
  {
   "cell_type": "markdown",
   "id": "2e08e14e",
   "metadata": {},
   "source": [
    "### Ket"
   ]
  },
  {
   "cell_type": "code",
   "execution_count": 3,
   "id": "b9d9770c",
   "metadata": {},
   "outputs": [
    {
     "data": {
      "text/plain": [
       "[[ 1.+0.j]\n",
       " [ 0.+2.j]\n",
       " [-3.+0.j]]"
      ]
     },
     "execution_count": 3,
     "metadata": {},
     "output_type": "execute_result"
    }
   ],
   "source": [
    "qu(data, qtype='ket')"
   ]
  },
  {
   "cell_type": "markdown",
   "id": "e6352d9e",
   "metadata": {},
   "source": [
    "### Bra"
   ]
  },
  {
   "cell_type": "code",
   "execution_count": 4,
   "id": "4b76ceb7",
   "metadata": {},
   "outputs": [
    {
     "data": {
      "text/plain": [
       "[[ 1.-0.j  0.-2.j -3.-0.j]]"
      ]
     },
     "execution_count": 4,
     "metadata": {},
     "output_type": "execute_result"
    }
   ],
   "source": [
    "qu(data, qtype='bra') # it conjugates the data!"
   ]
  },
  {
   "cell_type": "markdown",
   "id": "40316b7d",
   "metadata": {},
   "source": [
    "### Density operator"
   ]
  },
  {
   "cell_type": "code",
   "execution_count": 5,
   "id": "53bc76bb",
   "metadata": {},
   "outputs": [
    {
     "data": {
      "text/plain": [
       "[[ 1.+0.j  0.-2.j -3.-0.j]\n",
       " [ 0.+2.j  4.+0.j  0.-6.j]\n",
       " [-3.+0.j  0.+6.j  9.+0.j]]"
      ]
     },
     "execution_count": 5,
     "metadata": {},
     "output_type": "execute_result"
    }
   ],
   "source": [
    "qu(data, qtype='dop')\n",
    "#qu(data, qtype='dop', sparse=True)"
   ]
  },
  {
   "cell_type": "markdown",
   "id": "f572edb0",
   "metadata": {},
   "source": [
    "Some basic operations in Quimb"
   ]
  },
  {
   "cell_type": "code",
   "execution_count": 6,
   "id": "ea13e645",
   "metadata": {},
   "outputs": [
    {
     "data": {
      "text/plain": [
       "[[1.+0.j]]"
      ]
     },
     "execution_count": 6,
     "metadata": {},
     "output_type": "execute_result"
    }
   ],
   "source": [
    "psi = up()\n",
    "psi.H       # hermitian conjugate\n",
    "psi.H @ psi #inner product"
   ]
  },
  {
   "cell_type": "code",
   "execution_count": 7,
   "id": "448c03d7",
   "metadata": {},
   "outputs": [
    {
     "data": {
      "text/plain": [
       "1.0"
      ]
     },
     "execution_count": 7,
     "metadata": {},
     "output_type": "execute_result"
    }
   ],
   "source": [
    "#better to use\n",
    "expec(psi, psi)"
   ]
  },
  {
   "cell_type": "code",
   "execution_count": 8,
   "id": "1fe43dda",
   "metadata": {},
   "outputs": [
    {
     "data": {
      "text/plain": [
       "0j"
      ]
     },
     "execution_count": 8,
     "metadata": {},
     "output_type": "execute_result"
    }
   ],
   "source": [
    "X = pauli('X')\n",
    "expec(psi, X) # operator expectation value"
   ]
  },
  {
   "cell_type": "markdown",
   "id": "ce0cf2fb",
   "metadata": {},
   "source": [
    "## Tensoring"
   ]
  },
  {
   "cell_type": "markdown",
   "id": "c3dd8ce9",
   "metadata": {},
   "source": [
    "The tensor product can be done using kron() or the & overloead.\n",
    "\n",
    "To sandwich operators with many Id one uses ikron()\n",
    "\n",
    "For mor advanced stuff use pkron()"
   ]
  },
  {
   "cell_type": "code",
   "execution_count": 12,
   "id": "66c60e2f",
   "metadata": {},
   "outputs": [
    {
     "data": {
      "text/plain": [
       "(1024, 1024)"
      ]
     },
     "execution_count": 12,
     "metadata": {},
     "output_type": "execute_result"
    }
   ],
   "source": [
    "dims = [2]*10\n",
    "X = pauli('X')\n",
    "IIIXXIIIII = ikron(X, dims, inds=[3, 4])\n",
    "IIIXXIIIII.shape"
   ]
  },
  {
   "cell_type": "code",
   "execution_count": 10,
   "id": "0c00a199",
   "metadata": {},
   "outputs": [
    {
     "data": {
      "text/plain": [
       "[2, 2, 2, 2, 2, 2, 2, 2, 2, 2]"
      ]
     },
     "execution_count": 10,
     "metadata": {},
     "output_type": "execute_result"
    }
   ],
   "source": [
    "dims"
   ]
  },
  {
   "cell_type": "code",
   "execution_count": null,
   "id": "458968a0",
   "metadata": {},
   "outputs": [],
   "source": []
  }
 ],
 "metadata": {
  "kernelspec": {
   "display_name": "Python 3 (ipykernel)",
   "language": "python",
   "name": "python3"
  },
  "language_info": {
   "codemirror_mode": {
    "name": "ipython",
    "version": 3
   },
   "file_extension": ".py",
   "mimetype": "text/x-python",
   "name": "python",
   "nbconvert_exporter": "python",
   "pygments_lexer": "ipython3",
   "version": "3.9.13"
  }
 },
 "nbformat": 4,
 "nbformat_minor": 5
}
