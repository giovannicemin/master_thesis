{
 "cells": [
  {
   "cell_type": "markdown",
   "id": "46dd18fb",
   "metadata": {},
   "source": [
    "# Consistency check 3\n",
    "\n",
    "In this file I check the consistency of the thermalization. I evolve in an exact manner the thermal state and do the same with the TEDB algorithm."
   ]
  },
  {
   "cell_type": "code",
   "execution_count": 1,
   "id": "4c2ab51c",
   "metadata": {},
   "outputs": [],
   "source": [
    "import numpy as np\n",
    "import matplotlib.pyplot as plt\n",
    "import time\n",
    "\n",
    "import quimb as qu\n",
    "import quimb.tensor as qtn\n",
    "import quimb.linalg.base_linalg as la\n",
    "from itertools import product"
   ]
  },
  {
   "cell_type": "code",
   "execution_count": 2,
   "id": "a51ac082",
   "metadata": {},
   "outputs": [],
   "source": [
    "### PROBLEM PARAMETERS\n",
    "L = 7         # chain length\n",
    "omega = 1     # Rabi frequency\n",
    "V = 0.1       # B-S interaction strength\n",
    "V_ = 1        # bath interaction strength\n",
    "beta = 0.1    # inverse temperature for the bath\n",
    "\n",
    "T = 10        # total time of the simulation\n",
    "dt = 0.1      # time step for coherece vector time evolution\n",
    "\n",
    "cutoff = 1e-8 # cutoff for TEBD algorithm\n",
    "\n",
    "### USEFULL VARIABLES\n",
    "dims = [2]*L # overall space of L qbits\n",
    "\n",
    "I = qu.pauli('I')\n",
    "X = qu.pauli('Y')\n",
    "Z = qu.pauli('Z')"
   ]
  },
  {
   "cell_type": "code",
   "execution_count": 3,
   "id": "a74bc511",
   "metadata": {},
   "outputs": [],
   "source": [
    "def isherm(M):\n",
    "    return (M.H - M == 0).all()"
   ]
  },
  {
   "cell_type": "markdown",
   "id": "f25b0b4c",
   "metadata": {},
   "source": [
    "### Exact simulation"
   ]
  },
  {
   "cell_type": "code",
   "execution_count": 4,
   "id": "ffa678ac",
   "metadata": {},
   "outputs": [
    {
     "name": "stdout",
     "output_type": "stream",
     "text": [
      "Building Hamiltonian for L=7\n",
      "done :)\n"
     ]
    }
   ],
   "source": [
    "### BUILDING THE HAMILTONIAN\n",
    "\n",
    "# fisrt I build the operators\n",
    "nn_op = (I + Z)/2 & (I + Z)/2\n",
    "\n",
    "print(f'Building Hamiltonian for L={L}')\n",
    "# the hamiltonian\n",
    "H_Rabi = sum(qu.ikron(X, dims, i) for i in range(L))\n",
    "H_int_b = sum(qu.ikron(nn_op, dims, (i, i+1)) for i in range(2, L-1))\n",
    "H_int_s = sum(qu.pkron(nn_op, dims, (i, j)) for i,j in zip([L-1,0,1], [0,1,2]))\n",
    "\n",
    "H = (omega/2)*H_Rabi + V_*H_int_b + V*H_int_s\n",
    "\n",
    "# diagonalization\n",
    "e, U = la.eig(H, isherm=True)\n",
    "\n",
    "print('done :)')"
   ]
  },
  {
   "cell_type": "code",
   "execution_count": 5,
   "id": "1e490d6a",
   "metadata": {},
   "outputs": [
    {
     "name": "stdout",
     "output_type": "stream",
     "text": [
      "Initial state: random subsystem and thermal bath\n",
      "\n",
      "finished Time = 10\n",
      "done\n"
     ]
    }
   ],
   "source": [
    "### BUILDING THE OBSERVABLES\n",
    "\n",
    "observables_ex = {}\n",
    "results_ex = {}\n",
    "for ob1, ob2 in product(['I', 'X', 'Y', 'Z'], repeat=2):\n",
    "    key = ob1 + '1' + ob2 + '2'\n",
    "    results_ex[key] = []\n",
    "    observables_ex[key] = qu.ikron(qu.pauli(ob1)&qu.pauli(ob2), dims, (0, 1))\n",
    "\n",
    "# dropping the identity\n",
    "observables_ex.pop('I1I2')\n",
    "results_ex.pop('I1I2')\n",
    "\n",
    "\n",
    "### INITIAL CONDITIONS\n",
    "print('Initial state: random subsystem and thermal bath\\n')\n",
    "# creation of the Hamiltonian of the Bath\n",
    "#dims_th = [2]*(L-2)\n",
    "#H_Rabi = sum(qu.ikron(X, dims_th, i) for i in range(L-2))\n",
    "#H_int_b = sum(qu.ikron(nn_op, dims_th, (i, i+1)) for i in range(L-2-1))\n",
    "\n",
    "#H_bath = (omega/2)*H_Rabi + V_*H_int_b\n",
    "\n",
    "# thermal state of the bath\n",
    "#rho_bath = qu.gen.states.thermal_state(H_bath, beta)\n",
    "\n",
    "# local state |up up>\n",
    "#rho_loc = np.array([[1, 0, 0, 0],\n",
    "#                    [0, 0, 0, 0],\n",
    "#                    [0, 0, 0, 0],\n",
    "#                    [0, 0, 0, 0]])\n",
    "\n",
    "# density matrix of the full system\n",
    "#rho = qu.kron(rho_loc, rho_bath)\n",
    "\n",
    "#rho = la.expm(-beta*H)\n",
    "#rho /= rho.trace()\n",
    "\n",
    "rho = qu.gen.states.thermal_state(H, beta)\n",
    "\n",
    "# apply a random operator to the first two spins\n",
    "rand1 = qu.gen.rand.rand_uni(2)\n",
    "rand2 = qu.gen.rand.rand_uni(2)\n",
    "U_rand = qu.ikron(rand1 & rand2, dims, (0, 1))\n",
    "#rho = U_rand @ rho @ U_rand.H\n",
    "\n",
    "### THE SIMULATION\n",
    "\n",
    "# smarter way to calculate the coherence vector:\n",
    "rho_tilde = np.conj(U.T) @ rho @ U    \n",
    "\n",
    "pauli_tilde = {}\n",
    "t_ex = []\n",
    "for key in observables_ex.keys():\n",
    "    pauli_tilde[key] = np.conj(U.T) @ observables_ex[key] @ U\n",
    "    \n",
    "for i in range(0, int(T/dt)):\n",
    "    ee = np.exp(-1j*e*dt*i)  # diagonalized hamiltonian\n",
    "    rho_in = ee.reshape(ee.shape[0],1)*rho_tilde*np.conj(ee)\n",
    "        \n",
    "    trace = lambda key: ( (pauli_tilde[key]@rho_in).trace() / rho_tilde.trace()).real\n",
    "    for key in results_ex.keys():\n",
    "        results_ex[key].append(trace(key))\n",
    "        \n",
    "    t_ex.append( dt*i )\n",
    "        \n",
    "print(\"finished Time = %s\" % T)\n",
    "    \n",
    "print('done')"
   ]
  },
  {
   "cell_type": "code",
   "execution_count": 6,
   "id": "181bd64e",
   "metadata": {},
   "outputs": [
    {
     "data": {
      "image/png": "[encoded data removed]",
      "text/plain": [
       "<Figure size 640x480 with 1 Axes>"
      ]
     },
     "metadata": {},
     "output_type": "display_data"
    }
   ],
   "source": [
    "keys = results_ex.keys()\n",
    "keys = ['I1Z2', 'Z1I2', 'Z1Z2', 'Z1X2']\n",
    "\n",
    "for key in keys:\n",
    "    plt.plot(t_ex, results_ex[key], label=key)\n",
    "plt.legend()\n",
    "plt.grid()"
   ]
  },
  {
   "cell_type": "markdown",
   "id": "defe8a12",
   "metadata": {},
   "source": [
    "### TEBD"
   ]
  },
  {
   "cell_type": "code",
   "execution_count": 67,
   "id": "88e500b6",
   "metadata": {},
   "outputs": [
    {
     "name": "stdout",
     "output_type": "stream",
     "text": [
      "Building Hamiltonian for L=7 \n",
      "\n",
      "Building the spin chain \n",
      "\n",
      " 1 1 1 1 1 1 1 1 \n",
      "+─●─●─●─●─●─●─●─+\n",
      "  │ │ │ │ │ │ │  \n"
     ]
    }
   ],
   "source": [
    "### BUILDING THE HAMILTONIAN for the thermalization\n",
    "\n",
    "O_Rabi = (omega/2)*X & I\n",
    "N_sys  = 0.5*V*(I + Z)/2 & I\n",
    "N_bath = 0.5*V_*(I + Z)/2 & I\n",
    "\n",
    "print(f'Building Hamiltonian for L={L} \\n')\n",
    "# the hamiltonian\n",
    "H1 = {i: O_Rabi for i in range(L)}\n",
    "H2 = {None: N_bath&N_bath, (L-1, 0): N_sys&N_sys, (0, 1): N_sys&N_sys, (1, 2): N_sys&N_sys}\n",
    "\n",
    "H_th = qtn.LocalHam1D(L=L, H2=H2, H1=H1, cyclic=True)\n",
    "\n",
    "### BUILDING THE SPIN CHAIN\n",
    "\n",
    "print('Building the spin chain \\n')\n",
    "B = np.array([1, 0, 0, 1])/np.sqrt(2)\n",
    "arrays = [B for i in range(L)]\n",
    "\n",
    "psi = qtn.MPS_product_state(arrays, cyclic=True)#, site_ind_id='s{}')\n",
    "\n",
    "psi.show()"
   ]
  },
  {
   "cell_type": "code",
   "execution_count": 68,
   "id": "e1578f9e",
   "metadata": {},
   "outputs": [
    {
     "name": "stdout",
     "output_type": "stream",
     "text": [
      "Check for the normalization: 0.9999999999999984\n",
      "\n"
     ]
    }
   ],
   "source": [
    "print(f'Check for the normalization: {psi.H @ psi}\\n')"
   ]
  },
  {
   "cell_type": "code",
   "execution_count": 69,
   "id": "353e365c",
   "metadata": {},
   "outputs": [
    {
     "name": "stdout",
     "output_type": "stream",
     "text": [
      "Imaginary time evolution \n",
      "\n"
     ]
    },
    {
     "name": "stderr",
     "output_type": "stream",
     "text": [
      "t=0.05, max-bond=4: 100%|##################################################################################################################################################################################################| 100/100 [00:00<00:00, 4586.39%/s]"
     ]
    },
    {
     "name": "stdout",
     "output_type": "stream",
     "text": [
      " 2 2 2 3 3 3 3 2 \n",
      "+─●─●─●─●─●─●─●─+\n",
      "  │ │ │ │ │ │ │  \n"
     ]
    },
    {
     "name": "stderr",
     "output_type": "stream",
     "text": [
      "\n"
     ]
    }
   ],
   "source": [
    "### IMAGINARY TIME EVOLUTION\n",
    "\n",
    "print('Imaginary time evolution \\n')\n",
    "\n",
    "# create the object\n",
    "tebd_th = my_TEBD(psi, H_th, imag=True)\n",
    "\n",
    "# cutoff for truncating after each infinitesimal-time operator application\n",
    "tebd_th.split_opts['cutoff'] = cutoff\n",
    "\n",
    "tebd_th.update_to(beta/2, tol=1e-5)\n",
    "psi_th = tebd_th.pt\n",
    "\n",
    "psi_th.show() "
   ]
  },
  {
   "cell_type": "code",
   "execution_count": 42,
   "id": "279768ee",
   "metadata": {},
   "outputs": [
    {
     "name": "stdout",
     "output_type": "stream",
     "text": [
      "Imaginary time evolution \n",
      "\n"
     ]
    },
    {
     "name": "stderr",
     "output_type": "stream",
     "text": [
      "t=0.1, max-bond=4: 100%|###################################################################################################################################################################################################| 100/100 [00:00<00:00, 3108.25%/s]\n"
     ]
    }
   ],
   "source": [
    "### IMAGINARY TIME EVOLUTION\n",
    "\n",
    "print('Imaginary time evolution \\n')\n",
    "\n",
    "# create the object\n",
    "tebd_th = qtn.TEBD(psi, H_th, imag=True)\n",
    "\n",
    "# cutoff for truncating after each infinitesimal-time operator application\n",
    "tebd_th.split_opts['cutoff'] = cutoff\n",
    "\n",
    "tebd_th.update_to(beta, tol=1e-5)\n",
    "psi_th_beta = tebd_th.pt"
   ]
  },
  {
   "cell_type": "code",
   "execution_count": 70,
   "id": "1f9e7705",
   "metadata": {},
   "outputs": [
    {
     "name": "stdout",
     "output_type": "stream",
     "text": [
      "Check for the normalization beta/2: 0.984036725212552\n",
      "\n",
      "Check for the normalization beta: 0.5721398240588361\n",
      "\n"
     ]
    }
   ],
   "source": [
    "print(f'Check for the normalization beta/2: {psi_th.H @ psi_th}\\n')\n",
    "print(f'Check for the normalization beta: {psi.H @ psi_th_beta}\\n')\n",
    "#print(f'Check for the normalization beta: {psi.H @ psi_prova}\\n')"
   ]
  },
  {
   "cell_type": "code",
   "execution_count": 59,
   "id": "f6fa5bef",
   "metadata": {},
   "outputs": [
    {
     "ename": "AttributeError",
     "evalue": "'numpy.complex128' object has no attribute 'H'",
     "output_type": "error",
     "traceback": [
      "\u001b[0;31m---------------------------------------------------------------------------\u001b[0m",
      "\u001b[0;31mAttributeError\u001b[0m                            Traceback (most recent call last)",
      "Input \u001b[0;32mIn [59]\u001b[0m, in \u001b[0;36m<cell line: 2>\u001b[0;34m()\u001b[0m\n\u001b[1;32m      1\u001b[0m psi_th \u001b[38;5;241m=\u001b[39m psi_th\u001b[38;5;241m.\u001b[39mnormalize()\n\u001b[0;32m----> 2\u001b[0m \u001b[38;5;28mprint\u001b[39m(\u001b[38;5;124mf\u001b[39m\u001b[38;5;124m'\u001b[39m\u001b[38;5;124mCheck for the normalization beta/2: \u001b[39m\u001b[38;5;132;01m{\u001b[39;00mpsi_th\u001b[38;5;241m.\u001b[39mH \u001b[38;5;241m@\u001b[39m psi_th\u001b[38;5;132;01m}\u001b[39;00m\u001b[38;5;130;01m\\n\u001b[39;00m\u001b[38;5;124m'\u001b[39m)\n",
      "\u001b[0;31mAttributeError\u001b[0m: 'numpy.complex128' object has no attribute 'H'"
     ]
    }
   ],
   "source": [
    "psi_th = psi_th.normalize()\n",
    "print(f'Check for the normalization beta/2: {psi_th.H @ psi_th}\\n')"
   ]
  },
  {
   "cell_type": "code",
   "execution_count": 26,
   "id": "03493daa",
   "metadata": {},
   "outputs": [
    {
     "name": "stdout",
     "output_type": "stream",
     "text": [
      "Building Hamiltonian for L=7 \n",
      "\n"
     ]
    }
   ],
   "source": [
    "### BUILDING THE HAMILTONIAN for the thermalization\n",
    "\n",
    "O_Rabi = (omega/2)*X & I\n",
    "N_sys  = 0.5*V*(I + Z)/2 & I\n",
    "N_bath = 0.5*V_*(I + Z)/2 & I\n",
    "\n",
    "print(f'Building Hamiltonian for L={L} \\n')\n",
    "# the hamiltonian\n",
    "H1 = {i: O_Rabi for i in range(L)}\n",
    "#H2 = {None: N_bath&N_bath, (L-1, 0): N_sys&N_sys, (0, 1): N_sys&N_sys, (1, 2): N_sys&N_sys}\n",
    "H2 = {(i, i+1): N_bath for i in range(2, L-2)} \n",
    "H2[(L-1, 0)] = N_sys\n",
    "H2[(0, 1)] = N_sys\n",
    "H2[(1, 2)] = N_sys\n",
    "\n",
    "#H_th = qtn.LocalHam1D(L=L, H2=H2, H1=H1, cyclic=True)\n",
    "\n",
    "B = np.array([1, 0, 0, 1])/np.sqrt(2)\n",
    "arrays = [B for i in range(L)]\n",
    "\n",
    "psi_prova = qtn.MPS_product_state(arrays, cyclic=True)#, site_ind_id='s{}')\n",
    "\n",
    "### IMAGINARY TIME EVOLUTION\n",
    "dt = 0.001\n",
    "\n",
    "for i in range(int(beta/2/dt)):\n",
    "    for term in H1:\n",
    "        psi_prova.gate_(la.expm(-H1[term]*i*dt), term, contract='swap+split')\n",
    "    for term in H2:\n",
    "        psi_prova.gate_(la.expm(-H2[term]*i*dt)&la.expm(-H2[term]*i*dt), term, contract='swap+split')"
   ]
  },
  {
   "cell_type": "code",
   "execution_count": 31,
   "id": "b78b50e3",
   "metadata": {},
   "outputs": [
    {
     "name": "stdout",
     "output_type": "stream",
     "text": [
      "Check for the normalization beta/2: 0.499999999993222\n",
      "\n",
      "Check for the normalization beta: (0.18324536822338441+0j)\n",
      "\n"
     ]
    }
   ],
   "source": [
    "print(f'Check for the normalization beta/2: {psi_th.H @ psi_th}\\n')\n",
    "#print(f'Check for the normalization beta: {psi.H @ psi_th_beta}\\n')\n",
    "print(f'Check for the normalization beta: {psi_prova.H @ psi_prova}\\n')"
   ]
  },
  {
   "cell_type": "code",
   "execution_count": 28,
   "id": "cd3c541f",
   "metadata": {},
   "outputs": [
    {
     "name": "stdout",
     "output_type": "stream",
     "text": [
      "Check for the normalization: 0.499999999993222\n",
      "\n"
     ]
    }
   ],
   "source": [
    "print(f'Check for the normalization: {psi_th.H @ psi_th}\\n')"
   ]
  },
  {
   "cell_type": "code",
   "execution_count": 71,
   "id": "a48846b2",
   "metadata": {},
   "outputs": [
    {
     "name": "stdout",
     "output_type": "stream",
     "text": [
      " 2 2 2 3 3 3 3 2 \n",
      "+─●─●─●─●─●─●─●─+\n",
      "  │ │ │ │ │ │ │  \n"
     ]
    }
   ],
   "source": [
    "### INITIAL CONDITIONS\n",
    "\n",
    "# I have to set the first 2 spins pointing up\n",
    "#up_op = (qu.pauli('Z') + qu.pauli('I'))/2 + (qu.pauli('X') + 1j*qu.pauli('Y'))/2\n",
    "#up_op = up_op & qu.pauli('I')\n",
    "\n",
    "#qc = qtn.circuit.CircuitMPS(N=L, psi0=psi_th)\n",
    "#qc.apply_gate_raw(up_op&up_op, (0,1))\n",
    "#psi_init = qc.psi\n",
    "\n",
    "# random initial conditions\n",
    "Rand1 = rand1 & qu.pauli('I')\n",
    "Rand2 = rand2 & qu.pauli('I')\n",
    "\n",
    "#psi_init = psi_th.gate(Rand1&Rand2, (0,1), contract='swap+split')\n",
    "psi_init = psi_th.copy()\n",
    "psi_init.show()"
   ]
  },
  {
   "cell_type": "code",
   "execution_count": 72,
   "id": "f4f4f7d4",
   "metadata": {},
   "outputs": [
    {
     "name": "stdout",
     "output_type": "stream",
     "text": [
      "Check for the normalization: 0.984036725212552\n",
      "\n"
     ]
    }
   ],
   "source": [
    "print(f'Check for the normalization: {psi_init.H @ psi_init}\\n')"
   ]
  },
  {
   "cell_type": "code",
   "execution_count": 73,
   "id": "c85ae02b",
   "metadata": {},
   "outputs": [
    {
     "name": "stdout",
     "output_type": "stream",
     "text": [
      "Building Hamiltonian for L=7 \n",
      "\n"
     ]
    },
    {
     "name": "stderr",
     "output_type": "stream",
     "text": [
      "t=10, max-bond=19: 100%|####################################################################################################################################################################################################| 100/100 [00:04<00:00, 21.24it/s]"
     ]
    },
    {
     "name": "stdout",
     "output_type": "stream",
     "text": [
      "Time:4s\n"
     ]
    },
    {
     "name": "stderr",
     "output_type": "stream",
     "text": [
      "\n"
     ]
    }
   ],
   "source": [
    "### BUILDING THE HAMILTONIAN for the simulation\n",
    "\n",
    "# first I build the operators tensor identity on ancilla states\n",
    "# OCIO: I have to include the multiplicative parts from the beginning!\n",
    "O_Rabi = (omega/2)*X & I\n",
    "N_sys  = 0.5*V*(I + Z)/2 & I\n",
    "N_bath = 0.5*V_*(I + Z)/2 & I\n",
    "\n",
    "print(f'Building Hamiltonian for L={L} \\n')\n",
    "# the hamiltonian\n",
    "H1 = {i: O_Rabi for i in range(L)}\n",
    "H2 = {None: N_bath&N_bath, (L-1, 0): N_sys&N_sys, (0, 1): N_sys&N_sys, (1, 2): N_sys&N_sys}\n",
    "\n",
    "H = qtn.LocalHam1D(L=L, H2=H2, H1=H1, cyclic=True)\n",
    "\n",
    "### THE SIMULATION\n",
    "\n",
    "start = time.time()\n",
    "\n",
    "# first I build the observables\n",
    "observables_tebd = {}\n",
    "results = {}\n",
    "for ob1, ob2 in product(['I', 'X', 'Y', 'Z'], repeat=2):\n",
    "    key = ob1 + '1' + ob2 + '2'\n",
    "    results[key] = []\n",
    "    observables_tebd[key] = []\n",
    "\n",
    "# dropping the identity\n",
    "observables_tebd.pop('I1I2')\n",
    "results.pop('I1I2')\n",
    "    \n",
    "# create the object\n",
    "tebd = qtn.TEBD(psi_init, H)\n",
    "\n",
    "# cutoff for truncating after each infinitesimal-time operator application\n",
    "tebd.split_opts['cutoff'] = cutoff\n",
    "\n",
    "t = np.linspace(0, T, 100)\n",
    "keys = results.keys()\n",
    "\n",
    "# I can either set a timestep or a tolerance and the timestep is calculated accordingly\n",
    "# generate the state at each time in t (same as exact simulation)\n",
    "#     and target error 1e-3 for whole evolution\n",
    "for psit in tebd.at_times(t, tol=1e-3):\n",
    "    for key in keys:\n",
    "        ob1 = qu.pauli(key[0]) & qu.pauli('I')\n",
    "        ob2 = qu.pauli(key[2]) & qu.pauli('I')\n",
    "        results[key].append((psit.H @ psit.gate(ob1 & ob2, (0, 1))).real)\n",
    "        \n",
    "end = time.time()\n",
    "print(f'Time:{int(end - start)}s')"
   ]
  },
  {
   "cell_type": "code",
   "execution_count": 74,
   "id": "f6259094",
   "metadata": {},
   "outputs": [
    {
     "name": "stdout",
     "output_type": "stream",
     "text": [
      "Check for the normalization: (0.9840367891581216-1.0319853321301698e-17j)\n",
      "\n"
     ]
    }
   ],
   "source": [
    "print(f'Check for the normalization: {tebd.pt.H @ tebd.pt}\\n')"
   ]
  },
  {
   "cell_type": "code",
   "execution_count": 75,
   "id": "6b45768d",
   "metadata": {},
   "outputs": [
    {
     "data": {
      "image/png": "[encoded data removed]",
      "text/plain": [
       "<Figure size 1000x800 with 4 Axes>"
      ]
     },
     "metadata": {},
     "output_type": "display_data"
    }
   ],
   "source": [
    "keys = observables_tebd.keys()\n",
    "keys = ['Z1I2', 'X1I2']\n",
    "\n",
    "fig, ax = plt.subplots(2, 2, figsize=(10,8))\n",
    "for key in keys:\n",
    "    ax[0][0].plot(t_ex, results_ex[key], label=key)\n",
    "    ax[0][1].plot(t, results[key], label=key)    \n",
    "ax[0][0].set_title('Exact')\n",
    "ax[0][1].set_title('TEBD')\n",
    "\n",
    "keys = ['Z1Z2', 'Z1X2']\n",
    "for key in keys:\n",
    "    ax[1][0].plot(t_ex, results_ex[key], label=key)\n",
    "    ax[1][1].plot(t, results[key], label=key)\n",
    "ax[1][0].set_title('Exact')\n",
    "ax[1][1].set_title('TEBD')\n",
    "\n",
    "for i in range(2):\n",
    "    for j in range(2):\n",
    "        ax[i][j].grid()\n",
    "        ax[i][j].legend()\n",
    "\n",
    "#plt.savefig('./pictures/consistency_check_2.pdf')"
   ]
  },
  {
   "cell_type": "code",
   "execution_count": null,
   "id": "f9ea05d1",
   "metadata": {},
   "outputs": [],
   "source": [
    "qu.core.com"
   ]
  },
  {
   "cell_type": "code",
   "execution_count": 66,
   "id": "525ae378",
   "metadata": {},
   "outputs": [],
   "source": [
    "import numpy as np\n",
    "\n",
    "from quimb.utils import ensure_dict, continuous_progbar, deprecated\n",
    "from quimb.utils import progbar as Progbar\n",
    "from quimb.linalg.approx_spectral import norm_fro\n",
    "from quimb.tensor.tensor_arbgeom_tebd import LocalHamGen\n",
    "\n",
    "class my_TEBD:\n",
    "    \"\"\"Class implementing Time Evolving Block Decimation (TEBD) [1].\n",
    "\n",
    "    [1] Guifré Vidal, Efficient Classical Simulation of Slightly Entangled\n",
    "    Quantum Computations, PRL 91, 147902 (2003)\n",
    "\n",
    "    Parameters\n",
    "    ----------\n",
    "    p0 : MatrixProductState\n",
    "        Initial state.\n",
    "    H : LocalHam1D or array_like\n",
    "        Dense hamiltonian representing the two body interaction. Should have\n",
    "        shape ``(d * d, d * d)``, where ``d`` is the physical dimension of\n",
    "        ``p0``.\n",
    "    dt : float, optional\n",
    "        Default time step, cannot be set as well as ``tol``.\n",
    "    tol : float, optional\n",
    "        Default target error for each evolution, cannot be set as well as\n",
    "        ``dt``, which will instead be calculated from the trotter orderm length\n",
    "        of time, and hamiltonian norm.\n",
    "    t0 : float, optional\n",
    "        Initial time. Defaults to 0.0.\n",
    "    split_opts : dict, optional\n",
    "        Compression options applied for splitting after gate application, see\n",
    "        :func:`~quimb.tensor.tensor_core.tensor_split`.\n",
    "    imag : bool, optional\n",
    "        Enable imaginary time evolution. Defaults to false.\n",
    "\n",
    "    See Also\n",
    "    --------\n",
    "    quimb.Evolution\n",
    "    \"\"\"\n",
    "\n",
    "    def __init__(self, p0, H, dt=None, tol=None, t0=0.0,\n",
    "                 split_opts=None, progbar=True, imag=False):\n",
    "        # prepare initial state\n",
    "        self._pt = p0.copy()\n",
    "        self._pt.canonize(0)\n",
    "        self.L = self._pt.L\n",
    "\n",
    "        # handle hamiltonian -> convert array to LocalHam1D\n",
    "        if isinstance(H, np.ndarray):\n",
    "            H = LocalHam1D(L=self.L, H2=H, cyclic=p0.cyclic)\n",
    "\n",
    "        if not isinstance(H, LocalHam1D):\n",
    "            raise TypeError(\"``H`` should be a ``LocalHam1D`` or 2-site \"\n",
    "                            \"array, not a TensorNetwork of any form.\")\n",
    "\n",
    "        if p0.cyclic != H.cyclic:\n",
    "            raise ValueError(\"Both ``p0`` and ``H`` should have matching OBC \"\n",
    "                             \"or PBC.\")\n",
    "\n",
    "        self.H = H\n",
    "        self.cyclic = H.cyclic\n",
    "        self._ham_norm = H.mean_norm()\n",
    "        self._err = 0.0\n",
    "\n",
    "        # set time and tolerance defaults\n",
    "        self.t0 = self.t = t0\n",
    "        if dt and tol:\n",
    "            raise ValueError(\"Can't set default for both ``dt`` and ``tol``.\")\n",
    "        self.dt = self._dt = dt\n",
    "        self.tol = tol\n",
    "        self.imag = imag\n",
    "\n",
    "        # misc other options\n",
    "        self.progbar = progbar\n",
    "        self.split_opts = ensure_dict(split_opts)\n",
    "\n",
    "    @property\n",
    "    def pt(self):\n",
    "        \"\"\"The MPS state of the system at the current time.\n",
    "        \"\"\"\n",
    "        return self._pt.copy()\n",
    "\n",
    "    @property\n",
    "    def err(self):\n",
    "        return self._err\n",
    "\n",
    "    def choose_time_step(self, tol, T, order):\n",
    "        \"\"\"Trotter error is ``~ (T / dt) * dt^(order + 1)``. Invert to\n",
    "        find desired time step, and scale by norm of interaction term.\n",
    "        \"\"\"\n",
    "        return (tol / (T * self._ham_norm)) ** (1 / order)\n",
    "\n",
    "\n",
    "    def _get_gate_from_ham(self, dt_frac, sites):\n",
    "        \"\"\"Get the unitary (exponentiated) gate for fraction of timestep\n",
    "        ``dt_frac`` and sites ``sites``, cached.\n",
    "        \"\"\"\n",
    "        imag_factor = 1.0 if self.imag else 1.0j\n",
    "        return self.H.get_gate_expm(sites, -imag_factor * self._dt * dt_frac)\n",
    "\n",
    "    def sweep(self, direction, dt_frac, dt=None, queue=False):\n",
    "        \"\"\"Perform a single sweep of gates and compression. This shifts the\n",
    "        orthonognality centre along with the gates as they are applied and\n",
    "        split.\n",
    "\n",
    "        Parameters\n",
    "        ----------\n",
    "        direction : {'right', 'left'}\n",
    "            Which direction to sweep. Right is even bonds, left is odd.\n",
    "        dt_frac : float\n",
    "            What fraction of dt substep to take.\n",
    "        dt : float, optional\n",
    "            Overide the current ``dt`` with a custom value.\n",
    "        \"\"\"\n",
    "\n",
    "        # if custom dt set, scale the dt fraction\n",
    "        if dt is not None:\n",
    "            dt_frac *= (dt / self._dt)\n",
    "\n",
    "        # ------ automatically combine consecutive sweeps of same time ------ #\n",
    "\n",
    "        if not hasattr(self, '_queued_sweep'):\n",
    "            self._queued_sweep = None\n",
    "\n",
    "        if queue:\n",
    "            # check for queued sweep\n",
    "            if self._queued_sweep:\n",
    "                # if matches, combine and continue\n",
    "                if direction == self._queued_sweep[0]:\n",
    "                    self._queued_sweep[1] += dt_frac\n",
    "                    return\n",
    "                # else perform the old, queue the new\n",
    "                else:\n",
    "                    new_queued_sweep = [direction, dt_frac]\n",
    "                    direction, dt_frac = self._queued_sweep\n",
    "                    self._queued_sweep = new_queued_sweep\n",
    "\n",
    "            # just queue the new sweep\n",
    "            else:\n",
    "                self._queued_sweep = [direction, dt_frac]\n",
    "                return\n",
    "\n",
    "        # check if need to drain the queue first\n",
    "        elif self._queued_sweep:\n",
    "            queued_direction, queued_dt_frac = self._queued_sweep\n",
    "            self._queued_sweep = None\n",
    "            self.sweep(queued_direction, queued_dt_frac, queue=False)\n",
    "\n",
    "        # ------------------------------------------------------------------- #\n",
    "\n",
    "        if direction == 'right':\n",
    "            start_site_ind = 0\n",
    "            final_site_ind = self.L - 1\n",
    "            # Apply even gates:\n",
    "            #\n",
    "            #     o-<-<-<-<-<-<-<-<-<-   -<-<\n",
    "            #     | | | | | | | | | |     | |       >~>~>~>~>~>~>~>~>~>~>~o\n",
    "            #     UUU UUU UUU UUU UUU ... UUU  -->  | | | | | | | | | | | |\n",
    "            #     | | | | | | | | | |     | |\n",
    "            #      1   2   3   4   5  ==>\n",
    "            #\n",
    "            for i in range(start_site_ind, final_site_ind, 2):\n",
    "                sites = (i, (i + 1) % self.L)\n",
    "                U = self._get_gate_from_ham(dt_frac, sites)\n",
    "                self._pt.left_canonize(start=max(0, i - 1), stop=i)\n",
    "                self._pt.gate_split_(\n",
    "                    U, where=sites, absorb='right', **self.split_opts)\n",
    "\n",
    "            if (self.L % 2 == 1):\n",
    "                self._pt.left_canonize_site(self.L - 2)\n",
    "                if self.cyclic:\n",
    "                    sites = (self.L - 1, 0)\n",
    "                    U = self._get_gate_from_ham(dt_frac, sites)\n",
    "                    self._pt.right_canonize_site(1)\n",
    "                    self._pt.gate_split_(\n",
    "                        U, where=sites, absorb='left', **self.split_opts)\n",
    "\n",
    "        elif direction == 'left':\n",
    "\n",
    "            if self.cyclic and (self.L % 2 == 0):\n",
    "                sites = (self.L - 1, 0)\n",
    "                U = self._get_gate_from_ham(dt_frac, sites)\n",
    "                self._pt.right_canonize_site(1)\n",
    "                self._pt.gate_split_(\n",
    "                    U, where=sites, absorb='left', **self.split_opts)\n",
    "\n",
    "            final_site_ind = 1\n",
    "            # Apply odd gates:\n",
    "            #\n",
    "            #     >->->-   ->->->->->->->->-o\n",
    "            #     | | |     | | | | | | | | |       o~<~<~<~<~<~<~<~<~<~<~<\n",
    "            #     | UUU ... UUU UUU UUU UUU |  -->  | | | | | | | | | | | |\n",
    "            #     | | |     | | | | | | | | |\n",
    "            #           <==  4   3   2   1\n",
    "            #\n",
    "            for i in reversed(range(final_site_ind, self.L - 1, 2)):\n",
    "                sites = (i, (i + 1) % self.L)\n",
    "                U = self._get_gate_from_ham(dt_frac, sites)\n",
    "                self._pt.right_canonize(\n",
    "                    start=min(self.L - 1, i + 2), stop=i + 1)\n",
    "                self._pt.gate_split_(\n",
    "                    U, where=sites, absorb='left', **self.split_opts)\n",
    "\n",
    "            # one extra canonicalization not included in last split\n",
    "            self._pt.right_canonize_site(1)\n",
    "\n",
    "        # Renormalise after imaginary time evolution\n",
    "        #if self.imag:\n",
    "        #    factor = self._pt[final_site_ind].norm()\n",
    "        #    self._pt[final_site_ind] /= factor\n",
    "\n",
    "\n",
    "    def _step_order2(self, tau=1, **sweep_opts):\n",
    "        \"\"\"Perform a single, second order step.\n",
    "        \"\"\"\n",
    "        self.sweep('right', tau / 2, **sweep_opts)\n",
    "        self.sweep('left', tau, **sweep_opts)\n",
    "        self.sweep('right', tau / 2, **sweep_opts)\n",
    "\n",
    "    def _step_order4(self, **sweep_opts):\n",
    "        \"\"\"Perform a single, fourth order step.\n",
    "        \"\"\"\n",
    "        tau1 = tau2 = 1 / (4 * 4**(1 / 3))\n",
    "        tau3 = 1 - 2 * tau1 - 2 * tau2\n",
    "        self._step_order2(tau1, **sweep_opts)\n",
    "        self._step_order2(tau2, **sweep_opts)\n",
    "        self._step_order2(tau3, **sweep_opts)\n",
    "        self._step_order2(tau2, **sweep_opts)\n",
    "        self._step_order2(tau1, **sweep_opts)\n",
    "\n",
    "    def step(self, order=2, dt=None, progbar=None, **sweep_opts):\n",
    "        \"\"\"Perform a single step of time ``self.dt``.\n",
    "        \"\"\"\n",
    "        {2: self._step_order2,\n",
    "         4: self._step_order4}[order](dt=dt, **sweep_opts)\n",
    "\n",
    "        dt = self._dt if dt is None else dt\n",
    "        self.t += dt\n",
    "        self._err += self._ham_norm * dt ** (order + 1)\n",
    "\n",
    "        if progbar is not None:\n",
    "            progbar.cupdate(self.t)\n",
    "            self._set_progbar_desc(progbar)\n",
    "\n",
    "\n",
    "    def _compute_sweep_dt_tol(self, T, dt, tol, order):\n",
    "        # Work out timestep, possibly from target tol, and checking defaults\n",
    "        dt = self.dt if (dt is None) else dt\n",
    "        tol = self.tol if (tol is None) else tol\n",
    "\n",
    "        if not (dt or tol):\n",
    "            raise ValueError(\"Must set one of ``dt`` and ``tol``.\")\n",
    "        if (dt and tol):\n",
    "            raise ValueError(\"Can't set both ``dt`` and ``tol``.\")\n",
    "\n",
    "        if dt is None:\n",
    "            self._dt = self.choose_time_step(tol, T - self.t, order)\n",
    "        else:\n",
    "            self._dt = dt\n",
    "\n",
    "        return self._dt\n",
    "\n",
    "    TARGET_TOL = 1e-13  # tolerance to have 'reached' target time\n",
    "\n",
    "    def update_to(self, T, dt=None, tol=None, order=4, progbar=None):\n",
    "        \"\"\"Update the state to time ``T``.\n",
    "\n",
    "        Parameters\n",
    "        ----------\n",
    "        T : float\n",
    "            The time to evolve to.\n",
    "        dt : float, optional\n",
    "            Time step to use. Can't be set as well as ``tol``.\n",
    "        tol : float, optional\n",
    "            Tolerance for whole evolution. Can't be set as well as ``dt``.\n",
    "        order : int, optional\n",
    "            Trotter order to use.\n",
    "        progbar : bool, optional\n",
    "            Manually turn the progress bar off.\n",
    "        \"\"\"\n",
    "        if T < self.t - self.TARGET_TOL:\n",
    "            # can't go backwards yet\n",
    "            raise NotImplementedError\n",
    "\n",
    "        self._compute_sweep_dt_tol(T, dt, tol, order)\n",
    "\n",
    "        # set up progress bar and start evolution\n",
    "        progbar = self.progbar if (progbar is None) else progbar\n",
    "        progbar = continuous_progbar(self.t, T) if progbar else None\n",
    "\n",
    "        while self.t < T - self._dt:\n",
    "            # get closer until we can reach in a single step\n",
    "            self.step(order=order, progbar=progbar, dt=None, queue=True)\n",
    "\n",
    "        # always perform final sweep with queue draining\n",
    "        self.step(order=order, progbar=progbar, dt=T - self.t, queue=False)\n",
    "\n",
    "        if progbar:\n",
    "            progbar.close()\n",
    "\n",
    "\n",
    "    def _set_progbar_desc(self, progbar):\n",
    "        msg = f\"t={self.t:.4g}, max-bond={self._pt.max_bond()}\"\n",
    "        progbar.set_description(msg)\n",
    "\n",
    "    def at_times(self, ts, dt=None, tol=None, order=4, progbar=None):\n",
    "        \"\"\"Generate the time evolved state at each time in ``ts``.\n",
    "\n",
    "        Parameters\n",
    "        ----------\n",
    "        ts : sequence of float\n",
    "            The times to evolve to and yield the state at.\n",
    "        dt : float, optional\n",
    "            Time step to use. Can't be set as well as ``tol``.\n",
    "        tol : float, optional\n",
    "            Tolerance for whole evolution. Can't be set as well as ``dt``.\n",
    "        order : int, optional\n",
    "            Trotter order to use.\n",
    "        progbar : bool, optional\n",
    "            Manually turn the progress bar off.\n",
    "\n",
    "        Yields\n",
    "        ------\n",
    "        pt : MatrixProductState\n",
    "            The state at each of the times in ``ts``. This is a copy of\n",
    "            internal state used, so inplace changes can be made to it.\n",
    "        \"\"\"\n",
    "        # convert ts to list, to to calc range and use progress bar\n",
    "        ts = sorted(ts)\n",
    "        T = ts[-1]\n",
    "\n",
    "        # need to use dt always so tol applies over whole T sweep\n",
    "        dt = self._compute_sweep_dt_tol(T, dt, tol, order)\n",
    "\n",
    "        # set up progress bar\n",
    "        progbar = self.progbar if (progbar is None) else progbar\n",
    "        if progbar:\n",
    "            ts = Progbar(ts)\n",
    "\n",
    "        for t in ts:\n",
    "            self.update_to(t, dt=dt, tol=False, order=order, progbar=False)\n",
    "\n",
    "            if progbar:\n",
    "                self._set_progbar_desc(ts)\n",
    "\n",
    "            yield self.pt"
   ]
  },
  {
   "cell_type": "code",
   "execution_count": null,
   "id": "57c98579",
   "metadata": {},
   "outputs": [],
   "source": [
    "#O_Rabi = np.zeros((4,4), dtype=complex)\n",
    "#N_sys = np.zeros((4,4), dtype=complex)\n",
    "#N_bath = np.zeros((4,4), dtype=complex)\n",
    "\n",
    "#O_Rabi[:2, :2] = ((omega/2)*X)\n",
    "#N_sys[:2, :2] = (V*(I + Z)/2)\n",
    "#N_bath[:2, :2] = (V_*(I + Z)/2)\n",
    "\n",
    "#O_Rabi = qu.quimbify(O_Rabi)\n",
    "#N_bath = qu.quimbify(N_bath)\n",
    "#N_sys = qu.quimbify(N_sys)"
   ]
  },
  {
   "cell_type": "code",
   "execution_count": null,
   "id": "c4665340",
   "metadata": {},
   "outputs": [],
   "source": [
    "### BUILDING THE HAMILTONIAN for the thermalization\n",
    "\n",
    "O_Rabi = ((omega/2)*X)\n",
    "N_sys  = (V*(I + Z)/2)\n",
    "N_bath = (V_*(I + Z)/2)\n",
    "\n",
    "print(f'Building Hamiltonian for L={L} \\n')\n",
    "# the hamiltonian\n",
    "H1 = {i: O_Rabi for i in range(L)}\n",
    "#H2 = {None: N_bath&N_bath, (L-1, 0): N_sys&N_sys, (0, 1): N_sys&N_sys, (1, 2): N_sys&N_sys}\n",
    "H2 = {(i, i+1): N_bath for i in range(2, L-2)} \n",
    "H2[(L-1, 0)] = N_sys\n",
    "H2[(0, 1)] = N_sys\n",
    "H2[(1, 2)] = N_sys\n",
    "\n",
    "#H_th = qtn.LocalHam1D(L=L, H2=H2, H1=H1, cyclic=True)\n",
    "\n",
    "### BUILDING THE SPIN CHAIN\n",
    "\n",
    "print('Building the spin chain \\n')\n",
    "B = np.array([1, 0, 0, 1])/np.sqrt(2)\n",
    "arrays = [B for i in range(L)]\n",
    "\n",
    "psi_th = qtn.MPS_product_state(arrays, cyclic=True)#, site_ind_id='s{}')\n",
    "\n",
    "#psi.show()\n",
    "\n",
    "### IMAGINARY TIME EVOLUTION\n",
    "dt = 0.001\n",
    "\n",
    "for i in range(int(beta/2/dt)):\n",
    "    psi_th.balance_bonds_()\n",
    "    for term in H1:\n",
    "        psi_th.gate_(la.expm(-H1[term]*i*dt)&I, term, contract='swap+split')\n",
    "    for term in H2:\n",
    "        psi_th.gate_(la.expm(-H2[term]*i*dt)&I&la.expm(-H2[term]*i*dt)&I, term, contract='swap+split')"
   ]
  }
 ],
 "metadata": {
  "kernelspec": {
   "display_name": "Python 3 (ipykernel)",
   "language": "python",
   "name": "python3"
  },
  "language_info": {
   "codemirror_mode": {
    "name": "ipython",
    "version": 3
   },
   "file_extension": ".py",
   "mimetype": "text/x-python",
   "name": "python",
   "nbconvert_exporter": "python",
   "pygments_lexer": "ipython3",
   "version": "3.9.13"
  }
 },
 "nbformat": 4,
 "nbformat_minor": 5
}
