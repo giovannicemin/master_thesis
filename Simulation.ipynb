{
 "cells": [
  {
   "cell_type": "markdown",
   "id": "b4cbf88d",
   "metadata": {},
   "source": [
    "# SIMULATION\n",
    "\n",
    "In this file the script for the simulation of the whole spin chain. \n",
    "\n",
    "THe initial condisions are created perturbing the thermal state of the whole chain with a random unitary operator acting only on the first 2 spins."
   ]
  },
  {
   "cell_type": "code",
   "execution_count": 2,
   "id": "16c4291b",
   "metadata": {},
   "outputs": [],
   "source": [
    "import numpy as np\n",
    "import matplotlib.pyplot as plt\n",
    "\n",
    "import quimb as qu\n",
    "import quimb.tensor as qtn\n",
    "import quimb.linalg.base_linalg as la\n",
    "from itertools import product"
   ]
  },
  {
   "cell_type": "code",
   "execution_count": 3,
   "id": "5ea98e3a",
   "metadata": {},
   "outputs": [],
   "source": [
    "### PROBLEM PARAMETERS\n",
    "L = 7        # chain length\n",
    "omega = 1     # Rabi frequency\n",
    "V = 0.1       # B-S interaction strength\n",
    "V_ = 1        # bath interaction strength\n",
    "beta = 0.1    # inverse temperature for the bath\n",
    "\n",
    "T = 10        # total time of the simulation\n",
    "dt = 0.1      # time step for coherece vector time evolution\n",
    "\n",
    "dims = [2]*L # overall space of L qbits"
   ]
  },
  {
   "cell_type": "code",
   "execution_count": 7,
   "id": "02118306",
   "metadata": {},
   "outputs": [
    {
     "name": "stdout",
     "output_type": "stream",
     "text": [
      "Building Hamiltonian for L=7 \n",
      "\n",
      "Building the spin chain \n",
      "\n",
      " 1 1 1 1 1 1 1 1 \n",
      "+─●─●─●─●─●─●─●─+\n",
      "  │ │ │ │ │ │ │  \n",
      "\n",
      "done\n"
     ]
    }
   ],
   "source": [
    "### BUILDING THE HAMILTONIAN\n",
    "\n",
    "# fisrt I build the operators tensor identity on ancilla states\n",
    "I = qu.pauli('I')\n",
    "X = qu.pauli('X') & I\n",
    "Z = qu.pauli('Z') & I\n",
    "nn_op = (1 + Z)/2 & (1 + Z)/2\n",
    "\n",
    "print(f'Building Hamiltonian for L={L} \\n')\n",
    "# the hamiltonian\n",
    "H1 = {i: (omega/2)*X for i in range(L)}\n",
    "H2 = {None: nn_op, (L-1, 0): V*nn_op, (0, 1): V*nn_op, (1, 2): V*nn_op}\n",
    "\n",
    "H = qtn.LocalHam1D(L=L, H2=H2, H1=H1, cyclic=True)\n",
    "\n",
    "### BUILDING THE SPIN CHAIN\n",
    "\n",
    "print('Building the spin chain: \\n')\n",
    "B = np.array([1, 0, 0, 1]).T/np.sqrt(2)\n",
    "arrays = [B for i in range(L)]\n",
    "\n",
    "psi = qtn.MPS_product_state(arrays, cyclic=True)#, site_ind_id='s{}')\n",
    "\n",
    "psi.show()\n",
    "\n",
    "print('\\ndone')"
   ]
  },
  {
   "cell_type": "code",
   "execution_count": null,
   "id": "b251beb3",
   "metadata": {},
   "outputs": [],
   "source": [
    "### THE SIMULATION\n",
    "\n",
    "# first I build the observables\n",
    "observables_tebd = {}\n",
    "results = {}\n",
    "for ob1, ob2 in product(['I', 'X', 'Y', 'Z'], repeat=2):\n",
    "    key = ob1 + '1' + ob2 + '2'\n",
    "    results[key] = []\n",
    "    observables_tebd[key] = []\n",
    "\n",
    "# dropping the identity\n",
    "observables_tebd.pop('I1I2')\n",
    "results.pop('I1I2')\n",
    "    \n",
    "# create the object\n",
    "tebd = qtn.TEBD(psi, H)\n",
    "\n",
    "# cutoff for truncating after each infenitesimal-time operator application\n",
    "tebd.split_opts['cutoff'] = 1e-10\n",
    "\n",
    "t_ = np.linspace(0, T, 100)\n",
    "keys = results.keys()\n",
    "\n",
    "# I can either set a timestep or a tolerance and the timestep is calculated accordingly\n",
    "# generate the state at each time in t (same as exact simulation)\n",
    "#     and target error 1e-3 for whole evolution\n",
    "for psit in tebd.at_times(t_, tol=1e-3):\n",
    "    for key in keys:\n",
    "        ob1 = key[0]\n",
    "        ob2 = key[2]\n",
    "        #results[key].append(qtn.expec_TN_1D(psit.H, observables_tebd[key], psit))\n",
    "        results[key].append(psit.H @ psit.gate(qu.pauli(ob1)&qu.pauli(ob2), (0, 1)))"
   ]
  },
  {
   "cell_type": "code",
   "execution_count": 7,
   "id": "6cad5b84",
   "metadata": {},
   "outputs": [],
   "source": []
  },
  {
   "cell_type": "markdown",
   "id": "12aa43bc",
   "metadata": {},
   "source": [
    "To simulate the mixed state I use the ancilla method which employ a duplicate of the system as ancilla Hilbert space. Since each site and it's counterpart in the ancilla space are maximally entangled I want to keep them nearby. For this reason I put the physical particles (the one subjected to the Hmiltonian) on even indexes  0,2,4,6,... and ancilla particles on odd indexes 1,3,5,..."
   ]
  },
  {
   "cell_type": "code",
   "execution_count": 33,
   "id": "1d2fb71b",
   "metadata": {},
   "outputs": [
    {
     "ename": "ValueError",
     "evalue": "operands could not be broadcast together with shapes (2,2) (4,4) ",
     "output_type": "error",
     "traceback": [
      "\u001b[0;31m---------------------------------------------------------------------------\u001b[0m",
      "\u001b[0;31mValueError\u001b[0m                                Traceback (most recent call last)",
      "Input \u001b[0;32mIn [33]\u001b[0m, in \u001b[0;36m<cell line: 29>\u001b[0;34m()\u001b[0m\n\u001b[1;32m     26\u001b[0m H2[(\u001b[38;5;241m1\u001b[39m, \u001b[38;5;241m2\u001b[39m)] \u001b[38;5;241m=\u001b[39m V\u001b[38;5;241m*\u001b[39mnn_op\n\u001b[1;32m     27\u001b[0m H2[\u001b[38;5;28;01mNone\u001b[39;00m] \u001b[38;5;241m=\u001b[39m I\n\u001b[0;32m---> 29\u001b[0m H \u001b[38;5;241m=\u001b[39m \u001b[43mqtn\u001b[49m\u001b[38;5;241;43m.\u001b[39;49m\u001b[43mLocalHam1D\u001b[49m\u001b[43m(\u001b[49m\u001b[43mL\u001b[49m\u001b[38;5;241;43m=\u001b[39;49m\u001b[38;5;241;43m2\u001b[39;49m\u001b[38;5;241;43m*\u001b[39;49m\u001b[43mL\u001b[49m\u001b[43m,\u001b[49m\u001b[43m \u001b[49m\u001b[43mH2\u001b[49m\u001b[38;5;241;43m=\u001b[39;49m\u001b[43mH2\u001b[49m\u001b[43m,\u001b[49m\u001b[43m \u001b[49m\u001b[43mH1\u001b[49m\u001b[38;5;241;43m=\u001b[39;49m\u001b[43mH1\u001b[49m\u001b[43m)\u001b[49m\u001b[38;5;66;03m#, cyclic=True)\u001b[39;00m\n\u001b[1;32m     32\u001b[0m \u001b[38;5;66;03m### BUILDING THE SPIN CHAIN\u001b[39;00m\n\u001b[1;32m     33\u001b[0m \n\u001b[1;32m     34\u001b[0m \u001b[38;5;66;03m# binary version of the initial state\u001b[39;00m\n\u001b[1;32m     35\u001b[0m \u001b[38;5;66;03m# 0 : up\u001b[39;00m\n\u001b[1;32m     36\u001b[0m \u001b[38;5;66;03m# 1 : down\u001b[39;00m\n\u001b[1;32m     37\u001b[0m binary \u001b[38;5;241m=\u001b[39m \u001b[38;5;124m'\u001b[39m\u001b[38;5;124m01\u001b[39m\u001b[38;5;124m'\u001b[39m\n",
      "File \u001b[0;32m~/anaconda3/envs/NN_Lindblad/lib/python3.9/site-packages/quimb/tensor/tensor_1d_tebd.py:89\u001b[0m, in \u001b[0;36mLocalHam1D.__init__\u001b[0;34m(self, L, H2, H1, cyclic)\u001b[0m\n\u001b[1;32m     86\u001b[0m         \u001b[38;5;28;01mif\u001b[39;00m (coo_a, coo_b) \u001b[38;5;129;01mnot\u001b[39;00m \u001b[38;5;129;01min\u001b[39;00m H2 \u001b[38;5;129;01mand\u001b[39;00m (coo_b, coo_a) \u001b[38;5;129;01mnot\u001b[39;00m \u001b[38;5;129;01min\u001b[39;00m H2:\n\u001b[1;32m     87\u001b[0m             H2[coo_a, coo_b] \u001b[38;5;241m=\u001b[39m default_H2\n\u001b[0;32m---> 89\u001b[0m \u001b[38;5;28;43msuper\u001b[39;49m\u001b[43m(\u001b[49m\u001b[43m)\u001b[49m\u001b[38;5;241;43m.\u001b[39;49m\u001b[38;5;21;43m__init__\u001b[39;49m\u001b[43m(\u001b[49m\u001b[43mH2\u001b[49m\u001b[38;5;241;43m=\u001b[39;49m\u001b[43mH2\u001b[49m\u001b[43m,\u001b[49m\u001b[43m \u001b[49m\u001b[43mH1\u001b[49m\u001b[38;5;241;43m=\u001b[39;49m\u001b[43mH1\u001b[49m\u001b[43m)\u001b[49m\n",
      "File \u001b[0;32m~/anaconda3/envs/NN_Lindblad/lib/python3.9/site-packages/quimb/tensor/tensor_arbgeom_tebd.py:118\u001b[0m, in \u001b[0;36mLocalHamGen.__init__\u001b[0;34m(self, H2, H1)\u001b[0m\n\u001b[1;32m    116\u001b[0m \u001b[38;5;28;01mfor\u001b[39;00m pair \u001b[38;5;129;01min\u001b[39;00m pairs:\n\u001b[1;32m    117\u001b[0m     H_tensored \u001b[38;5;241m=\u001b[39m H_tensoreds[pair\u001b[38;5;241m.\u001b[39mindex(site)]\n\u001b[0;32m--> 118\u001b[0m     \u001b[38;5;28mself\u001b[39m\u001b[38;5;241m.\u001b[39mterms[pair] \u001b[38;5;241m=\u001b[39m \u001b[38;5;28;43mself\u001b[39;49m\u001b[38;5;241;43m.\u001b[39;49m\u001b[43m_add_cached\u001b[49m\u001b[43m(\u001b[49m\n\u001b[1;32m    119\u001b[0m \u001b[43m        \u001b[49m\u001b[38;5;28;43mself\u001b[39;49m\u001b[38;5;241;43m.\u001b[39;49m\u001b[43mterms\u001b[49m\u001b[43m[\u001b[49m\u001b[43mpair\u001b[49m\u001b[43m]\u001b[49m\u001b[43m,\u001b[49m\u001b[43m \u001b[49m\u001b[38;5;28;43mself\u001b[39;49m\u001b[38;5;241;43m.\u001b[39;49m\u001b[43m_div_cached\u001b[49m\u001b[43m(\u001b[49m\u001b[43mH_tensored\u001b[49m\u001b[43m,\u001b[49m\u001b[43m \u001b[49m\u001b[43mnum_pairs\u001b[49m\u001b[43m)\u001b[49m\n\u001b[1;32m    120\u001b[0m \u001b[43m    \u001b[49m\u001b[43m)\u001b[49m\n",
      "File \u001b[0;32m~/anaconda3/envs/NN_Lindblad/lib/python3.9/site-packages/quimb/tensor/tensor_arbgeom_tebd.py:156\u001b[0m, in \u001b[0;36mLocalHamGen._add_cached\u001b[0;34m(self, x, y)\u001b[0m\n\u001b[1;32m    154\u001b[0m key \u001b[38;5;241m=\u001b[39m (\u001b[38;5;28mid\u001b[39m(x), \u001b[38;5;28mid\u001b[39m(y))\n\u001b[1;32m    155\u001b[0m \u001b[38;5;28;01mif\u001b[39;00m key \u001b[38;5;129;01mnot\u001b[39;00m \u001b[38;5;129;01min\u001b[39;00m cache:\n\u001b[0;32m--> 156\u001b[0m     cache[key] \u001b[38;5;241m=\u001b[39m \u001b[43mx\u001b[49m\u001b[43m \u001b[49m\u001b[38;5;241;43m+\u001b[39;49m\u001b[43m \u001b[49m\u001b[43my\u001b[49m\n\u001b[1;32m    157\u001b[0m \u001b[38;5;28;01mreturn\u001b[39;00m cache[key]\n",
      "\u001b[0;31mValueError\u001b[0m: operands could not be broadcast together with shapes (2,2) (4,4) "
     ]
    }
   ],
   "source": [
    "### BUILDING THE HAMILTONIAN\n",
    "# tebd do not require an MPO, but a specification of the local interacting parts of the Hamiltonian\n",
    "\n",
    "# fisrt I build the operators\n",
    "I = qu.pauli('I')\n",
    "X = qu.pauli('X')\n",
    "Z = qu.pauli('Z')\n",
    "nn_op = (1 + Z)/2 & (1 + Z)/2\n",
    "\n",
    "# single particle H\n",
    "#H1 = {(2*i): (omega/2)*X for i in range(0, L)}\n",
    "#H1[None] = I\n",
    "\n",
    "# two particle Hamiltonian\n",
    "#H2 = {(i, i+2): V_*nn_op for i in range(4, 2*(L-1), 2)}\n",
    "#H2[(2*L-2, 0)] = V*nn_op\n",
    "#H2[(0, 1)] = V*nn_op\n",
    "#H2[(1, 2)] = V*nn_op\n",
    "#H2[None] = I\n",
    "\n",
    "H1 = {i: (omega/2)*X for i in range(0, L)}\n",
    "H1[None] = I\n",
    "H2 = {(i, i+1): nn_op for i in range(2, L-1)} \n",
    "H2[(L-1, 0)] = V*nn_op\n",
    "H2[(0, 1)] = V*nn_op\n",
    "H2[(1, 2)] = V*nn_op\n",
    "H2[None] = I\n",
    "\n",
    "H = qtn.LocalHam1D(L=2*L, H2=H2, H1=H1)#, cyclic=True)\n",
    "\n",
    "\n",
    "### BUILDING THE SPIN CHAIN\n",
    "\n",
    "# binary version of the initial state\n",
    "# 0 : up\n",
    "# 1 : down\n",
    "binary = '01'\n",
    "for i in range(L-2):\n",
    "    if i%2==0:\n",
    "        binary += '0'\n",
    "    else:\n",
    "        binary += '1'\n",
    "binary = '0'*L\n",
    "print(f'|{binary}>')\n",
    "        \n",
    "# turning the state into a MPS\n",
    "psi = qtn.MPS_computational_state(binary, cyclic=True)\n",
    "psi.show()  # prints ascii representation of state\n"
   ]
  },
  {
   "cell_type": "code",
   "execution_count": null,
   "id": "22741b13",
   "metadata": {},
   "outputs": [],
   "source": []
  },
  {
   "cell_type": "code",
   "execution_count": null,
   "id": "87ff0d47",
   "metadata": {},
   "outputs": [],
   "source": []
  },
  {
   "cell_type": "code",
   "execution_count": null,
   "id": "addd1993",
   "metadata": {},
   "outputs": [],
   "source": []
  },
  {
   "cell_type": "code",
   "execution_count": null,
   "id": "99b65549",
   "metadata": {},
   "outputs": [],
   "source": []
  }
 ],
 "metadata": {
  "kernelspec": {
   "display_name": "Python 3 (ipykernel)",
   "language": "python",
   "name": "python3"
  },
  "language_info": {
   "codemirror_mode": {
    "name": "ipython",
    "version": 3
   },
   "file_extension": ".py",
   "mimetype": "text/x-python",
   "name": "python",
   "nbconvert_exporter": "python",
   "pygments_lexer": "ipython3",
   "version": "3.9.13"
  }
 },
 "nbformat": 4,
 "nbformat_minor": 5
}
