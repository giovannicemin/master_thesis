{
 "cells": [
  {
   "cell_type": "markdown",
   "id": "1a0c091a",
   "metadata": {},
   "source": [
    "# Error study\n",
    "\n",
    "In this file I study the error of the algorithm. Since there is a big error coming from the thermalization it makes no sense to be extremely precise in the subsequent TEBD. What I require is to have the maximum error to be less than 0.1% and get the right values for the tolerance and cutoff."
   ]
  },
  {
   "cell_type": "code",
   "execution_count": 1,
   "id": "4c2ab51c",
   "metadata": {},
   "outputs": [],
   "source": [
    "import numpy as np\n",
    "import matplotlib.pyplot as plt\n",
    "import time\n",
    "\n",
    "import quimb as qu\n",
    "import quimb.tensor as qtn\n",
    "import quimb.linalg.base_linalg as la\n",
    "from itertools import product"
   ]
  },
  {
   "cell_type": "code",
   "execution_count": 2,
   "id": "a51ac082",
   "metadata": {},
   "outputs": [],
   "source": [
    "### PROBLEM PARAMETERS\n",
    "L = 7         # chain length\n",
    "omega = 1     # Rabi frequency\n",
    "V = 0.5       # B-S interaction strength\n",
    "V_ = 0.5      # bath interaction strength\n",
    "beta = 0.01   # inverse temperature for the bath\n",
    "\n",
    "T = 10        # total time of the simulation\n",
    "dt = 0.1      # time step for coherece vector time evolution\n",
    "\n",
    "tolerance = 1e-3 # Trotter\n",
    "cutoff = 1e-6 # cutoff for TEBD algorithm\n",
    "\n",
    "### USEFULL VARIABLES\n",
    "dims = [2]*L # overall space of L qbits\n",
    "\n",
    "I = qu.pauli('I')\n",
    "X = qu.pauli('Y')\n",
    "Z = qu.pauli('Z')"
   ]
  },
  {
   "cell_type": "code",
   "execution_count": 3,
   "id": "715e326f",
   "metadata": {},
   "outputs": [],
   "source": [
    "def calculate_error(L, omega, V, V_, beta, T, dt, cutoff, img_cutoff, tolerance):\n",
    "    ### BUILDING THE HAMILTONIAN\n",
    "\n",
    "    # fisrt I build the operators\n",
    "    nn_op = (I + Z)/2 & (I + Z)/2\n",
    "\n",
    "    print(f'Building Hamiltonian for L={L}')\n",
    "    # the hamiltonian\n",
    "    H_Rabi = sum(qu.ikron(X, dims, i) for i in range(L))\n",
    "    H_int_b = sum(qu.ikron(nn_op, dims, (i, i+1)) for i in range(2, L-1))\n",
    "    H_int_s = sum(qu.pkron(nn_op, dims, (i, j)) for i,j in zip([L-1,0,1], [0,1,2]))\n",
    "\n",
    "    H = (omega/2)*H_Rabi + V_*H_int_b + V*H_int_s\n",
    "\n",
    "    # diagonalization\n",
    "    e, U = la.eig(H, isherm=True)\n",
    "\n",
    "    #print('done :)')\n",
    "    \n",
    "    ### BUILDING THE OBSERVABLES\n",
    "\n",
    "    observables_ex = {}\n",
    "    results_ex = {}\n",
    "    for ob1, ob2 in product(['I', 'X', 'Y', 'Z'], repeat=2):\n",
    "        key = ob1 + '1' + ob2 + '2'\n",
    "        results_ex[key] = []\n",
    "        observables_ex[key] = qu.ikron(qu.pauli(ob1)&qu.pauli(ob2), dims, (0, 1))\n",
    "\n",
    "    # dropping the identity\n",
    "    observables_ex.pop('I1I2')\n",
    "    results_ex.pop('I1I2')\n",
    "\n",
    "\n",
    "    ### INITIAL CONDITIONS\n",
    "    print('Initial state: random subsystem and thermal bath\\n')\n",
    "\n",
    "    #rho = la.expm(-beta*H)\n",
    "    #rho /= rho.trace()\n",
    "\n",
    "    rho = qu.gen.states.thermal_state(H, beta)\n",
    "\n",
    "    # apply a random operator to the first two spins\n",
    "    rand1 = qu.gen.rand.rand_uni(2)\n",
    "    rand2 = qu.gen.rand.rand_uni(2)\n",
    "    U_rand = qu.ikron(rand1 & rand2, dims, (0, 1))\n",
    "    rho = U_rand @ rho @ U_rand.H\n",
    "\n",
    "    ### THE SIMULATION\n",
    "\n",
    "    # smarter way to calculate the coherence vector:\n",
    "    rho_tilde = np.conj(U.T) @ rho @ U    \n",
    "\n",
    "    pauli_tilde = {}\n",
    "    t = []\n",
    "    for key in observables_ex.keys():\n",
    "        pauli_tilde[key] = np.conj(U.T) @ observables_ex[key] @ U\n",
    "\n",
    "    for i in range(0, int(T/dt)):\n",
    "        ee = np.exp(-1j*e*dt*i)  # diagonalized hamiltonian\n",
    "        rho_in = ee.reshape(ee.shape[0],1)*rho_tilde*np.conj(ee)\n",
    "\n",
    "        trace = lambda key: ( (pauli_tilde[key]@rho_in).trace() / rho_tilde.trace()).real\n",
    "        for key in results_ex.keys():\n",
    "            results_ex[key].append(trace(key))\n",
    "\n",
    "        t.append( dt*i )\n",
    "\n",
    "    #print(\"finished Time = %s\" % T)\n",
    "\n",
    "    print('done')\n",
    "    \n",
    "    \n",
    "    ### BUILDING THE HAMILTONIAN for the thermalization\n",
    "\n",
    "    O_Rabi = (omega/2)*X & I\n",
    "    N = (I + Z)/2 & I\n",
    "\n",
    "    print(f'Building Hamiltonian for L={L} \\n')\n",
    "    # the hamiltonian\n",
    "    H1 = {i: O_Rabi for i in range(L)}\n",
    "    H2 = {None: V_*N&N, (L-1, 0): V*N&N, (0, 1): V*N&N, (1, 2): V*N&N}\n",
    "\n",
    "    H = qtn.LocalHam1D(L=L, H2=H2, H1=H1, cyclic=True)\n",
    "\n",
    "    ### BUILDING THE SPIN CHAIN\n",
    "\n",
    "    print('Building the spin chain \\n')\n",
    "    B = np.array([1, 0, 0, 1])/np.sqrt(2)\n",
    "    arrays = [B for i in range(L)]\n",
    "\n",
    "    psi = qtn.MPS_product_state(arrays, cyclic=True)#, site_ind_id='s{}')\n",
    "\n",
    "    #psi.show()\n",
    "    \n",
    "    ### IMAGINARY TIME EVOLUTION\n",
    "\n",
    "    print('Imaginary time evolution \\n')\n",
    "\n",
    "    # create the object\n",
    "    tebd_th = qtn.TEBD(psi, H, imag=True)\n",
    "\n",
    "    # cutoff for truncating after each infinitesimal-time operator application\n",
    "    tebd_th.split_opts['cutoff'] = img_cutoff\n",
    "\n",
    "    tebd_th.update_to(beta/2, tol=1e-3)\n",
    "    psi_th = tebd_th.pt\n",
    "    \n",
    "    ### INITIAL CONDITIONS\n",
    "\n",
    "    # random initial conditions\n",
    "    Rand1 = rand1 & qu.pauli('I')\n",
    "    Rand2 = rand2 & qu.pauli('I')\n",
    "\n",
    "    psi_init = psi_th.gate(Rand1&Rand2, (0,1), contract='swap+split')\n",
    "\n",
    "    ### THE SIMULATION\n",
    "    \n",
    "    print('Real time evolution')\n",
    "    start = time.time()\n",
    "\n",
    "    # first I build the observables\n",
    "    observables_tebd = {}\n",
    "    results_tebd = {}\n",
    "    for ob1, ob2 in product(['I', 'X', 'Y', 'Z'], repeat=2):\n",
    "        key = ob1 + '1' + ob2 + '2'\n",
    "        results_tebd[key] = []\n",
    "        observables_tebd[key] = []\n",
    "\n",
    "    # dropping the identity\n",
    "    observables_tebd.pop('I1I2')\n",
    "    results_tebd.pop('I1I2')\n",
    "\n",
    "    # create the object\n",
    "    tebd = qtn.TEBD(psi_init, H)\n",
    "\n",
    "    # cutoff for truncating after each infinitesimal-time operator application\n",
    "    tebd.split_opts['cutoff'] = cutoff\n",
    "\n",
    "    keys = results_tebd.keys()\n",
    "\n",
    "    # I can either set a timestep or a tolerance and the timestep is calculated accordingly\n",
    "    # generate the state at each time in t (same as exact simulation)\n",
    "    #     and target error 1e-3 for whole evolution\n",
    "    for psit in tebd.at_times(t, tol=tolerance):\n",
    "        for key in keys:\n",
    "            ob1 = qu.pauli(key[0]) & qu.pauli('I')\n",
    "            ob2 = qu.pauli(key[2]) & qu.pauli('I')\n",
    "            results_tebd[key].append((psit.H @ psit.gate(ob1 & ob2, (0, 1))).real)\n",
    "\n",
    "    end = time.time()\n",
    "    print(f'Time:{int(end - start)}s')\n",
    "    \n",
    "    ### GET ERROR\n",
    "    # I am interested in the maximum error\n",
    "    keys = observables_tebd.keys()\n",
    "\n",
    "    diff = {}\n",
    "    max_err = 0\n",
    "\n",
    "    for key in keys:\n",
    "        diff[key] = np.array([results_ex[key][i] - results_tebd[key][i] for i in range(len(t))])\n",
    "        tmp = np.abs(diff[key]).max()\n",
    "        if tmp > max_err:\n",
    "            max_err = tmp\n",
    "    print(f'Max error {max_err}')\n",
    "    \n",
    "    return max_err"
   ]
  },
  {
   "cell_type": "code",
   "execution_count": null,
   "id": "2859ea4f",
   "metadata": {},
   "outputs": [
    {
     "name": "stdout",
     "output_type": "stream",
     "text": [
      "i = 0, j = 0 =====================================\n",
      "Simulation 0 / 245\n",
      "Building Hamiltonian for L=7\n",
      "Initial state: random subsystem and thermal bath\n",
      "\n",
      "done\n",
      "Building Hamiltonian for L=7 \n",
      "\n",
      "Building the spin chain \n",
      "\n",
      "Imaginary time evolution \n",
      "\n"
     ]
    },
    {
     "name": "stderr",
     "output_type": "stream",
     "text": [
      "t=0.005, max-bond=4: 100%|#################################################################################################################################################################################################| 100/100 [00:00<00:00, 4316.33%/s]\n"
     ]
    },
    {
     "name": "stdout",
     "output_type": "stream",
     "text": [
      "Real time evolution\n"
     ]
    },
    {
     "name": "stderr",
     "output_type": "stream",
     "text": [
      "t=9.9, max-bond=4: 100%|####################################################################################################################################################################################################| 100/100 [00:02<00:00, 40.06it/s]\n"
     ]
    },
    {
     "name": "stdout",
     "output_type": "stream",
     "text": [
      "Time:2s\n",
      "Max error 0.0061135874123108514\n",
      "Simulation 1 / 245\n",
      "Building Hamiltonian for L=7\n",
      "Initial state: random subsystem and thermal bath\n",
      "\n",
      "done\n",
      "Building Hamiltonian for L=7 \n",
      "\n",
      "Building the spin chain \n",
      "\n",
      "Imaginary time evolution \n",
      "\n"
     ]
    },
    {
     "name": "stderr",
     "output_type": "stream",
     "text": [
      "t=0.005, max-bond=4: 100%|#################################################################################################################################################################################################| 100/100 [00:00<00:00, 7192.74%/s]\n"
     ]
    },
    {
     "name": "stdout",
     "output_type": "stream",
     "text": [
      "Real time evolution\n"
     ]
    },
    {
     "name": "stderr",
     "output_type": "stream",
     "text": [
      "t=9.9, max-bond=4: 100%|####################################################################################################################################################################################################| 100/100 [00:02<00:00, 40.22it/s]\n"
     ]
    },
    {
     "name": "stdout",
     "output_type": "stream",
     "text": [
      "Time:2s\n",
      "Max error 0.00528061083511454\n",
      "Simulation 2 / 245\n",
      "Building Hamiltonian for L=7\n",
      "Initial state: random subsystem and thermal bath\n",
      "\n",
      "done\n",
      "Building Hamiltonian for L=7 \n",
      "\n",
      "Building the spin chain \n",
      "\n",
      "Imaginary time evolution \n",
      "\n"
     ]
    },
    {
     "name": "stderr",
     "output_type": "stream",
     "text": [
      "t=0.005, max-bond=4: 100%|#################################################################################################################################################################################################| 100/100 [00:00<00:00, 7403.76%/s]\n"
     ]
    },
    {
     "name": "stdout",
     "output_type": "stream",
     "text": [
      "Real time evolution\n"
     ]
    },
    {
     "name": "stderr",
     "output_type": "stream",
     "text": [
      "t=9.9, max-bond=4: 100%|####################################################################################################################################################################################################| 100/100 [00:02<00:00, 39.90it/s]\n"
     ]
    },
    {
     "name": "stdout",
     "output_type": "stream",
     "text": [
      "Time:2s\n",
      "Max error 0.006960464159222945\n",
      "Simulation 3 / 245\n",
      "Building Hamiltonian for L=7\n",
      "Initial state: random subsystem and thermal bath\n",
      "\n",
      "done\n",
      "Building Hamiltonian for L=7 \n",
      "\n",
      "Building the spin chain \n",
      "\n",
      "Imaginary time evolution \n",
      "\n"
     ]
    },
    {
     "name": "stderr",
     "output_type": "stream",
     "text": [
      "t=0.005, max-bond=4: 100%|#################################################################################################################################################################################################| 100/100 [00:00<00:00, 7405.20%/s]\n"
     ]
    },
    {
     "name": "stdout",
     "output_type": "stream",
     "text": [
      "Real time evolution\n"
     ]
    },
    {
     "name": "stderr",
     "output_type": "stream",
     "text": [
      "t=9.9, max-bond=4: 100%|####################################################################################################################################################################################################| 100/100 [00:02<00:00, 39.72it/s]\n"
     ]
    },
    {
     "name": "stdout",
     "output_type": "stream",
     "text": [
      "Time:2s\n",
      "Max error 0.005098755734251004\n",
      "Simulation 4 / 245\n",
      "Building Hamiltonian for L=7\n",
      "Initial state: random subsystem and thermal bath\n",
      "\n",
      "done\n",
      "Building Hamiltonian for L=7 \n",
      "\n",
      "Building the spin chain \n",
      "\n",
      "Imaginary time evolution \n",
      "\n"
     ]
    },
    {
     "name": "stderr",
     "output_type": "stream",
     "text": [
      "t=0.005, max-bond=4: 100%|#################################################################################################################################################################################################| 100/100 [00:00<00:00, 7308.04%/s]\n"
     ]
    },
    {
     "name": "stdout",
     "output_type": "stream",
     "text": [
      "Real time evolution\n"
     ]
    },
    {
     "name": "stderr",
     "output_type": "stream",
     "text": [
      "t=9.9, max-bond=4: 100%|####################################################################################################################################################################################################| 100/100 [00:02<00:00, 39.94it/s]\n"
     ]
    },
    {
     "name": "stdout",
     "output_type": "stream",
     "text": [
      "Time:2s\n",
      "Max error 0.006548187237441277\n",
      "i = 0, j = 1 =====================================\n",
      "Simulation 5 / 245\n",
      "Building Hamiltonian for L=7\n",
      "Initial state: random subsystem and thermal bath\n",
      "\n",
      "done\n",
      "Building Hamiltonian for L=7 \n",
      "\n",
      "Building the spin chain \n",
      "\n",
      "Imaginary time evolution \n",
      "\n"
     ]
    },
    {
     "name": "stderr",
     "output_type": "stream",
     "text": [
      "t=0.005, max-bond=4: 100%|#################################################################################################################################################################################################| 100/100 [00:00<00:00, 7312.76%/s]\n"
     ]
    },
    {
     "name": "stdout",
     "output_type": "stream",
     "text": [
      "Real time evolution\n"
     ]
    },
    {
     "name": "stderr",
     "output_type": "stream",
     "text": [
      "t=9.9, max-bond=4: 100%|####################################################################################################################################################################################################| 100/100 [00:02<00:00, 39.79it/s]\n"
     ]
    },
    {
     "name": "stdout",
     "output_type": "stream",
     "text": [
      "Time:2s\n",
      "Max error 0.004146257452330069\n",
      "Simulation 6 / 245\n",
      "Building Hamiltonian for L=7\n",
      "Initial state: random subsystem and thermal bath\n",
      "\n",
      "done\n",
      "Building Hamiltonian for L=7 \n",
      "\n",
      "Building the spin chain \n",
      "\n",
      "Imaginary time evolution \n",
      "\n"
     ]
    },
    {
     "name": "stderr",
     "output_type": "stream",
     "text": [
      "t=0.005, max-bond=4: 100%|#################################################################################################################################################################################################| 100/100 [00:00<00:00, 7301.68%/s]\n"
     ]
    },
    {
     "name": "stdout",
     "output_type": "stream",
     "text": [
      "Real time evolution\n"
     ]
    },
    {
     "name": "stderr",
     "output_type": "stream",
     "text": [
      "t=9.9, max-bond=4: 100%|####################################################################################################################################################################################################| 100/100 [00:02<00:00, 39.99it/s]\n"
     ]
    },
    {
     "name": "stdout",
     "output_type": "stream",
     "text": [
      "Time:2s\n",
      "Max error 0.00473388885769192\n",
      "Simulation 7 / 245\n",
      "Building Hamiltonian for L=7\n",
      "Initial state: random subsystem and thermal bath\n",
      "\n",
      "done\n",
      "Building Hamiltonian for L=7 \n",
      "\n",
      "Building the spin chain \n",
      "\n",
      "Imaginary time evolution \n",
      "\n"
     ]
    },
    {
     "name": "stderr",
     "output_type": "stream",
     "text": [
      "t=0.005, max-bond=4: 100%|#################################################################################################################################################################################################| 100/100 [00:00<00:00, 7316.07%/s]\n"
     ]
    },
    {
     "name": "stdout",
     "output_type": "stream",
     "text": [
      "Real time evolution\n"
     ]
    },
    {
     "name": "stderr",
     "output_type": "stream",
     "text": [
      "t=9.9, max-bond=4: 100%|####################################################################################################################################################################################################| 100/100 [00:02<00:00, 40.13it/s]\n"
     ]
    },
    {
     "name": "stdout",
     "output_type": "stream",
     "text": [
      "Time:2s\n",
      "Max error 0.007032206113479288\n",
      "Simulation 8 / 245\n",
      "Building Hamiltonian for L=7\n",
      "Initial state: random subsystem and thermal bath\n",
      "\n",
      "done\n",
      "Building Hamiltonian for L=7 \n",
      "\n",
      "Building the spin chain \n",
      "\n",
      "Imaginary time evolution \n",
      "\n"
     ]
    },
    {
     "name": "stderr",
     "output_type": "stream",
     "text": [
      "t=0.005, max-bond=4: 100%|#################################################################################################################################################################################################| 100/100 [00:00<00:00, 7363.47%/s]\n"
     ]
    },
    {
     "name": "stdout",
     "output_type": "stream",
     "text": [
      "Real time evolution\n"
     ]
    },
    {
     "name": "stderr",
     "output_type": "stream",
     "text": [
      "t=9.9, max-bond=4: 100%|####################################################################################################################################################################################################| 100/100 [00:02<00:00, 40.03it/s]\n"
     ]
    },
    {
     "name": "stdout",
     "output_type": "stream",
     "text": [
      "Time:2s\n",
      "Max error 0.00484695660259312\n",
      "Simulation 9 / 245\n",
      "Building Hamiltonian for L=7\n",
      "Initial state: random subsystem and thermal bath\n",
      "\n",
      "done\n",
      "Building Hamiltonian for L=7 \n",
      "\n",
      "Building the spin chain \n",
      "\n",
      "Imaginary time evolution \n",
      "\n"
     ]
    },
    {
     "name": "stderr",
     "output_type": "stream",
     "text": [
      "t=0.005, max-bond=4: 100%|#################################################################################################################################################################################################| 100/100 [00:00<00:00, 7365.92%/s]\n"
     ]
    },
    {
     "name": "stdout",
     "output_type": "stream",
     "text": [
      "Real time evolution\n"
     ]
    },
    {
     "name": "stderr",
     "output_type": "stream",
     "text": [
      "t=9.9, max-bond=4: 100%|####################################################################################################################################################################################################| 100/100 [00:02<00:00, 40.08it/s]\n"
     ]
    },
    {
     "name": "stdout",
     "output_type": "stream",
     "text": [
      "Time:2s\n",
      "Max error 0.006166585310700461\n",
      "i = 0, j = 2 =====================================\n",
      "Simulation 10 / 245\n",
      "Building Hamiltonian for L=7\n",
      "Initial state: random subsystem and thermal bath\n",
      "\n",
      "done\n",
      "Building Hamiltonian for L=7 \n",
      "\n",
      "Building the spin chain \n",
      "\n",
      "Imaginary time evolution \n",
      "\n"
     ]
    },
    {
     "name": "stderr",
     "output_type": "stream",
     "text": [
      "t=0.005, max-bond=4: 100%|#################################################################################################################################################################################################| 100/100 [00:00<00:00, 6786.68%/s]\n"
     ]
    },
    {
     "name": "stdout",
     "output_type": "stream",
     "text": [
      "Real time evolution\n"
     ]
    },
    {
     "name": "stderr",
     "output_type": "stream",
     "text": [
      "t=9.9, max-bond=4: 100%|####################################################################################################################################################################################################| 100/100 [00:02<00:00, 39.99it/s]\n"
     ]
    },
    {
     "name": "stdout",
     "output_type": "stream",
     "text": [
      "Time:2s\n",
      "Max error 0.004940133955015296\n",
      "Simulation 11 / 245\n",
      "Building Hamiltonian for L=7\n",
      "Initial state: random subsystem and thermal bath\n",
      "\n",
      "done\n",
      "Building Hamiltonian for L=7 \n",
      "\n",
      "Building the spin chain \n",
      "\n",
      "Imaginary time evolution \n",
      "\n"
     ]
    },
    {
     "name": "stderr",
     "output_type": "stream",
     "text": [
      "t=0.005, max-bond=4: 100%|#################################################################################################################################################################################################| 100/100 [00:00<00:00, 7137.90%/s]\n"
     ]
    },
    {
     "name": "stdout",
     "output_type": "stream",
     "text": [
      "Real time evolution\n"
     ]
    },
    {
     "name": "stderr",
     "output_type": "stream",
     "text": [
      "t=9.9, max-bond=4: 100%|####################################################################################################################################################################################################| 100/100 [00:02<00:00, 40.01it/s]\n"
     ]
    },
    {
     "name": "stdout",
     "output_type": "stream",
     "text": [
      "Time:2s\n",
      "Max error 0.0033152834779218753\n",
      "Simulation 12 / 245\n",
      "Building Hamiltonian for L=7\n",
      "Initial state: random subsystem and thermal bath\n",
      "\n",
      "done\n",
      "Building Hamiltonian for L=7 \n",
      "\n",
      "Building the spin chain \n",
      "\n",
      "Imaginary time evolution \n",
      "\n"
     ]
    },
    {
     "name": "stderr",
     "output_type": "stream",
     "text": [
      "t=0.005, max-bond=4: 100%|#################################################################################################################################################################################################| 100/100 [00:00<00:00, 6894.67%/s]\n"
     ]
    },
    {
     "name": "stdout",
     "output_type": "stream",
     "text": [
      "Real time evolution\n"
     ]
    },
    {
     "name": "stderr",
     "output_type": "stream",
     "text": [
      "t=9.9, max-bond=4: 100%|####################################################################################################################################################################################################| 100/100 [00:02<00:00, 40.10it/s]\n"
     ]
    },
    {
     "name": "stdout",
     "output_type": "stream",
     "text": [
      "Time:2s\n",
      "Max error 0.004952194691475452\n",
      "Simulation 13 / 245\n",
      "Building Hamiltonian for L=7\n",
      "Initial state: random subsystem and thermal bath\n",
      "\n",
      "done\n",
      "Building Hamiltonian for L=7 \n",
      "\n",
      "Building the spin chain \n",
      "\n",
      "Imaginary time evolution \n",
      "\n"
     ]
    },
    {
     "name": "stderr",
     "output_type": "stream",
     "text": [
      "t=0.005, max-bond=4: 100%|#################################################################################################################################################################################################| 100/100 [00:00<00:00, 7130.62%/s]\n"
     ]
    },
    {
     "name": "stdout",
     "output_type": "stream",
     "text": [
      "Real time evolution\n"
     ]
    },
    {
     "name": "stderr",
     "output_type": "stream",
     "text": [
      "t=9.9, max-bond=4: 100%|####################################################################################################################################################################################################| 100/100 [00:02<00:00, 40.44it/s]\n"
     ]
    },
    {
     "name": "stdout",
     "output_type": "stream",
     "text": [
      "Time:2s\n",
      "Max error 0.005028150716076736\n",
      "Simulation 14 / 245\n",
      "Building Hamiltonian for L=7\n",
      "Initial state: random subsystem and thermal bath\n",
      "\n",
      "done\n",
      "Building Hamiltonian for L=7 \n",
      "\n",
      "Building the spin chain \n",
      "\n",
      "Imaginary time evolution \n",
      "\n"
     ]
    },
    {
     "name": "stderr",
     "output_type": "stream",
     "text": [
      "t=0.005, max-bond=4: 100%|#################################################################################################################################################################################################| 100/100 [00:00<00:00, 7132.20%/s]\n"
     ]
    },
    {
     "name": "stdout",
     "output_type": "stream",
     "text": [
      "Real time evolution\n"
     ]
    },
    {
     "name": "stderr",
     "output_type": "stream",
     "text": [
      "t=9.9, max-bond=4: 100%|####################################################################################################################################################################################################| 100/100 [00:02<00:00, 39.90it/s]\n"
     ]
    },
    {
     "name": "stdout",
     "output_type": "stream",
     "text": [
      "Time:2s\n",
      "Max error 0.003914970580231225\n",
      "i = 0, j = 3 =====================================\n",
      "Simulation 15 / 245\n",
      "Building Hamiltonian for L=7\n",
      "Initial state: random subsystem and thermal bath\n",
      "\n",
      "done\n",
      "Building Hamiltonian for L=7 \n",
      "\n",
      "Building the spin chain \n",
      "\n",
      "Imaginary time evolution \n",
      "\n"
     ]
    },
    {
     "name": "stderr",
     "output_type": "stream",
     "text": [
      "t=0.005, max-bond=4: 100%|#################################################################################################################################################################################################| 100/100 [00:00<00:00, 7003.23%/s]\n"
     ]
    },
    {
     "name": "stdout",
     "output_type": "stream",
     "text": [
      "Real time evolution\n"
     ]
    },
    {
     "name": "stderr",
     "output_type": "stream",
     "text": [
      "t=9.9, max-bond=4: 100%|####################################################################################################################################################################################################| 100/100 [00:02<00:00, 40.03it/s]\n"
     ]
    },
    {
     "name": "stdout",
     "output_type": "stream",
     "text": [
      "Time:2s\n",
      "Max error 0.0028475830455584996\n",
      "Simulation 16 / 245\n",
      "Building Hamiltonian for L=7\n",
      "Initial state: random subsystem and thermal bath\n",
      "\n",
      "done\n",
      "Building Hamiltonian for L=7 \n",
      "\n",
      "Building the spin chain \n",
      "\n",
      "Imaginary time evolution \n",
      "\n"
     ]
    },
    {
     "name": "stderr",
     "output_type": "stream",
     "text": [
      "t=0.005, max-bond=4: 100%|#################################################################################################################################################################################################| 100/100 [00:00<00:00, 6953.54%/s]\n"
     ]
    },
    {
     "name": "stdout",
     "output_type": "stream",
     "text": [
      "Real time evolution\n"
     ]
    },
    {
     "name": "stderr",
     "output_type": "stream",
     "text": [
      "t=9.9, max-bond=4: 100%|####################################################################################################################################################################################################| 100/100 [00:02<00:00, 40.36it/s]\n"
     ]
    },
    {
     "name": "stdout",
     "output_type": "stream",
     "text": [
      "Time:2s\n",
      "Max error 0.003565688824046399\n",
      "Simulation 17 / 245\n",
      "Building Hamiltonian for L=7\n",
      "Initial state: random subsystem and thermal bath\n",
      "\n",
      "done\n",
      "Building Hamiltonian for L=7 \n",
      "\n",
      "Building the spin chain \n",
      "\n",
      "Imaginary time evolution \n",
      "\n"
     ]
    },
    {
     "name": "stderr",
     "output_type": "stream",
     "text": [
      "t=0.005, max-bond=4: 100%|#################################################################################################################################################################################################| 100/100 [00:00<00:00, 7057.43%/s]\n"
     ]
    },
    {
     "name": "stdout",
     "output_type": "stream",
     "text": [
      "Real time evolution\n"
     ]
    },
    {
     "name": "stderr",
     "output_type": "stream",
     "text": [
      "t=9.9, max-bond=4: 100%|####################################################################################################################################################################################################| 100/100 [00:02<00:00, 40.14it/s]\n"
     ]
    },
    {
     "name": "stdout",
     "output_type": "stream",
     "text": [
      "Time:2s\n",
      "Max error 0.0030147595239597346\n",
      "Simulation 18 / 245\n",
      "Building Hamiltonian for L=7\n",
      "Initial state: random subsystem and thermal bath\n",
      "\n",
      "done\n",
      "Building Hamiltonian for L=7 \n",
      "\n",
      "Building the spin chain \n",
      "\n",
      "Imaginary time evolution \n",
      "\n"
     ]
    },
    {
     "name": "stderr",
     "output_type": "stream",
     "text": [
      "t=0.005, max-bond=4: 100%|#################################################################################################################################################################################################| 100/100 [00:00<00:00, 6988.06%/s]\n"
     ]
    },
    {
     "name": "stdout",
     "output_type": "stream",
     "text": [
      "Real time evolution\n"
     ]
    },
    {
     "name": "stderr",
     "output_type": "stream",
     "text": [
      "t=9.9, max-bond=4: 100%|####################################################################################################################################################################################################| 100/100 [00:02<00:00, 40.12it/s]\n"
     ]
    },
    {
     "name": "stdout",
     "output_type": "stream",
     "text": [
      "Time:2s\n",
      "Max error 0.0032434389825410723\n",
      "Simulation 19 / 245\n",
      "Building Hamiltonian for L=7\n",
      "Initial state: random subsystem and thermal bath\n",
      "\n",
      "done\n",
      "Building Hamiltonian for L=7 \n",
      "\n",
      "Building the spin chain \n",
      "\n",
      "Imaginary time evolution \n",
      "\n"
     ]
    },
    {
     "name": "stderr",
     "output_type": "stream",
     "text": [
      "t=0.005, max-bond=4: 100%|#################################################################################################################################################################################################| 100/100 [00:00<00:00, 7100.45%/s]\n"
     ]
    },
    {
     "name": "stdout",
     "output_type": "stream",
     "text": [
      "Real time evolution\n"
     ]
    },
    {
     "name": "stderr",
     "output_type": "stream",
     "text": [
      "t=9.9, max-bond=4: 100%|####################################################################################################################################################################################################| 100/100 [00:02<00:00, 40.28it/s]\n"
     ]
    },
    {
     "name": "stdout",
     "output_type": "stream",
     "text": [
      "Time:2s\n",
      "Max error 0.004783956004583592\n",
      "i = 0, j = 4 =====================================\n",
      "Simulation 20 / 245\n",
      "Building Hamiltonian for L=7\n",
      "Initial state: random subsystem and thermal bath\n",
      "\n",
      "done\n",
      "Building Hamiltonian for L=7 \n",
      "\n",
      "Building the spin chain \n",
      "\n",
      "Imaginary time evolution \n",
      "\n"
     ]
    },
    {
     "name": "stderr",
     "output_type": "stream",
     "text": [
      "t=0.005, max-bond=4: 100%|#################################################################################################################################################################################################| 100/100 [00:00<00:00, 6994.00%/s]\n"
     ]
    },
    {
     "name": "stdout",
     "output_type": "stream",
     "text": [
      "Real time evolution\n"
     ]
    },
    {
     "name": "stderr",
     "output_type": "stream",
     "text": [
      "t=9.9, max-bond=4: 100%|####################################################################################################################################################################################################| 100/100 [00:02<00:00, 40.22it/s]\n"
     ]
    },
    {
     "name": "stdout",
     "output_type": "stream",
     "text": [
      "Time:2s\n",
      "Max error 0.004533713240176195\n",
      "Simulation 21 / 245\n",
      "Building Hamiltonian for L=7\n",
      "Initial state: random subsystem and thermal bath\n",
      "\n",
      "done\n",
      "Building Hamiltonian for L=7 \n",
      "\n",
      "Building the spin chain \n",
      "\n",
      "Imaginary time evolution \n",
      "\n"
     ]
    },
    {
     "name": "stderr",
     "output_type": "stream",
     "text": [
      "t=0.005, max-bond=4: 100%|#################################################################################################################################################################################################| 100/100 [00:00<00:00, 6857.81%/s]\n"
     ]
    },
    {
     "name": "stdout",
     "output_type": "stream",
     "text": [
      "Real time evolution\n"
     ]
    },
    {
     "name": "stderr",
     "output_type": "stream",
     "text": [
      "t=9.9, max-bond=4: 100%|####################################################################################################################################################################################################| 100/100 [00:02<00:00, 40.25it/s]\n"
     ]
    },
    {
     "name": "stdout",
     "output_type": "stream",
     "text": [
      "Time:2s\n",
      "Max error 0.003528765748620472\n",
      "Simulation 22 / 245\n",
      "Building Hamiltonian for L=7\n",
      "Initial state: random subsystem and thermal bath\n",
      "\n",
      "done\n",
      "Building Hamiltonian for L=7 \n",
      "\n",
      "Building the spin chain \n",
      "\n",
      "Imaginary time evolution \n",
      "\n"
     ]
    },
    {
     "name": "stderr",
     "output_type": "stream",
     "text": [
      "t=0.005, max-bond=4: 100%|#################################################################################################################################################################################################| 100/100 [00:00<00:00, 6908.75%/s]\n"
     ]
    },
    {
     "name": "stdout",
     "output_type": "stream",
     "text": [
      "Real time evolution\n"
     ]
    },
    {
     "name": "stderr",
     "output_type": "stream",
     "text": [
      "t=9.9, max-bond=4: 100%|####################################################################################################################################################################################################| 100/100 [00:02<00:00, 40.28it/s]\n"
     ]
    },
    {
     "name": "stdout",
     "output_type": "stream",
     "text": [
      "Time:2s\n",
      "Max error 0.00545436833241897\n",
      "Simulation 23 / 245\n",
      "Building Hamiltonian for L=7\n",
      "Initial state: random subsystem and thermal bath\n",
      "\n",
      "done\n",
      "Building Hamiltonian for L=7 \n",
      "\n",
      "Building the spin chain \n",
      "\n",
      "Imaginary time evolution \n",
      "\n"
     ]
    },
    {
     "name": "stderr",
     "output_type": "stream",
     "text": [
      "t=0.005, max-bond=4: 100%|#################################################################################################################################################################################################| 100/100 [00:00<00:00, 6986.78%/s]\n"
     ]
    },
    {
     "name": "stdout",
     "output_type": "stream",
     "text": [
      "Real time evolution\n"
     ]
    },
    {
     "name": "stderr",
     "output_type": "stream",
     "text": [
      "t=9.9, max-bond=4: 100%|####################################################################################################################################################################################################| 100/100 [00:02<00:00, 40.04it/s]\n"
     ]
    },
    {
     "name": "stdout",
     "output_type": "stream",
     "text": [
      "Time:2s\n",
      "Max error 0.00439659855793036\n",
      "Simulation 24 / 245\n",
      "Building Hamiltonian for L=7\n",
      "Initial state: random subsystem and thermal bath\n",
      "\n",
      "done\n",
      "Building Hamiltonian for L=7 \n",
      "\n",
      "Building the spin chain \n",
      "\n",
      "Imaginary time evolution \n",
      "\n"
     ]
    },
    {
     "name": "stderr",
     "output_type": "stream",
     "text": [
      "t=0.005, max-bond=4: 100%|#################################################################################################################################################################################################| 100/100 [00:00<00:00, 6869.49%/s]\n"
     ]
    },
    {
     "name": "stdout",
     "output_type": "stream",
     "text": [
      "Real time evolution\n"
     ]
    },
    {
     "name": "stderr",
     "output_type": "stream",
     "text": [
      "t=9.9, max-bond=4: 100%|####################################################################################################################################################################################################| 100/100 [00:02<00:00, 40.09it/s]\n"
     ]
    },
    {
     "name": "stdout",
     "output_type": "stream",
     "text": [
      "Time:2s\n",
      "Max error 0.0033527095675799593\n",
      "i = 0, j = 5 =====================================\n",
      "Simulation 25 / 245\n",
      "Building Hamiltonian for L=7\n",
      "Initial state: random subsystem and thermal bath\n",
      "\n",
      "done\n",
      "Building Hamiltonian for L=7 \n",
      "\n",
      "Building the spin chain \n",
      "\n",
      "Imaginary time evolution \n",
      "\n"
     ]
    },
    {
     "name": "stderr",
     "output_type": "stream",
     "text": [
      "t=0.005, max-bond=4: 100%|#################################################################################################################################################################################################| 100/100 [00:00<00:00, 7013.42%/s]\n"
     ]
    },
    {
     "name": "stdout",
     "output_type": "stream",
     "text": [
      "Real time evolution\n"
     ]
    },
    {
     "name": "stderr",
     "output_type": "stream",
     "text": [
      "t=9.9, max-bond=4: 100%|####################################################################################################################################################################################################| 100/100 [00:02<00:00, 40.17it/s]\n"
     ]
    },
    {
     "name": "stdout",
     "output_type": "stream",
     "text": [
      "Time:2s\n",
      "Max error 0.004680890572839625\n",
      "Simulation 26 / 245\n",
      "Building Hamiltonian for L=7\n",
      "Initial state: random subsystem and thermal bath\n",
      "\n",
      "done\n",
      "Building Hamiltonian for L=7 \n",
      "\n",
      "Building the spin chain \n",
      "\n",
      "Imaginary time evolution \n",
      "\n"
     ]
    },
    {
     "name": "stderr",
     "output_type": "stream",
     "text": [
      "t=0.005, max-bond=4: 100%|#################################################################################################################################################################################################| 100/100 [00:00<00:00, 7044.99%/s]\n"
     ]
    },
    {
     "name": "stdout",
     "output_type": "stream",
     "text": [
      "Real time evolution\n"
     ]
    },
    {
     "name": "stderr",
     "output_type": "stream",
     "text": [
      "t=9.9, max-bond=4: 100%|####################################################################################################################################################################################################| 100/100 [00:02<00:00, 39.92it/s]\n"
     ]
    },
    {
     "name": "stdout",
     "output_type": "stream",
     "text": [
      "Time:2s\n",
      "Max error 0.004528460022783663\n",
      "Simulation 27 / 245\n",
      "Building Hamiltonian for L=7\n",
      "Initial state: random subsystem and thermal bath\n",
      "\n",
      "done\n",
      "Building Hamiltonian for L=7 \n",
      "\n",
      "Building the spin chain \n",
      "\n",
      "Imaginary time evolution \n",
      "\n"
     ]
    },
    {
     "name": "stderr",
     "output_type": "stream",
     "text": [
      "t=0.005, max-bond=4: 100%|#################################################################################################################################################################################################| 100/100 [00:00<00:00, 6994.47%/s]\n"
     ]
    },
    {
     "name": "stdout",
     "output_type": "stream",
     "text": [
      "Real time evolution\n"
     ]
    },
    {
     "name": "stderr",
     "output_type": "stream",
     "text": [
      "t=9.9, max-bond=4: 100%|####################################################################################################################################################################################################| 100/100 [00:02<00:00, 40.18it/s]\n"
     ]
    },
    {
     "name": "stdout",
     "output_type": "stream",
     "text": [
      "Time:2s\n",
      "Max error 0.0038754439255137313\n",
      "Simulation 28 / 245\n",
      "Building Hamiltonian for L=7\n",
      "Initial state: random subsystem and thermal bath\n",
      "\n",
      "done\n",
      "Building Hamiltonian for L=7 \n",
      "\n",
      "Building the spin chain \n",
      "\n",
      "Imaginary time evolution \n",
      "\n"
     ]
    },
    {
     "name": "stderr",
     "output_type": "stream",
     "text": [
      "t=0.005, max-bond=4: 100%|#################################################################################################################################################################################################| 100/100 [00:00<00:00, 6867.24%/s]\n"
     ]
    },
    {
     "name": "stdout",
     "output_type": "stream",
     "text": [
      "Real time evolution\n"
     ]
    },
    {
     "name": "stderr",
     "output_type": "stream",
     "text": [
      "t=9.9, max-bond=4: 100%|####################################################################################################################################################################################################| 100/100 [00:02<00:00, 39.26it/s]\n"
     ]
    },
    {
     "name": "stdout",
     "output_type": "stream",
     "text": [
      "Time:2s\n",
      "Max error 0.005186453354635738\n",
      "Simulation 29 / 245\n",
      "Building Hamiltonian for L=7\n",
      "Initial state: random subsystem and thermal bath\n",
      "\n",
      "done\n",
      "Building Hamiltonian for L=7 \n",
      "\n",
      "Building the spin chain \n",
      "\n",
      "Imaginary time evolution \n",
      "\n"
     ]
    },
    {
     "name": "stderr",
     "output_type": "stream",
     "text": [
      "t=0.005, max-bond=4: 100%|#################################################################################################################################################################################################| 100/100 [00:00<00:00, 6917.18%/s]\n"
     ]
    },
    {
     "name": "stdout",
     "output_type": "stream",
     "text": [
      "Real time evolution\n"
     ]
    },
    {
     "name": "stderr",
     "output_type": "stream",
     "text": [
      "t=9.9, max-bond=4: 100%|####################################################################################################################################################################################################| 100/100 [00:02<00:00, 39.91it/s]\n"
     ]
    },
    {
     "name": "stdout",
     "output_type": "stream",
     "text": [
      "Time:2s\n",
      "Max error 0.004536578117724314\n",
      "i = 0, j = 6 =====================================\n",
      "Simulation 30 / 245\n",
      "Building Hamiltonian for L=7\n",
      "Initial state: random subsystem and thermal bath\n",
      "\n",
      "done\n",
      "Building Hamiltonian for L=7 \n",
      "\n",
      "Building the spin chain \n",
      "\n",
      "Imaginary time evolution \n",
      "\n"
     ]
    },
    {
     "name": "stderr",
     "output_type": "stream",
     "text": [
      "t=0.005, max-bond=4: 100%|#################################################################################################################################################################################################| 100/100 [00:00<00:00, 6994.47%/s]\n"
     ]
    },
    {
     "name": "stdout",
     "output_type": "stream",
     "text": [
      "Real time evolution\n"
     ]
    },
    {
     "name": "stderr",
     "output_type": "stream",
     "text": [
      "t=9.9, max-bond=4: 100%|####################################################################################################################################################################################################| 100/100 [00:02<00:00, 40.04it/s]\n"
     ]
    },
    {
     "name": "stdout",
     "output_type": "stream",
     "text": [
      "Time:2s\n",
      "Max error 0.004599571337996622\n",
      "Simulation 31 / 245\n",
      "Building Hamiltonian for L=7\n",
      "Initial state: random subsystem and thermal bath\n",
      "\n",
      "done\n",
      "Building Hamiltonian for L=7 \n",
      "\n",
      "Building the spin chain \n",
      "\n",
      "Imaginary time evolution \n",
      "\n"
     ]
    },
    {
     "name": "stderr",
     "output_type": "stream",
     "text": [
      "t=0.005, max-bond=4: 100%|#################################################################################################################################################################################################| 100/100 [00:00<00:00, 6904.32%/s]\n"
     ]
    },
    {
     "name": "stdout",
     "output_type": "stream",
     "text": [
      "Real time evolution\n"
     ]
    },
    {
     "name": "stderr",
     "output_type": "stream",
     "text": [
      "t=9.9, max-bond=4: 100%|####################################################################################################################################################################################################| 100/100 [00:02<00:00, 40.06it/s]\n"
     ]
    },
    {
     "name": "stdout",
     "output_type": "stream",
     "text": [
      "Time:2s\n",
      "Max error 0.004338413642714933\n",
      "Simulation 32 / 245\n",
      "Building Hamiltonian for L=7\n",
      "Initial state: random subsystem and thermal bath\n",
      "\n",
      "done\n",
      "Building Hamiltonian for L=7 \n",
      "\n",
      "Building the spin chain \n",
      "\n",
      "Imaginary time evolution \n",
      "\n"
     ]
    },
    {
     "name": "stderr",
     "output_type": "stream",
     "text": [
      "t=0.005, max-bond=4: 100%|#################################################################################################################################################################################################| 100/100 [00:00<00:00, 7064.45%/s]\n"
     ]
    },
    {
     "name": "stdout",
     "output_type": "stream",
     "text": [
      "Real time evolution\n"
     ]
    },
    {
     "name": "stderr",
     "output_type": "stream",
     "text": [
      "t=9.9, max-bond=4: 100%|####################################################################################################################################################################################################| 100/100 [00:02<00:00, 40.07it/s]\n"
     ]
    },
    {
     "name": "stdout",
     "output_type": "stream",
     "text": [
      "Time:2s\n",
      "Max error 0.0031744709241096035\n",
      "Simulation 33 / 245\n",
      "Building Hamiltonian for L=7\n",
      "Initial state: random subsystem and thermal bath\n",
      "\n",
      "done\n",
      "Building Hamiltonian for L=7 \n",
      "\n",
      "Building the spin chain \n",
      "\n",
      "Imaginary time evolution \n",
      "\n"
     ]
    },
    {
     "name": "stderr",
     "output_type": "stream",
     "text": [
      "t=0.005, max-bond=4: 100%|#################################################################################################################################################################################################| 100/100 [00:00<00:00, 6948.01%/s]\n"
     ]
    },
    {
     "name": "stdout",
     "output_type": "stream",
     "text": [
      "Real time evolution\n"
     ]
    },
    {
     "name": "stderr",
     "output_type": "stream",
     "text": [
      "t=9.9, max-bond=4: 100%|####################################################################################################################################################################################################| 100/100 [00:02<00:00, 40.25it/s]\n"
     ]
    },
    {
     "name": "stdout",
     "output_type": "stream",
     "text": [
      "Time:2s\n",
      "Max error 0.003420093766409391\n",
      "Simulation 34 / 245\n",
      "Building Hamiltonian for L=7\n",
      "Initial state: random subsystem and thermal bath\n",
      "\n",
      "done\n",
      "Building Hamiltonian for L=7 \n",
      "\n",
      "Building the spin chain \n",
      "\n",
      "Imaginary time evolution \n",
      "\n"
     ]
    },
    {
     "name": "stderr",
     "output_type": "stream",
     "text": [
      "t=0.005, max-bond=4: 100%|#################################################################################################################################################################################################| 100/100 [00:00<00:00, 6957.57%/s]\n"
     ]
    },
    {
     "name": "stdout",
     "output_type": "stream",
     "text": [
      "Real time evolution\n"
     ]
    },
    {
     "name": "stderr",
     "output_type": "stream",
     "text": [
      "t=9.9, max-bond=4: 100%|####################################################################################################################################################################################################| 100/100 [00:02<00:00, 40.17it/s]\n"
     ]
    },
    {
     "name": "stdout",
     "output_type": "stream",
     "text": [
      "Time:2s\n",
      "Max error 0.003055047736158739\n",
      "i = 1, j = 0 =====================================\n",
      "Simulation 35 / 245\n",
      "Building Hamiltonian for L=7\n",
      "Initial state: random subsystem and thermal bath\n",
      "\n",
      "done\n",
      "Building Hamiltonian for L=7 \n",
      "\n",
      "Building the spin chain \n",
      "\n",
      "Imaginary time evolution \n",
      "\n"
     ]
    },
    {
     "name": "stderr",
     "output_type": "stream",
     "text": [
      "t=0.005, max-bond=4: 100%|#################################################################################################################################################################################################| 100/100 [00:00<00:00, 7171.47%/s]\n"
     ]
    },
    {
     "name": "stdout",
     "output_type": "stream",
     "text": [
      "Real time evolution\n"
     ]
    },
    {
     "name": "stderr",
     "output_type": "stream",
     "text": [
      "t=9.9, max-bond=6: 100%|####################################################################################################################################################################################################| 100/100 [00:02<00:00, 34.09it/s]\n"
     ]
    },
    {
     "name": "stdout",
     "output_type": "stream",
     "text": [
      "Time:2s\n",
      "Max error 0.050439175177042314\n",
      "Simulation 36 / 245\n",
      "Building Hamiltonian for L=7\n",
      "Initial state: random subsystem and thermal bath\n",
      "\n",
      "done\n",
      "Building Hamiltonian for L=7 \n",
      "\n",
      "Building the spin chain \n",
      "\n",
      "Imaginary time evolution \n",
      "\n"
     ]
    },
    {
     "name": "stderr",
     "output_type": "stream",
     "text": [
      "t=0.005, max-bond=4: 100%|#################################################################################################################################################################################################| 100/100 [00:00<00:00, 7249.81%/s]\n"
     ]
    },
    {
     "name": "stdout",
     "output_type": "stream",
     "text": [
      "Real time evolution\n"
     ]
    },
    {
     "name": "stderr",
     "output_type": "stream",
     "text": [
      "t=9.9, max-bond=6: 100%|####################################################################################################################################################################################################| 100/100 [00:02<00:00, 34.18it/s]\n"
     ]
    },
    {
     "name": "stdout",
     "output_type": "stream",
     "text": [
      "Time:2s\n",
      "Max error 0.05025261967051462\n",
      "Simulation 37 / 245\n",
      "Building Hamiltonian for L=7\n",
      "Initial state: random subsystem and thermal bath\n",
      "\n",
      "done\n",
      "Building Hamiltonian for L=7 \n",
      "\n",
      "Building the spin chain \n",
      "\n",
      "Imaginary time evolution \n",
      "\n"
     ]
    },
    {
     "name": "stderr",
     "output_type": "stream",
     "text": [
      "t=0.005, max-bond=4: 100%|#################################################################################################################################################################################################| 100/100 [00:00<00:00, 7160.45%/s]\n"
     ]
    },
    {
     "name": "stdout",
     "output_type": "stream",
     "text": [
      "Real time evolution\n"
     ]
    },
    {
     "name": "stderr",
     "output_type": "stream",
     "text": [
      "t=9.9, max-bond=6: 100%|####################################################################################################################################################################################################| 100/100 [00:02<00:00, 34.20it/s]\n"
     ]
    },
    {
     "name": "stdout",
     "output_type": "stream",
     "text": [
      "Time:2s\n",
      "Max error 0.05025137334905388\n",
      "Simulation 38 / 245\n",
      "Building Hamiltonian for L=7\n",
      "Initial state: random subsystem and thermal bath\n",
      "\n",
      "done\n",
      "Building Hamiltonian for L=7 \n",
      "\n",
      "Building the spin chain \n",
      "\n",
      "Imaginary time evolution \n",
      "\n"
     ]
    },
    {
     "name": "stderr",
     "output_type": "stream",
     "text": [
      "t=0.005, max-bond=4: 100%|#################################################################################################################################################################################################| 100/100 [00:00<00:00, 7291.02%/s]\n"
     ]
    },
    {
     "name": "stdout",
     "output_type": "stream",
     "text": [
      "Real time evolution\n"
     ]
    },
    {
     "name": "stderr",
     "output_type": "stream",
     "text": [
      "t=9.9, max-bond=6: 100%|####################################################################################################################################################################################################| 100/100 [00:02<00:00, 34.31it/s]\n"
     ]
    },
    {
     "name": "stdout",
     "output_type": "stream",
     "text": [
      "Time:2s\n",
      "Max error 0.05008654515697474\n",
      "Simulation 39 / 245\n",
      "Building Hamiltonian for L=7\n",
      "Initial state: random subsystem and thermal bath\n",
      "\n",
      "done\n",
      "Building Hamiltonian for L=7 \n",
      "\n",
      "Building the spin chain \n",
      "\n",
      "Imaginary time evolution \n",
      "\n"
     ]
    },
    {
     "name": "stderr",
     "output_type": "stream",
     "text": [
      "t=0.005, max-bond=4: 100%|#################################################################################################################################################################################################| 100/100 [00:00<00:00, 7318.88%/s]\n"
     ]
    },
    {
     "name": "stdout",
     "output_type": "stream",
     "text": [
      "Real time evolution\n"
     ]
    },
    {
     "name": "stderr",
     "output_type": "stream",
     "text": [
      "t=9.9, max-bond=6: 100%|####################################################################################################################################################################################################| 100/100 [00:02<00:00, 34.16it/s]\n"
     ]
    },
    {
     "name": "stdout",
     "output_type": "stream",
     "text": [
      "Time:2s\n",
      "Max error 0.05006788284040834\n",
      "i = 1, j = 1 =====================================\n",
      "Simulation 40 / 245\n",
      "Building Hamiltonian for L=7\n",
      "Initial state: random subsystem and thermal bath\n",
      "\n",
      "done\n",
      "Building Hamiltonian for L=7 \n",
      "\n",
      "Building the spin chain \n",
      "\n",
      "Imaginary time evolution \n",
      "\n"
     ]
    },
    {
     "name": "stderr",
     "output_type": "stream",
     "text": [
      "t=0.005, max-bond=4: 100%|#################################################################################################################################################################################################| 100/100 [00:00<00:00, 7264.00%/s]\n"
     ]
    },
    {
     "name": "stdout",
     "output_type": "stream",
     "text": [
      "Real time evolution\n"
     ]
    },
    {
     "name": "stderr",
     "output_type": "stream",
     "text": [
      "t=9.9, max-bond=6: 100%|####################################################################################################################################################################################################| 100/100 [00:02<00:00, 34.06it/s]\n"
     ]
    },
    {
     "name": "stdout",
     "output_type": "stream",
     "text": [
      "Time:2s\n",
      "Max error 0.0498136997231848\n",
      "Simulation 41 / 245\n",
      "Building Hamiltonian for L=7\n",
      "Initial state: random subsystem and thermal bath\n",
      "\n",
      "done\n",
      "Building Hamiltonian for L=7 \n",
      "\n",
      "Building the spin chain \n",
      "\n",
      "Imaginary time evolution \n",
      "\n"
     ]
    },
    {
     "name": "stderr",
     "output_type": "stream",
     "text": [
      "t=0.005, max-bond=4: 100%|#################################################################################################################################################################################################| 100/100 [00:00<00:00, 7401.41%/s]\n"
     ]
    },
    {
     "name": "stdout",
     "output_type": "stream",
     "text": [
      "Real time evolution\n"
     ]
    },
    {
     "name": "stderr",
     "output_type": "stream",
     "text": [
      "t=9.9, max-bond=6: 100%|####################################################################################################################################################################################################| 100/100 [00:02<00:00, 34.27it/s]\n"
     ]
    },
    {
     "name": "stdout",
     "output_type": "stream",
     "text": [
      "Time:2s\n",
      "Max error 0.05033411747198151\n",
      "Simulation 42 / 245\n",
      "Building Hamiltonian for L=7\n",
      "Initial state: random subsystem and thermal bath\n",
      "\n",
      "done\n",
      "Building Hamiltonian for L=7 \n",
      "\n",
      "Building the spin chain \n",
      "\n",
      "Imaginary time evolution \n",
      "\n"
     ]
    },
    {
     "name": "stderr",
     "output_type": "stream",
     "text": [
      "t=0.005, max-bond=4: 100%|#################################################################################################################################################################################################| 100/100 [00:00<00:00, 7342.07%/s]\n"
     ]
    },
    {
     "name": "stdout",
     "output_type": "stream",
     "text": [
      "Real time evolution\n"
     ]
    },
    {
     "name": "stderr",
     "output_type": "stream",
     "text": [
      "t=9.9, max-bond=6: 100%|####################################################################################################################################################################################################| 100/100 [00:02<00:00, 33.93it/s]\n"
     ]
    },
    {
     "name": "stdout",
     "output_type": "stream",
     "text": [
      "Time:2s\n",
      "Max error 0.05001783412802157\n",
      "Simulation 43 / 245\n",
      "Building Hamiltonian for L=7\n",
      "Initial state: random subsystem and thermal bath\n",
      "\n",
      "done\n",
      "Building Hamiltonian for L=7 \n",
      "\n",
      "Building the spin chain \n",
      "\n",
      "Imaginary time evolution \n",
      "\n"
     ]
    },
    {
     "name": "stderr",
     "output_type": "stream",
     "text": [
      "t=0.005, max-bond=4: 100%|#################################################################################################################################################################################################| 100/100 [00:00<00:00, 7347.73%/s]\n"
     ]
    },
    {
     "name": "stdout",
     "output_type": "stream",
     "text": [
      "Real time evolution\n"
     ]
    },
    {
     "name": "stderr",
     "output_type": "stream",
     "text": [
      "t=9.9, max-bond=6: 100%|####################################################################################################################################################################################################| 100/100 [00:02<00:00, 34.27it/s]\n"
     ]
    },
    {
     "name": "stdout",
     "output_type": "stream",
     "text": [
      "Time:2s\n",
      "Max error 0.05056473576936744\n",
      "Simulation 44 / 245\n",
      "Building Hamiltonian for L=7\n",
      "Initial state: random subsystem and thermal bath\n",
      "\n",
      "done\n",
      "Building Hamiltonian for L=7 \n",
      "\n",
      "Building the spin chain \n",
      "\n",
      "Imaginary time evolution \n",
      "\n"
     ]
    },
    {
     "name": "stderr",
     "output_type": "stream",
     "text": [
      "t=0.005, max-bond=4: 100%|#################################################################################################################################################################################################| 100/100 [00:00<00:00, 7392.93%/s]\n"
     ]
    },
    {
     "name": "stdout",
     "output_type": "stream",
     "text": [
      "Real time evolution\n"
     ]
    },
    {
     "name": "stderr",
     "output_type": "stream",
     "text": [
      "t=9.9, max-bond=6: 100%|####################################################################################################################################################################################################| 100/100 [00:02<00:00, 34.29it/s]\n"
     ]
    },
    {
     "name": "stdout",
     "output_type": "stream",
     "text": [
      "Time:2s\n",
      "Max error 0.05024644613284149\n",
      "i = 1, j = 2 =====================================\n",
      "Simulation 45 / 245\n",
      "Building Hamiltonian for L=7\n",
      "Initial state: random subsystem and thermal bath\n",
      "\n",
      "done\n",
      "Building Hamiltonian for L=7 \n",
      "\n",
      "Building the spin chain \n",
      "\n",
      "Imaginary time evolution \n",
      "\n"
     ]
    },
    {
     "name": "stderr",
     "output_type": "stream",
     "text": [
      "t=0.005, max-bond=4: 100%|#################################################################################################################################################################################################| 100/100 [00:00<00:00, 7192.99%/s]\n"
     ]
    },
    {
     "name": "stdout",
     "output_type": "stream",
     "text": [
      "Real time evolution\n"
     ]
    },
    {
     "name": "stderr",
     "output_type": "stream",
     "text": [
      "t=9.9, max-bond=6: 100%|####################################################################################################################################################################################################| 100/100 [00:02<00:00, 34.40it/s]\n"
     ]
    },
    {
     "name": "stdout",
     "output_type": "stream",
     "text": [
      "Time:2s\n",
      "Max error 0.025489941642666616\n",
      "Simulation 46 / 245\n",
      "Building Hamiltonian for L=7\n",
      "Initial state: random subsystem and thermal bath\n",
      "\n",
      "done\n",
      "Building Hamiltonian for L=7 \n",
      "\n",
      "Building the spin chain \n",
      "\n",
      "Imaginary time evolution \n",
      "\n"
     ]
    },
    {
     "name": "stderr",
     "output_type": "stream",
     "text": [
      "t=0.005, max-bond=4: 100%|#################################################################################################################################################################################################| 100/100 [00:00<00:00, 7031.76%/s]\n"
     ]
    },
    {
     "name": "stdout",
     "output_type": "stream",
     "text": [
      "Real time evolution\n"
     ]
    },
    {
     "name": "stderr",
     "output_type": "stream",
     "text": [
      "t=9.9, max-bond=6: 100%|####################################################################################################################################################################################################| 100/100 [00:02<00:00, 34.32it/s]\n"
     ]
    },
    {
     "name": "stdout",
     "output_type": "stream",
     "text": [
      "Time:2s\n",
      "Max error 0.025499381155119134\n",
      "Simulation 47 / 245\n",
      "Building Hamiltonian for L=7\n",
      "Initial state: random subsystem and thermal bath\n",
      "\n",
      "done\n",
      "Building Hamiltonian for L=7 \n",
      "\n",
      "Building the spin chain \n",
      "\n",
      "Imaginary time evolution \n",
      "\n"
     ]
    },
    {
     "name": "stderr",
     "output_type": "stream",
     "text": [
      "t=0.005, max-bond=4: 100%|#################################################################################################################################################################################################| 100/100 [00:00<00:00, 7155.44%/s]\n"
     ]
    },
    {
     "name": "stdout",
     "output_type": "stream",
     "text": [
      "Real time evolution\n"
     ]
    },
    {
     "name": "stderr",
     "output_type": "stream",
     "text": [
      "t=9.9, max-bond=6: 100%|####################################################################################################################################################################################################| 100/100 [00:02<00:00, 34.30it/s]\n"
     ]
    },
    {
     "name": "stdout",
     "output_type": "stream",
     "text": [
      "Time:2s\n",
      "Max error 0.025388642573569688\n",
      "Simulation 48 / 245\n",
      "Building Hamiltonian for L=7\n",
      "Initial state: random subsystem and thermal bath\n",
      "\n",
      "done\n",
      "Building Hamiltonian for L=7 \n",
      "\n",
      "Building the spin chain \n",
      "\n",
      "Imaginary time evolution \n",
      "\n"
     ]
    },
    {
     "name": "stderr",
     "output_type": "stream",
     "text": [
      "t=0.005, max-bond=4: 100%|#################################################################################################################################################################################################| 100/100 [00:00<00:00, 7006.62%/s]\n"
     ]
    },
    {
     "name": "stdout",
     "output_type": "stream",
     "text": [
      "Real time evolution\n"
     ]
    },
    {
     "name": "stderr",
     "output_type": "stream",
     "text": [
      "t=9.9, max-bond=6: 100%|####################################################################################################################################################################################################| 100/100 [00:02<00:00, 34.43it/s]\n"
     ]
    },
    {
     "name": "stdout",
     "output_type": "stream",
     "text": [
      "Time:2s\n",
      "Max error 0.02529787337086701\n",
      "Simulation 49 / 245\n",
      "Building Hamiltonian for L=7\n",
      "Initial state: random subsystem and thermal bath\n",
      "\n",
      "done\n",
      "Building Hamiltonian for L=7 \n",
      "\n",
      "Building the spin chain \n",
      "\n",
      "Imaginary time evolution \n",
      "\n"
     ]
    },
    {
     "name": "stderr",
     "output_type": "stream",
     "text": [
      "t=0.005, max-bond=4: 100%|#################################################################################################################################################################################################| 100/100 [00:00<00:00, 7055.06%/s]\n"
     ]
    },
    {
     "name": "stdout",
     "output_type": "stream",
     "text": [
      "Real time evolution\n"
     ]
    },
    {
     "name": "stderr",
     "output_type": "stream",
     "text": [
      "t=9.9, max-bond=6: 100%|####################################################################################################################################################################################################| 100/100 [00:02<00:00, 34.17it/s]\n"
     ]
    },
    {
     "name": "stdout",
     "output_type": "stream",
     "text": [
      "Time:2s\n",
      "Max error 0.02541461673239256\n",
      "i = 1, j = 3 =====================================\n",
      "Simulation 50 / 245\n",
      "Building Hamiltonian for L=7\n",
      "Initial state: random subsystem and thermal bath\n",
      "\n",
      "done\n",
      "Building Hamiltonian for L=7 \n",
      "\n",
      "Building the spin chain \n",
      "\n",
      "Imaginary time evolution \n",
      "\n"
     ]
    },
    {
     "name": "stderr",
     "output_type": "stream",
     "text": [
      "t=0.005, max-bond=4: 100%|#################################################################################################################################################################################################| 100/100 [00:00<00:00, 6958.38%/s]\n"
     ]
    },
    {
     "name": "stdout",
     "output_type": "stream",
     "text": [
      "Real time evolution\n"
     ]
    },
    {
     "name": "stderr",
     "output_type": "stream",
     "text": [
      "t=9.9, max-bond=6: 100%|####################################################################################################################################################################################################| 100/100 [00:02<00:00, 34.09it/s]\n"
     ]
    },
    {
     "name": "stdout",
     "output_type": "stream",
     "text": [
      "Time:2s\n",
      "Max error 0.025124964528191827\n",
      "Simulation 51 / 245\n",
      "Building Hamiltonian for L=7\n",
      "Initial state: random subsystem and thermal bath\n",
      "\n",
      "done\n",
      "Building Hamiltonian for L=7 \n",
      "\n",
      "Building the spin chain \n",
      "\n",
      "Imaginary time evolution \n",
      "\n"
     ]
    },
    {
     "name": "stderr",
     "output_type": "stream",
     "text": [
      "t=0.005, max-bond=4: 100%|#################################################################################################################################################################################################| 100/100 [00:00<00:00, 6880.31%/s]\n"
     ]
    },
    {
     "name": "stdout",
     "output_type": "stream",
     "text": [
      "Real time evolution\n"
     ]
    },
    {
     "name": "stderr",
     "output_type": "stream",
     "text": [
      "t=9.9, max-bond=6: 100%|####################################################################################################################################################################################################| 100/100 [00:02<00:00, 34.35it/s]\n"
     ]
    },
    {
     "name": "stdout",
     "output_type": "stream",
     "text": [
      "Time:2s\n",
      "Max error 0.026115091909491153\n",
      "Simulation 52 / 245\n",
      "Building Hamiltonian for L=7\n",
      "Initial state: random subsystem and thermal bath\n",
      "\n",
      "done\n",
      "Building Hamiltonian for L=7 \n",
      "\n",
      "Building the spin chain \n",
      "\n",
      "Imaginary time evolution \n",
      "\n"
     ]
    },
    {
     "name": "stderr",
     "output_type": "stream",
     "text": [
      "t=0.005, max-bond=4: 100%|#################################################################################################################################################################################################| 100/100 [00:00<00:00, 6959.42%/s]\n"
     ]
    },
    {
     "name": "stdout",
     "output_type": "stream",
     "text": [
      "Real time evolution\n"
     ]
    },
    {
     "name": "stderr",
     "output_type": "stream",
     "text": [
      "t=9.9, max-bond=6: 100%|####################################################################################################################################################################################################| 100/100 [00:02<00:00, 34.29it/s]\n"
     ]
    },
    {
     "name": "stdout",
     "output_type": "stream",
     "text": [
      "Time:2s\n",
      "Max error 0.02522619273808713\n",
      "Simulation 53 / 245\n",
      "Building Hamiltonian for L=7\n",
      "Initial state: random subsystem and thermal bath\n",
      "\n",
      "done\n",
      "Building Hamiltonian for L=7 \n",
      "\n",
      "Building the spin chain \n",
      "\n",
      "Imaginary time evolution \n",
      "\n"
     ]
    },
    {
     "name": "stderr",
     "output_type": "stream",
     "text": [
      "t=0.005, max-bond=4: 100%|#################################################################################################################################################################################################| 100/100 [00:00<00:00, 6974.93%/s]\n"
     ]
    },
    {
     "name": "stdout",
     "output_type": "stream",
     "text": [
      "Real time evolution\n"
     ]
    },
    {
     "name": "stderr",
     "output_type": "stream",
     "text": [
      "t=9.9, max-bond=6: 100%|####################################################################################################################################################################################################| 100/100 [00:02<00:00, 34.26it/s]\n"
     ]
    },
    {
     "name": "stdout",
     "output_type": "stream",
     "text": [
      "Time:2s\n",
      "Max error 0.025444672219491787\n",
      "Simulation 54 / 245\n",
      "Building Hamiltonian for L=7\n",
      "Initial state: random subsystem and thermal bath\n",
      "\n",
      "done\n",
      "Building Hamiltonian for L=7 \n",
      "\n",
      "Building the spin chain \n",
      "\n",
      "Imaginary time evolution \n",
      "\n"
     ]
    },
    {
     "name": "stderr",
     "output_type": "stream",
     "text": [
      "t=0.005, max-bond=4: 100%|#################################################################################################################################################################################################| 100/100 [00:00<00:00, 6820.23%/s]\n"
     ]
    },
    {
     "name": "stdout",
     "output_type": "stream",
     "text": [
      "Real time evolution\n"
     ]
    },
    {
     "name": "stderr",
     "output_type": "stream",
     "text": [
      "t=9.9, max-bond=6: 100%|####################################################################################################################################################################################################| 100/100 [00:02<00:00, 34.29it/s]\n"
     ]
    },
    {
     "name": "stdout",
     "output_type": "stream",
     "text": [
      "Time:2s\n",
      "Max error 0.02535683696643653\n",
      "i = 1, j = 4 =====================================\n",
      "Simulation 55 / 245\n",
      "Building Hamiltonian for L=7\n",
      "Initial state: random subsystem and thermal bath\n",
      "\n",
      "done\n",
      "Building Hamiltonian for L=7 \n",
      "\n",
      "Building the spin chain \n",
      "\n",
      "Imaginary time evolution \n",
      "\n"
     ]
    },
    {
     "name": "stderr",
     "output_type": "stream",
     "text": [
      "t=0.005, max-bond=4: 100%|#################################################################################################################################################################################################| 100/100 [00:00<00:00, 6883.13%/s]\n"
     ]
    },
    {
     "name": "stdout",
     "output_type": "stream",
     "text": [
      "Real time evolution\n"
     ]
    },
    {
     "name": "stderr",
     "output_type": "stream",
     "text": [
      "t=9.9, max-bond=6: 100%|####################################################################################################################################################################################################| 100/100 [00:02<00:00, 34.06it/s]\n"
     ]
    },
    {
     "name": "stdout",
     "output_type": "stream",
     "text": [
      "Time:2s\n",
      "Max error 0.02596116569542427\n",
      "Simulation 56 / 245\n",
      "Building Hamiltonian for L=7\n",
      "Initial state: random subsystem and thermal bath\n",
      "\n",
      "done\n",
      "Building Hamiltonian for L=7 \n",
      "\n",
      "Building the spin chain \n",
      "\n",
      "Imaginary time evolution \n",
      "\n"
     ]
    },
    {
     "name": "stderr",
     "output_type": "stream",
     "text": [
      "t=0.005, max-bond=4: 100%|#################################################################################################################################################################################################| 100/100 [00:00<00:00, 6804.85%/s]\n"
     ]
    },
    {
     "name": "stdout",
     "output_type": "stream",
     "text": [
      "Real time evolution\n"
     ]
    },
    {
     "name": "stderr",
     "output_type": "stream",
     "text": [
      "t=9.9, max-bond=6: 100%|####################################################################################################################################################################################################| 100/100 [00:02<00:00, 34.08it/s]\n"
     ]
    },
    {
     "name": "stdout",
     "output_type": "stream",
     "text": [
      "Time:2s\n",
      "Max error 0.025033783900678196\n",
      "Simulation 57 / 245\n",
      "Building Hamiltonian for L=7\n",
      "Initial state: random subsystem and thermal bath\n",
      "\n",
      "done\n",
      "Building Hamiltonian for L=7 \n",
      "\n",
      "Building the spin chain \n",
      "\n",
      "Imaginary time evolution \n",
      "\n"
     ]
    },
    {
     "name": "stderr",
     "output_type": "stream",
     "text": [
      "t=0.005, max-bond=4: 100%|#################################################################################################################################################################################################| 100/100 [00:00<00:00, 6849.41%/s]\n"
     ]
    },
    {
     "name": "stdout",
     "output_type": "stream",
     "text": [
      "Real time evolution\n"
     ]
    },
    {
     "name": "stderr",
     "output_type": "stream",
     "text": [
      "t=9.9, max-bond=6: 100%|####################################################################################################################################################################################################| 100/100 [00:02<00:00, 34.38it/s]\n"
     ]
    },
    {
     "name": "stdout",
     "output_type": "stream",
     "text": [
      "Time:2s\n",
      "Max error 0.02519360707425007\n",
      "Simulation 58 / 245\n",
      "Building Hamiltonian for L=7\n",
      "Initial state: random subsystem and thermal bath\n",
      "\n",
      "done\n",
      "Building Hamiltonian for L=7 \n",
      "\n",
      "Building the spin chain \n",
      "\n",
      "Imaginary time evolution \n",
      "\n"
     ]
    },
    {
     "name": "stderr",
     "output_type": "stream",
     "text": [
      "t=0.005, max-bond=4: 100%|#################################################################################################################################################################################################| 100/100 [00:00<00:00, 7027.87%/s]\n"
     ]
    },
    {
     "name": "stdout",
     "output_type": "stream",
     "text": [
      "Real time evolution\n"
     ]
    },
    {
     "name": "stderr",
     "output_type": "stream",
     "text": [
      "t=9.9, max-bond=6: 100%|####################################################################################################################################################################################################| 100/100 [00:02<00:00, 34.32it/s]\n"
     ]
    },
    {
     "name": "stdout",
     "output_type": "stream",
     "text": [
      "Time:2s\n",
      "Max error 0.025646619791927307\n",
      "Simulation 59 / 245\n",
      "Building Hamiltonian for L=7\n",
      "Initial state: random subsystem and thermal bath\n",
      "\n",
      "done\n",
      "Building Hamiltonian for L=7 \n",
      "\n",
      "Building the spin chain \n",
      "\n",
      "Imaginary time evolution \n",
      "\n"
     ]
    },
    {
     "name": "stderr",
     "output_type": "stream",
     "text": [
      "t=0.005, max-bond=4: 100%|#################################################################################################################################################################################################| 100/100 [00:00<00:00, 6776.15%/s]\n"
     ]
    },
    {
     "name": "stdout",
     "output_type": "stream",
     "text": [
      "Real time evolution\n"
     ]
    },
    {
     "name": "stderr",
     "output_type": "stream",
     "text": [
      "t=9.9, max-bond=6: 100%|####################################################################################################################################################################################################| 100/100 [00:02<00:00, 34.50it/s]\n"
     ]
    },
    {
     "name": "stdout",
     "output_type": "stream",
     "text": [
      "Time:2s\n",
      "Max error 0.025667243551308387\n",
      "i = 1, j = 5 =====================================\n",
      "Simulation 60 / 245\n",
      "Building Hamiltonian for L=7\n",
      "Initial state: random subsystem and thermal bath\n",
      "\n",
      "done\n",
      "Building Hamiltonian for L=7 \n",
      "\n",
      "Building the spin chain \n",
      "\n",
      "Imaginary time evolution \n",
      "\n"
     ]
    },
    {
     "name": "stderr",
     "output_type": "stream",
     "text": [
      "t=0.005, max-bond=4: 100%|#################################################################################################################################################################################################| 100/100 [00:00<00:00, 6893.65%/s]\n"
     ]
    },
    {
     "name": "stdout",
     "output_type": "stream",
     "text": [
      "Real time evolution\n"
     ]
    },
    {
     "name": "stderr",
     "output_type": "stream",
     "text": [
      "t=9.9, max-bond=6: 100%|####################################################################################################################################################################################################| 100/100 [00:02<00:00, 34.16it/s]\n"
     ]
    },
    {
     "name": "stdout",
     "output_type": "stream",
     "text": [
      "Time:2s\n",
      "Max error 0.025477877245182134\n",
      "Simulation 61 / 245\n",
      "Building Hamiltonian for L=7\n",
      "Initial state: random subsystem and thermal bath\n",
      "\n",
      "done\n",
      "Building Hamiltonian for L=7 \n",
      "\n",
      "Building the spin chain \n",
      "\n",
      "Imaginary time evolution \n",
      "\n"
     ]
    },
    {
     "name": "stderr",
     "output_type": "stream",
     "text": [
      "t=0.005, max-bond=4: 100%|#################################################################################################################################################################################################| 100/100 [00:00<00:00, 7028.46%/s]\n"
     ]
    },
    {
     "name": "stdout",
     "output_type": "stream",
     "text": [
      "Real time evolution\n"
     ]
    },
    {
     "name": "stderr",
     "output_type": "stream",
     "text": [
      "t=9.9, max-bond=6: 100%|####################################################################################################################################################################################################| 100/100 [00:02<00:00, 34.42it/s]\n"
     ]
    },
    {
     "name": "stdout",
     "output_type": "stream",
     "text": [
      "Time:2s\n",
      "Max error 0.025499754185226285\n",
      "Simulation 62 / 245\n",
      "Building Hamiltonian for L=7\n",
      "Initial state: random subsystem and thermal bath\n",
      "\n",
      "done\n",
      "Building Hamiltonian for L=7 \n",
      "\n",
      "Building the spin chain \n",
      "\n",
      "Imaginary time evolution \n",
      "\n"
     ]
    },
    {
     "name": "stderr",
     "output_type": "stream",
     "text": [
      "t=0.005, max-bond=4: 100%|#################################################################################################################################################################################################| 100/100 [00:00<00:00, 7045.82%/s]\n"
     ]
    },
    {
     "name": "stdout",
     "output_type": "stream",
     "text": [
      "Real time evolution\n"
     ]
    },
    {
     "name": "stderr",
     "output_type": "stream",
     "text": [
      "t=9.9, max-bond=6: 100%|####################################################################################################################################################################################################| 100/100 [00:02<00:00, 34.29it/s]\n"
     ]
    },
    {
     "name": "stdout",
     "output_type": "stream",
     "text": [
      "Time:2s\n",
      "Max error 0.025279203742819594\n",
      "Simulation 63 / 245\n",
      "Building Hamiltonian for L=7\n",
      "Initial state: random subsystem and thermal bath\n",
      "\n",
      "done\n",
      "Building Hamiltonian for L=7 \n",
      "\n",
      "Building the spin chain \n",
      "\n",
      "Imaginary time evolution \n",
      "\n"
     ]
    },
    {
     "name": "stderr",
     "output_type": "stream",
     "text": [
      "t=0.005, max-bond=4: 100%|#################################################################################################################################################################################################| 100/100 [00:00<00:00, 6833.56%/s]\n"
     ]
    },
    {
     "name": "stdout",
     "output_type": "stream",
     "text": [
      "Real time evolution\n"
     ]
    },
    {
     "name": "stderr",
     "output_type": "stream",
     "text": [
      "t=9.9, max-bond=6: 100%|####################################################################################################################################################################################################| 100/100 [00:02<00:00, 34.36it/s]\n"
     ]
    },
    {
     "name": "stdout",
     "output_type": "stream",
     "text": [
      "Time:2s\n",
      "Max error 0.02529624064209691\n",
      "Simulation 64 / 245\n",
      "Building Hamiltonian for L=7\n",
      "Initial state: random subsystem and thermal bath\n",
      "\n",
      "done\n",
      "Building Hamiltonian for L=7 \n",
      "\n",
      "Building the spin chain \n",
      "\n",
      "Imaginary time evolution \n",
      "\n"
     ]
    },
    {
     "name": "stderr",
     "output_type": "stream",
     "text": [
      "t=0.005, max-bond=4: 100%|#################################################################################################################################################################################################| 100/100 [00:00<00:00, 7096.00%/s]\n"
     ]
    },
    {
     "name": "stdout",
     "output_type": "stream",
     "text": [
      "Real time evolution\n"
     ]
    },
    {
     "name": "stderr",
     "output_type": "stream",
     "text": [
      "t=9.9, max-bond=6: 100%|####################################################################################################################################################################################################| 100/100 [00:02<00:00, 34.21it/s]\n"
     ]
    },
    {
     "name": "stdout",
     "output_type": "stream",
     "text": [
      "Time:2s\n",
      "Max error 0.0258451063546226\n",
      "i = 1, j = 6 =====================================\n",
      "Simulation 65 / 245\n",
      "Building Hamiltonian for L=7\n",
      "Initial state: random subsystem and thermal bath\n",
      "\n",
      "done\n",
      "Building Hamiltonian for L=7 \n",
      "\n",
      "Building the spin chain \n",
      "\n",
      "Imaginary time evolution \n",
      "\n"
     ]
    },
    {
     "name": "stderr",
     "output_type": "stream",
     "text": [
      "t=0.005, max-bond=4: 100%|#################################################################################################################################################################################################| 100/100 [00:00<00:00, 7001.83%/s]\n"
     ]
    },
    {
     "name": "stdout",
     "output_type": "stream",
     "text": [
      "Real time evolution\n"
     ]
    },
    {
     "name": "stderr",
     "output_type": "stream",
     "text": [
      "t=9.9, max-bond=6: 100%|####################################################################################################################################################################################################| 100/100 [00:02<00:00, 34.26it/s]\n"
     ]
    },
    {
     "name": "stdout",
     "output_type": "stream",
     "text": [
      "Time:2s\n",
      "Max error 0.025508006211015233\n",
      "Simulation 66 / 245\n",
      "Building Hamiltonian for L=7\n",
      "Initial state: random subsystem and thermal bath\n",
      "\n",
      "done\n",
      "Building Hamiltonian for L=7 \n",
      "\n",
      "Building the spin chain \n",
      "\n",
      "Imaginary time evolution \n",
      "\n"
     ]
    },
    {
     "name": "stderr",
     "output_type": "stream",
     "text": [
      "t=0.005, max-bond=4: 100%|#################################################################################################################################################################################################| 100/100 [00:00<00:00, 6946.86%/s]\n"
     ]
    },
    {
     "name": "stdout",
     "output_type": "stream",
     "text": [
      "Real time evolution\n"
     ]
    },
    {
     "name": "stderr",
     "output_type": "stream",
     "text": [
      "t=9.9, max-bond=6: 100%|####################################################################################################################################################################################################| 100/100 [00:02<00:00, 34.41it/s]\n"
     ]
    },
    {
     "name": "stdout",
     "output_type": "stream",
     "text": [
      "Time:2s\n",
      "Max error 0.02537833751818054\n",
      "Simulation 67 / 245\n",
      "Building Hamiltonian for L=7\n",
      "Initial state: random subsystem and thermal bath\n",
      "\n",
      "done\n",
      "Building Hamiltonian for L=7 \n",
      "\n",
      "Building the spin chain \n",
      "\n",
      "Imaginary time evolution \n",
      "\n"
     ]
    },
    {
     "name": "stderr",
     "output_type": "stream",
     "text": [
      "t=0.005, max-bond=4: 100%|#################################################################################################################################################################################################| 100/100 [00:00<00:00, 7041.79%/s]\n"
     ]
    },
    {
     "name": "stdout",
     "output_type": "stream",
     "text": [
      "Real time evolution\n"
     ]
    },
    {
     "name": "stderr",
     "output_type": "stream",
     "text": [
      "t=9.9, max-bond=6: 100%|####################################################################################################################################################################################################| 100/100 [00:02<00:00, 34.39it/s]\n"
     ]
    },
    {
     "name": "stdout",
     "output_type": "stream",
     "text": [
      "Time:2s\n",
      "Max error 0.025436038633595538\n",
      "Simulation 68 / 245\n",
      "Building Hamiltonian for L=7\n",
      "Initial state: random subsystem and thermal bath\n",
      "\n",
      "done\n",
      "Building Hamiltonian for L=7 \n",
      "\n",
      "Building the spin chain \n",
      "\n",
      "Imaginary time evolution \n",
      "\n"
     ]
    },
    {
     "name": "stderr",
     "output_type": "stream",
     "text": [
      "t=0.005, max-bond=4: 100%|#################################################################################################################################################################################################| 100/100 [00:00<00:00, 6210.75%/s]\n"
     ]
    },
    {
     "name": "stdout",
     "output_type": "stream",
     "text": [
      "Real time evolution\n"
     ]
    },
    {
     "name": "stderr",
     "output_type": "stream",
     "text": [
      "t=9.9, max-bond=6: 100%|####################################################################################################################################################################################################| 100/100 [00:02<00:00, 34.28it/s]\n"
     ]
    },
    {
     "name": "stdout",
     "output_type": "stream",
     "text": [
      "Time:2s\n",
      "Max error 0.02552673420502279\n",
      "Simulation 69 / 245\n",
      "Building Hamiltonian for L=7\n",
      "Initial state: random subsystem and thermal bath\n",
      "\n",
      "done\n",
      "Building Hamiltonian for L=7 \n",
      "\n",
      "Building the spin chain \n",
      "\n",
      "Imaginary time evolution \n",
      "\n"
     ]
    },
    {
     "name": "stderr",
     "output_type": "stream",
     "text": [
      "t=0.005, max-bond=4: 100%|#################################################################################################################################################################################################| 100/100 [00:00<00:00, 6965.55%/s]\n"
     ]
    },
    {
     "name": "stdout",
     "output_type": "stream",
     "text": [
      "Real time evolution\n"
     ]
    },
    {
     "name": "stderr",
     "output_type": "stream",
     "text": [
      "t=9.9, max-bond=6: 100%|####################################################################################################################################################################################################| 100/100 [00:02<00:00, 34.16it/s]\n"
     ]
    },
    {
     "name": "stdout",
     "output_type": "stream",
     "text": [
      "Time:2s\n",
      "Max error 0.02573125749885728\n",
      "i = 2, j = 0 =====================================\n",
      "Simulation 70 / 245\n",
      "Building Hamiltonian for L=7\n",
      "Initial state: random subsystem and thermal bath\n",
      "\n",
      "done\n",
      "Building Hamiltonian for L=7 \n",
      "\n",
      "Building the spin chain \n",
      "\n",
      "Imaginary time evolution \n",
      "\n"
     ]
    },
    {
     "name": "stderr",
     "output_type": "stream",
     "text": [
      "t=0.005, max-bond=4: 100%|#################################################################################################################################################################################################| 100/100 [00:00<00:00, 7252.32%/s]\n"
     ]
    },
    {
     "name": "stdout",
     "output_type": "stream",
     "text": [
      "Real time evolution\n"
     ]
    },
    {
     "name": "stderr",
     "output_type": "stream",
     "text": [
      "t=9.9, max-bond=20: 100%|###################################################################################################################################################################################################| 100/100 [00:06<00:00, 16.20it/s]\n"
     ]
    },
    {
     "name": "stdout",
     "output_type": "stream",
     "text": [
      "Time:6s\n",
      "Max error 0.002190441163145194\n",
      "Simulation 71 / 245\n",
      "Building Hamiltonian for L=7\n",
      "Initial state: random subsystem and thermal bath\n",
      "\n",
      "done\n",
      "Building Hamiltonian for L=7 \n",
      "\n",
      "Building the spin chain \n",
      "\n",
      "Imaginary time evolution \n",
      "\n"
     ]
    },
    {
     "name": "stderr",
     "output_type": "stream",
     "text": [
      "t=0.005, max-bond=4: 100%|#################################################################################################################################################################################################| 100/100 [00:00<00:00, 7314.92%/s]\n"
     ]
    },
    {
     "name": "stdout",
     "output_type": "stream",
     "text": [
      "Real time evolution\n"
     ]
    },
    {
     "name": "stderr",
     "output_type": "stream",
     "text": [
      "t=9.9, max-bond=20: 100%|###################################################################################################################################################################################################| 100/100 [00:05<00:00, 17.99it/s]\n"
     ]
    },
    {
     "name": "stdout",
     "output_type": "stream",
     "text": [
      "Time:5s\n",
      "Max error 0.002172720678910448\n",
      "Simulation 72 / 245\n",
      "Building Hamiltonian for L=7\n",
      "Initial state: random subsystem and thermal bath\n",
      "\n",
      "done\n",
      "Building Hamiltonian for L=7 \n",
      "\n",
      "Building the spin chain \n",
      "\n",
      "Imaginary time evolution \n",
      "\n"
     ]
    },
    {
     "name": "stderr",
     "output_type": "stream",
     "text": [
      "t=0.005, max-bond=4: 100%|#################################################################################################################################################################################################| 100/100 [00:00<00:00, 7217.75%/s]\n"
     ]
    },
    {
     "name": "stdout",
     "output_type": "stream",
     "text": [
      "Real time evolution\n"
     ]
    },
    {
     "name": "stderr",
     "output_type": "stream",
     "text": [
      "t=9.9, max-bond=20: 100%|###################################################################################################################################################################################################| 100/100 [00:05<00:00, 17.75it/s]\n"
     ]
    },
    {
     "name": "stdout",
     "output_type": "stream",
     "text": [
      "Time:5s\n",
      "Max error 0.002137318538537414\n",
      "Simulation 73 / 245\n",
      "Building Hamiltonian for L=7\n",
      "Initial state: random subsystem and thermal bath\n",
      "\n",
      "done\n",
      "Building Hamiltonian for L=7 \n",
      "\n",
      "Building the spin chain \n",
      "\n",
      "Imaginary time evolution \n",
      "\n"
     ]
    },
    {
     "name": "stderr",
     "output_type": "stream",
     "text": [
      "t=0.005, max-bond=4: 100%|#################################################################################################################################################################################################| 100/100 [00:00<00:00, 7264.25%/s]\n"
     ]
    },
    {
     "name": "stdout",
     "output_type": "stream",
     "text": [
      "Real time evolution\n"
     ]
    },
    {
     "name": "stderr",
     "output_type": "stream",
     "text": [
      "t=9.9, max-bond=20: 100%|###################################################################################################################################################################################################| 100/100 [00:05<00:00, 17.94it/s]\n"
     ]
    },
    {
     "name": "stdout",
     "output_type": "stream",
     "text": [
      "Time:5s\n",
      "Max error 0.0022151587016430037\n",
      "Simulation 74 / 245\n",
      "Building Hamiltonian for L=7\n",
      "Initial state: random subsystem and thermal bath\n",
      "\n",
      "done\n",
      "Building Hamiltonian for L=7 \n",
      "\n",
      "Building the spin chain \n",
      "\n",
      "Imaginary time evolution \n",
      "\n"
     ]
    },
    {
     "name": "stderr",
     "output_type": "stream",
     "text": [
      "t=0.005, max-bond=4: 100%|#################################################################################################################################################################################################| 100/100 [00:00<00:00, 7285.32%/s]\n"
     ]
    },
    {
     "name": "stdout",
     "output_type": "stream",
     "text": [
      "Real time evolution\n"
     ]
    },
    {
     "name": "stderr",
     "output_type": "stream",
     "text": [
      "t=9.9, max-bond=20: 100%|###################################################################################################################################################################################################| 100/100 [00:05<00:00, 17.80it/s]\n"
     ]
    },
    {
     "name": "stdout",
     "output_type": "stream",
     "text": [
      "Time:5s\n",
      "Max error 0.0023927604967479187\n",
      "i = 2, j = 1 =====================================\n",
      "Simulation 75 / 245\n",
      "Building Hamiltonian for L=7\n",
      "Initial state: random subsystem and thermal bath\n",
      "\n",
      "done\n",
      "Building Hamiltonian for L=7 \n",
      "\n",
      "Building the spin chain \n",
      "\n",
      "Imaginary time evolution \n",
      "\n"
     ]
    },
    {
     "name": "stderr",
     "output_type": "stream",
     "text": [
      "t=0.005, max-bond=4: 100%|#################################################################################################################################################################################################| 100/100 [00:00<00:00, 7258.59%/s]\n"
     ]
    },
    {
     "name": "stdout",
     "output_type": "stream",
     "text": [
      "Real time evolution\n"
     ]
    },
    {
     "name": "stderr",
     "output_type": "stream",
     "text": [
      "t=9.9, max-bond=20: 100%|###################################################################################################################################################################################################| 100/100 [00:05<00:00, 17.78it/s]\n"
     ]
    },
    {
     "name": "stdout",
     "output_type": "stream",
     "text": [
      "Time:5s\n",
      "Max error 0.002337363401660576\n",
      "Simulation 76 / 245\n",
      "Building Hamiltonian for L=7\n",
      "Initial state: random subsystem and thermal bath\n",
      "\n",
      "done\n",
      "Building Hamiltonian for L=7 \n",
      "\n",
      "Building the spin chain \n",
      "\n",
      "Imaginary time evolution \n",
      "\n"
     ]
    },
    {
     "name": "stderr",
     "output_type": "stream",
     "text": [
      "t=0.005, max-bond=4: 100%|#################################################################################################################################################################################################| 100/100 [00:00<00:00, 7340.78%/s]\n"
     ]
    },
    {
     "name": "stdout",
     "output_type": "stream",
     "text": [
      "Real time evolution\n"
     ]
    },
    {
     "name": "stderr",
     "output_type": "stream",
     "text": [
      "t=9.9, max-bond=20: 100%|###################################################################################################################################################################################################| 100/100 [00:05<00:00, 17.79it/s]\n"
     ]
    },
    {
     "name": "stdout",
     "output_type": "stream",
     "text": [
      "Time:5s\n",
      "Max error 0.002433911705964997\n",
      "Simulation 77 / 245\n",
      "Building Hamiltonian for L=7\n",
      "Initial state: random subsystem and thermal bath\n",
      "\n",
      "done\n",
      "Building Hamiltonian for L=7 \n",
      "\n",
      "Building the spin chain \n",
      "\n",
      "Imaginary time evolution \n",
      "\n"
     ]
    },
    {
     "name": "stderr",
     "output_type": "stream",
     "text": [
      "t=0.005, max-bond=4: 100%|#################################################################################################################################################################################################| 100/100 [00:00<00:00, 7253.32%/s]\n"
     ]
    },
    {
     "name": "stdout",
     "output_type": "stream",
     "text": [
      "Real time evolution\n"
     ]
    },
    {
     "name": "stderr",
     "output_type": "stream",
     "text": [
      "t=9.9, max-bond=20: 100%|###################################################################################################################################################################################################| 100/100 [00:05<00:00, 17.95it/s]\n"
     ]
    },
    {
     "name": "stdout",
     "output_type": "stream",
     "text": [
      "Time:5s\n",
      "Max error 0.0022329433721772485\n",
      "Simulation 78 / 245\n",
      "Building Hamiltonian for L=7\n",
      "Initial state: random subsystem and thermal bath\n",
      "\n",
      "done\n",
      "Building Hamiltonian for L=7 \n",
      "\n",
      "Building the spin chain \n",
      "\n",
      "Imaginary time evolution \n",
      "\n"
     ]
    },
    {
     "name": "stderr",
     "output_type": "stream",
     "text": [
      "t=0.005, max-bond=4: 100%|#################################################################################################################################################################################################| 100/100 [00:00<00:00, 7312.76%/s]\n"
     ]
    },
    {
     "name": "stdout",
     "output_type": "stream",
     "text": [
      "Real time evolution\n"
     ]
    },
    {
     "name": "stderr",
     "output_type": "stream",
     "text": [
      "t=9.9, max-bond=20: 100%|###################################################################################################################################################################################################| 100/100 [00:05<00:00, 17.89it/s]\n"
     ]
    },
    {
     "name": "stdout",
     "output_type": "stream",
     "text": [
      "Time:5s\n",
      "Max error 0.0021226006544474976\n",
      "Simulation 79 / 245\n",
      "Building Hamiltonian for L=7\n",
      "Initial state: random subsystem and thermal bath\n",
      "\n",
      "done\n",
      "Building Hamiltonian for L=7 \n",
      "\n",
      "Building the spin chain \n",
      "\n",
      "Imaginary time evolution \n",
      "\n"
     ]
    },
    {
     "name": "stderr",
     "output_type": "stream",
     "text": [
      "t=0.005, max-bond=4: 100%|#################################################################################################################################################################################################| 100/100 [00:00<00:00, 7272.06%/s]\n"
     ]
    },
    {
     "name": "stdout",
     "output_type": "stream",
     "text": [
      "Real time evolution\n"
     ]
    },
    {
     "name": "stderr",
     "output_type": "stream",
     "text": [
      "t=9.9, max-bond=20: 100%|###################################################################################################################################################################################################| 100/100 [00:05<00:00, 18.02it/s]\n"
     ]
    },
    {
     "name": "stdout",
     "output_type": "stream",
     "text": [
      "Time:5s\n",
      "Max error 0.002211347264642273\n",
      "i = 2, j = 2 =====================================\n",
      "Simulation 80 / 245\n",
      "Building Hamiltonian for L=7\n",
      "Initial state: random subsystem and thermal bath\n",
      "\n",
      "done\n",
      "Building Hamiltonian for L=7 \n",
      "\n",
      "Building the spin chain \n",
      "\n",
      "Imaginary time evolution \n",
      "\n"
     ]
    },
    {
     "name": "stderr",
     "output_type": "stream",
     "text": [
      "t=0.005, max-bond=4: 100%|#################################################################################################################################################################################################| 100/100 [00:00<00:00, 7069.21%/s]\n"
     ]
    },
    {
     "name": "stdout",
     "output_type": "stream",
     "text": [
      "Real time evolution\n"
     ]
    },
    {
     "name": "stderr",
     "output_type": "stream",
     "text": [
      "t=9.9, max-bond=20: 100%|###################################################################################################################################################################################################| 100/100 [00:05<00:00, 17.82it/s]\n"
     ]
    },
    {
     "name": "stdout",
     "output_type": "stream",
     "text": [
      "Time:5s\n",
      "Max error 0.0027022481572391544\n",
      "Simulation 81 / 245\n",
      "Building Hamiltonian for L=7\n",
      "Initial state: random subsystem and thermal bath\n",
      "\n",
      "done\n",
      "Building Hamiltonian for L=7 \n",
      "\n",
      "Building the spin chain \n",
      "\n",
      "Imaginary time evolution \n",
      "\n"
     ]
    },
    {
     "name": "stderr",
     "output_type": "stream",
     "text": [
      "t=0.005, max-bond=4: 100%|#################################################################################################################################################################################################| 100/100 [00:00<00:00, 7082.58%/s]\n"
     ]
    },
    {
     "name": "stdout",
     "output_type": "stream",
     "text": [
      "Real time evolution\n"
     ]
    },
    {
     "name": "stderr",
     "output_type": "stream",
     "text": [
      "t=9.9, max-bond=20: 100%|###################################################################################################################################################################################################| 100/100 [00:05<00:00, 17.93it/s]\n"
     ]
    },
    {
     "name": "stdout",
     "output_type": "stream",
     "text": [
      "Time:5s\n",
      "Max error 0.0030676164120381254\n",
      "Simulation 82 / 245\n",
      "Building Hamiltonian for L=7\n",
      "Initial state: random subsystem and thermal bath\n",
      "\n",
      "done\n",
      "Building Hamiltonian for L=7 \n",
      "\n",
      "Building the spin chain \n",
      "\n",
      "Imaginary time evolution \n",
      "\n"
     ]
    },
    {
     "name": "stderr",
     "output_type": "stream",
     "text": [
      "t=0.005, max-bond=4: 100%|#################################################################################################################################################################################################| 100/100 [00:00<00:00, 7160.08%/s]\n"
     ]
    },
    {
     "name": "stdout",
     "output_type": "stream",
     "text": [
      "Real time evolution\n"
     ]
    },
    {
     "name": "stderr",
     "output_type": "stream",
     "text": [
      "t=9.9, max-bond=20: 100%|###################################################################################################################################################################################################| 100/100 [00:05<00:00, 17.91it/s]\n"
     ]
    },
    {
     "name": "stdout",
     "output_type": "stream",
     "text": [
      "Time:5s\n",
      "Max error 0.0026207292229799366\n",
      "Simulation 83 / 245\n",
      "Building Hamiltonian for L=7\n",
      "Initial state: random subsystem and thermal bath\n",
      "\n",
      "done\n",
      "Building Hamiltonian for L=7 \n",
      "\n",
      "Building the spin chain \n",
      "\n",
      "Imaginary time evolution \n",
      "\n"
     ]
    },
    {
     "name": "stderr",
     "output_type": "stream",
     "text": [
      "t=0.005, max-bond=4: 100%|#################################################################################################################################################################################################| 100/100 [00:00<00:00, 7168.28%/s]\n"
     ]
    },
    {
     "name": "stdout",
     "output_type": "stream",
     "text": [
      "Real time evolution\n"
     ]
    },
    {
     "name": "stderr",
     "output_type": "stream",
     "text": [
      "t=9.9, max-bond=20: 100%|###################################################################################################################################################################################################| 100/100 [00:05<00:00, 17.97it/s]\n"
     ]
    },
    {
     "name": "stdout",
     "output_type": "stream",
     "text": [
      "Time:5s\n",
      "Max error 0.0027182869459144512\n",
      "Simulation 84 / 245\n",
      "Building Hamiltonian for L=7\n",
      "Initial state: random subsystem and thermal bath\n",
      "\n",
      "done\n",
      "Building Hamiltonian for L=7 \n",
      "\n",
      "Building the spin chain \n",
      "\n",
      "Imaginary time evolution \n",
      "\n"
     ]
    },
    {
     "name": "stderr",
     "output_type": "stream",
     "text": [
      "t=0.005, max-bond=4: 100%|#################################################################################################################################################################################################| 100/100 [00:00<00:00, 6947.20%/s]\n"
     ]
    },
    {
     "name": "stdout",
     "output_type": "stream",
     "text": [
      "Real time evolution\n"
     ]
    },
    {
     "name": "stderr",
     "output_type": "stream",
     "text": [
      "t=9.9, max-bond=20: 100%|###################################################################################################################################################################################################| 100/100 [00:05<00:00, 17.97it/s]\n"
     ]
    },
    {
     "name": "stdout",
     "output_type": "stream",
     "text": [
      "Time:5s\n",
      "Max error 0.002803725511982549\n",
      "i = 2, j = 3 =====================================\n",
      "Simulation 85 / 245\n",
      "Building Hamiltonian for L=7\n",
      "Initial state: random subsystem and thermal bath\n",
      "\n",
      "done\n",
      "Building Hamiltonian for L=7 \n",
      "\n",
      "Building the spin chain \n",
      "\n",
      "Imaginary time evolution \n",
      "\n"
     ]
    },
    {
     "name": "stderr",
     "output_type": "stream",
     "text": [
      "t=0.005, max-bond=4: 100%|#################################################################################################################################################################################################| 100/100 [00:00<00:00, 6933.99%/s]\n"
     ]
    },
    {
     "name": "stdout",
     "output_type": "stream",
     "text": [
      "Real time evolution\n"
     ]
    },
    {
     "name": "stderr",
     "output_type": "stream",
     "text": [
      "t=9.9, max-bond=20: 100%|###################################################################################################################################################################################################| 100/100 [00:05<00:00, 17.86it/s]\n"
     ]
    },
    {
     "name": "stdout",
     "output_type": "stream",
     "text": [
      "Time:5s\n",
      "Max error 0.002988342300728047\n",
      "Simulation 86 / 245\n",
      "Building Hamiltonian for L=7\n",
      "Initial state: random subsystem and thermal bath\n",
      "\n",
      "done\n",
      "Building Hamiltonian for L=7 \n",
      "\n",
      "Building the spin chain \n",
      "\n",
      "Imaginary time evolution \n",
      "\n"
     ]
    },
    {
     "name": "stderr",
     "output_type": "stream",
     "text": [
      "t=0.005, max-bond=4: 100%|#################################################################################################################################################################################################| 100/100 [00:00<00:00, 6948.70%/s]\n"
     ]
    },
    {
     "name": "stdout",
     "output_type": "stream",
     "text": [
      "Real time evolution\n"
     ]
    },
    {
     "name": "stderr",
     "output_type": "stream",
     "text": [
      "t=9.9, max-bond=20: 100%|###################################################################################################################################################################################################| 100/100 [00:05<00:00, 17.89it/s]\n"
     ]
    },
    {
     "name": "stdout",
     "output_type": "stream",
     "text": [
      "Time:5s\n",
      "Max error 0.0027638647462267896\n",
      "Simulation 87 / 245\n",
      "Building Hamiltonian for L=7\n",
      "Initial state: random subsystem and thermal bath\n",
      "\n",
      "done\n",
      "Building Hamiltonian for L=7 \n",
      "\n",
      "Building the spin chain \n",
      "\n",
      "Imaginary time evolution \n",
      "\n"
     ]
    },
    {
     "name": "stderr",
     "output_type": "stream",
     "text": [
      "t=0.005, max-bond=4: 100%|#################################################################################################################################################################################################| 100/100 [00:00<00:00, 6937.21%/s]\n"
     ]
    },
    {
     "name": "stdout",
     "output_type": "stream",
     "text": [
      "Real time evolution\n"
     ]
    },
    {
     "name": "stderr",
     "output_type": "stream",
     "text": [
      "t=9.9, max-bond=20: 100%|###################################################################################################################################################################################################| 100/100 [00:05<00:00, 17.92it/s]\n"
     ]
    },
    {
     "name": "stdout",
     "output_type": "stream",
     "text": [
      "Time:5s\n",
      "Max error 0.0024993750474123747\n",
      "Simulation 88 / 245\n",
      "Building Hamiltonian for L=7\n",
      "Initial state: random subsystem and thermal bath\n",
      "\n",
      "done\n",
      "Building Hamiltonian for L=7 \n",
      "\n",
      "Building the spin chain \n",
      "\n",
      "Imaginary time evolution \n",
      "\n"
     ]
    },
    {
     "name": "stderr",
     "output_type": "stream",
     "text": [
      "t=0.005, max-bond=4: 100%|#################################################################################################################################################################################################| 100/100 [00:00<00:00, 6870.39%/s]\n"
     ]
    },
    {
     "name": "stdout",
     "output_type": "stream",
     "text": [
      "Real time evolution\n"
     ]
    },
    {
     "name": "stderr",
     "output_type": "stream",
     "text": [
      "t=9.9, max-bond=20: 100%|###################################################################################################################################################################################################| 100/100 [00:05<00:00, 17.63it/s]\n"
     ]
    },
    {
     "name": "stdout",
     "output_type": "stream",
     "text": [
      "Time:5s\n",
      "Max error 0.0027845601860761143\n",
      "Simulation 89 / 245\n",
      "Building Hamiltonian for L=7\n",
      "Initial state: random subsystem and thermal bath\n",
      "\n",
      "done\n",
      "Building Hamiltonian for L=7 \n",
      "\n",
      "Building the spin chain \n",
      "\n",
      "Imaginary time evolution \n",
      "\n"
     ]
    },
    {
     "name": "stderr",
     "output_type": "stream",
     "text": [
      "t=0.005, max-bond=4: 100%|#################################################################################################################################################################################################| 100/100 [00:00<00:00, 6828.00%/s]\n"
     ]
    },
    {
     "name": "stdout",
     "output_type": "stream",
     "text": [
      "Real time evolution\n"
     ]
    },
    {
     "name": "stderr",
     "output_type": "stream",
     "text": [
      "t=9.9, max-bond=20: 100%|###################################################################################################################################################################################################| 100/100 [00:05<00:00, 17.92it/s]\n"
     ]
    },
    {
     "name": "stdout",
     "output_type": "stream",
     "text": [
      "Time:5s\n",
      "Max error 0.0030297911149899733\n",
      "i = 2, j = 4 =====================================\n",
      "Simulation 90 / 245\n",
      "Building Hamiltonian for L=7\n",
      "Initial state: random subsystem and thermal bath\n",
      "\n",
      "done\n",
      "Building Hamiltonian for L=7 \n",
      "\n",
      "Building the spin chain \n",
      "\n",
      "Imaginary time evolution \n",
      "\n"
     ]
    },
    {
     "name": "stderr",
     "output_type": "stream",
     "text": [
      "t=0.005, max-bond=4: 100%|#################################################################################################################################################################################################| 100/100 [00:00<00:00, 6400.59%/s]\n"
     ]
    },
    {
     "name": "stdout",
     "output_type": "stream",
     "text": [
      "Real time evolution\n"
     ]
    },
    {
     "name": "stderr",
     "output_type": "stream",
     "text": [
      "t=9.9, max-bond=20: 100%|###################################################################################################################################################################################################| 100/100 [00:05<00:00, 17.80it/s]\n"
     ]
    },
    {
     "name": "stdout",
     "output_type": "stream",
     "text": [
      "Time:5s\n",
      "Max error 0.0026875727353060947\n",
      "Simulation 91 / 245\n",
      "Building Hamiltonian for L=7\n",
      "Initial state: random subsystem and thermal bath\n",
      "\n",
      "done\n",
      "Building Hamiltonian for L=7 \n",
      "\n",
      "Building the spin chain \n",
      "\n",
      "Imaginary time evolution \n",
      "\n"
     ]
    },
    {
     "name": "stderr",
     "output_type": "stream",
     "text": [
      "t=0.005, max-bond=4: 100%|#################################################################################################################################################################################################| 100/100 [00:00<00:00, 6828.89%/s]\n"
     ]
    },
    {
     "name": "stdout",
     "output_type": "stream",
     "text": [
      "Real time evolution\n"
     ]
    },
    {
     "name": "stderr",
     "output_type": "stream",
     "text": [
      "t=9.9, max-bond=20: 100%|###################################################################################################################################################################################################| 100/100 [00:05<00:00, 18.30it/s]\n"
     ]
    },
    {
     "name": "stdout",
     "output_type": "stream",
     "text": [
      "Time:5s\n",
      "Max error 0.0026212418390313998\n",
      "Simulation 92 / 245\n",
      "Building Hamiltonian for L=7\n",
      "Initial state: random subsystem and thermal bath\n",
      "\n",
      "done\n",
      "Building Hamiltonian for L=7 \n",
      "\n",
      "Building the spin chain \n",
      "\n",
      "Imaginary time evolution \n",
      "\n"
     ]
    },
    {
     "name": "stderr",
     "output_type": "stream",
     "text": [
      "t=0.005, max-bond=4: 100%|#################################################################################################################################################################################################| 100/100 [00:00<00:00, 6802.64%/s]\n"
     ]
    },
    {
     "name": "stdout",
     "output_type": "stream",
     "text": [
      "Real time evolution\n"
     ]
    },
    {
     "name": "stderr",
     "output_type": "stream",
     "text": [
      "t=9.9, max-bond=20: 100%|###################################################################################################################################################################################################| 100/100 [00:05<00:00, 18.01it/s]\n"
     ]
    },
    {
     "name": "stdout",
     "output_type": "stream",
     "text": [
      "Time:5s\n",
      "Max error 0.002749065289623625\n",
      "Simulation 93 / 245\n",
      "Building Hamiltonian for L=7\n",
      "Initial state: random subsystem and thermal bath\n",
      "\n",
      "done\n",
      "Building Hamiltonian for L=7 \n",
      "\n",
      "Building the spin chain \n",
      "\n",
      "Imaginary time evolution \n",
      "\n"
     ]
    },
    {
     "name": "stderr",
     "output_type": "stream",
     "text": [
      "t=0.005, max-bond=4: 100%|#################################################################################################################################################################################################| 100/100 [00:00<00:00, 6918.90%/s]\n"
     ]
    },
    {
     "name": "stdout",
     "output_type": "stream",
     "text": [
      "Real time evolution\n"
     ]
    },
    {
     "name": "stderr",
     "output_type": "stream",
     "text": [
      "t=9.9, max-bond=20: 100%|###################################################################################################################################################################################################| 100/100 [00:05<00:00, 18.05it/s]\n"
     ]
    },
    {
     "name": "stdout",
     "output_type": "stream",
     "text": [
      "Time:5s\n",
      "Max error 0.0026767733628311244\n",
      "Simulation 94 / 245\n",
      "Building Hamiltonian for L=7\n",
      "Initial state: random subsystem and thermal bath\n",
      "\n",
      "done\n",
      "Building Hamiltonian for L=7 \n",
      "\n",
      "Building the spin chain \n",
      "\n",
      "Imaginary time evolution \n",
      "\n"
     ]
    },
    {
     "name": "stderr",
     "output_type": "stream",
     "text": [
      "t=0.005, max-bond=4: 100%|#################################################################################################################################################################################################| 100/100 [00:00<00:00, 6910.46%/s]\n"
     ]
    },
    {
     "name": "stdout",
     "output_type": "stream",
     "text": [
      "Real time evolution\n"
     ]
    },
    {
     "name": "stderr",
     "output_type": "stream",
     "text": [
      "t=9.9, max-bond=20: 100%|###################################################################################################################################################################################################| 100/100 [00:05<00:00, 18.06it/s]\n"
     ]
    },
    {
     "name": "stdout",
     "output_type": "stream",
     "text": [
      "Time:5s\n",
      "Max error 0.0027924930908295453\n",
      "i = 2, j = 5 =====================================\n",
      "Simulation 95 / 245\n",
      "Building Hamiltonian for L=7\n",
      "Initial state: random subsystem and thermal bath\n",
      "\n",
      "done\n",
      "Building Hamiltonian for L=7 \n",
      "\n",
      "Building the spin chain \n",
      "\n",
      "Imaginary time evolution \n",
      "\n"
     ]
    },
    {
     "name": "stderr",
     "output_type": "stream",
     "text": [
      "t=0.005, max-bond=4: 100%|#################################################################################################################################################################################################| 100/100 [00:00<00:00, 7012.24%/s]\n"
     ]
    },
    {
     "name": "stdout",
     "output_type": "stream",
     "text": [
      "Real time evolution\n"
     ]
    },
    {
     "name": "stderr",
     "output_type": "stream",
     "text": [
      "t=9.9, max-bond=20: 100%|###################################################################################################################################################################################################| 100/100 [00:05<00:00, 17.98it/s]\n"
     ]
    },
    {
     "name": "stdout",
     "output_type": "stream",
     "text": [
      "Time:5s\n",
      "Max error 0.0026898866426771297\n",
      "Simulation 96 / 245\n",
      "Building Hamiltonian for L=7\n",
      "Initial state: random subsystem and thermal bath\n",
      "\n",
      "done\n",
      "Building Hamiltonian for L=7 \n",
      "\n",
      "Building the spin chain \n",
      "\n",
      "Imaginary time evolution \n",
      "\n"
     ]
    },
    {
     "name": "stderr",
     "output_type": "stream",
     "text": [
      "t=0.005, max-bond=4: 100%|#################################################################################################################################################################################################| 100/100 [00:00<00:00, 6829.78%/s]\n"
     ]
    },
    {
     "name": "stdout",
     "output_type": "stream",
     "text": [
      "Real time evolution\n"
     ]
    },
    {
     "name": "stderr",
     "output_type": "stream",
     "text": [
      "t=9.9, max-bond=20: 100%|###################################################################################################################################################################################################| 100/100 [00:05<00:00, 18.06it/s]\n"
     ]
    },
    {
     "name": "stdout",
     "output_type": "stream",
     "text": [
      "Time:5s\n",
      "Max error 0.002677105466412365\n",
      "Simulation 97 / 245\n",
      "Building Hamiltonian for L=7\n",
      "Initial state: random subsystem and thermal bath\n",
      "\n",
      "done\n",
      "Building Hamiltonian for L=7 \n",
      "\n",
      "Building the spin chain \n",
      "\n",
      "Imaginary time evolution \n",
      "\n"
     ]
    },
    {
     "name": "stderr",
     "output_type": "stream",
     "text": [
      "t=0.005, max-bond=4: 100%|#################################################################################################################################################################################################| 100/100 [00:00<00:00, 6850.75%/s]\n"
     ]
    },
    {
     "name": "stdout",
     "output_type": "stream",
     "text": [
      "Real time evolution\n"
     ]
    },
    {
     "name": "stderr",
     "output_type": "stream",
     "text": [
      "t=9.9, max-bond=20: 100%|###################################################################################################################################################################################################| 100/100 [00:05<00:00, 17.89it/s]\n"
     ]
    },
    {
     "name": "stdout",
     "output_type": "stream",
     "text": [
      "Time:5s\n",
      "Max error 0.0027729422300324168\n",
      "Simulation 98 / 245\n",
      "Building Hamiltonian for L=7\n",
      "Initial state: random subsystem and thermal bath\n",
      "\n",
      "done\n",
      "Building Hamiltonian for L=7 \n",
      "\n",
      "Building the spin chain \n",
      "\n",
      "Imaginary time evolution \n",
      "\n"
     ]
    },
    {
     "name": "stderr",
     "output_type": "stream",
     "text": [
      "t=0.005, max-bond=4: 100%|#################################################################################################################################################################################################| 100/100 [00:00<00:00, 6873.88%/s]\n"
     ]
    },
    {
     "name": "stdout",
     "output_type": "stream",
     "text": [
      "Real time evolution\n"
     ]
    },
    {
     "name": "stderr",
     "output_type": "stream",
     "text": [
      "t=9.9, max-bond=20: 100%|###################################################################################################################################################################################################| 100/100 [00:05<00:00, 17.98it/s]\n"
     ]
    },
    {
     "name": "stdout",
     "output_type": "stream",
     "text": [
      "Time:5s\n",
      "Max error 0.0029369463762675897\n",
      "Simulation 99 / 245\n",
      "Building Hamiltonian for L=7\n",
      "Initial state: random subsystem and thermal bath\n",
      "\n",
      "done\n",
      "Building Hamiltonian for L=7 \n",
      "\n",
      "Building the spin chain \n",
      "\n",
      "Imaginary time evolution \n",
      "\n"
     ]
    },
    {
     "name": "stderr",
     "output_type": "stream",
     "text": [
      "t=0.005, max-bond=4: 100%|#################################################################################################################################################################################################| 100/100 [00:00<00:00, 6878.50%/s]\n"
     ]
    },
    {
     "name": "stdout",
     "output_type": "stream",
     "text": [
      "Real time evolution\n"
     ]
    },
    {
     "name": "stderr",
     "output_type": "stream",
     "text": [
      "t=9.9, max-bond=20: 100%|###################################################################################################################################################################################################| 100/100 [00:05<00:00, 17.88it/s]\n"
     ]
    },
    {
     "name": "stdout",
     "output_type": "stream",
     "text": [
      "Time:5s\n",
      "Max error 0.0027666268597049976\n",
      "i = 2, j = 6 =====================================\n",
      "Simulation 100 / 245\n",
      "Building Hamiltonian for L=7\n",
      "Initial state: random subsystem and thermal bath\n",
      "\n",
      "done\n",
      "Building Hamiltonian for L=7 \n",
      "\n",
      "Building the spin chain \n",
      "\n",
      "Imaginary time evolution \n",
      "\n"
     ]
    },
    {
     "name": "stderr",
     "output_type": "stream",
     "text": [
      "t=0.005, max-bond=4: 100%|#################################################################################################################################################################################################| 100/100 [00:00<00:00, 6893.54%/s]\n"
     ]
    },
    {
     "name": "stdout",
     "output_type": "stream",
     "text": [
      "Real time evolution\n"
     ]
    },
    {
     "name": "stderr",
     "output_type": "stream",
     "text": [
      "t=9.9, max-bond=20: 100%|###################################################################################################################################################################################################| 100/100 [00:05<00:00, 17.98it/s]\n"
     ]
    },
    {
     "name": "stdout",
     "output_type": "stream",
     "text": [
      "Time:5s\n",
      "Max error 0.002568618501060689\n",
      "Simulation 101 / 245\n",
      "Building Hamiltonian for L=7\n",
      "Initial state: random subsystem and thermal bath\n",
      "\n",
      "done\n",
      "Building Hamiltonian for L=7 \n",
      "\n",
      "Building the spin chain \n",
      "\n",
      "Imaginary time evolution \n",
      "\n"
     ]
    },
    {
     "name": "stderr",
     "output_type": "stream",
     "text": [
      "t=0.005, max-bond=4: 100%|#################################################################################################################################################################################################| 100/100 [00:00<00:00, 6962.19%/s]\n"
     ]
    },
    {
     "name": "stdout",
     "output_type": "stream",
     "text": [
      "Real time evolution\n"
     ]
    },
    {
     "name": "stderr",
     "output_type": "stream",
     "text": [
      "t=9.9, max-bond=20: 100%|###################################################################################################################################################################################################| 100/100 [00:05<00:00, 17.88it/s]\n"
     ]
    },
    {
     "name": "stdout",
     "output_type": "stream",
     "text": [
      "Time:5s\n",
      "Max error 0.002900367464410268\n",
      "Simulation 102 / 245\n",
      "Building Hamiltonian for L=7\n",
      "Initial state: random subsystem and thermal bath\n",
      "\n",
      "done\n",
      "Building Hamiltonian for L=7 \n",
      "\n",
      "Building the spin chain \n",
      "\n",
      "Imaginary time evolution \n",
      "\n"
     ]
    },
    {
     "name": "stderr",
     "output_type": "stream",
     "text": [
      "t=0.005, max-bond=4: 100%|#################################################################################################################################################################################################| 100/100 [00:00<00:00, 6950.20%/s]\n"
     ]
    },
    {
     "name": "stdout",
     "output_type": "stream",
     "text": [
      "Real time evolution\n"
     ]
    },
    {
     "name": "stderr",
     "output_type": "stream",
     "text": [
      "t=9.9, max-bond=20: 100%|###################################################################################################################################################################################################| 100/100 [00:05<00:00, 17.90it/s]\n"
     ]
    },
    {
     "name": "stdout",
     "output_type": "stream",
     "text": [
      "Time:5s\n",
      "Max error 0.002416874811611816\n",
      "Simulation 103 / 245\n",
      "Building Hamiltonian for L=7\n",
      "Initial state: random subsystem and thermal bath\n",
      "\n",
      "done\n",
      "Building Hamiltonian for L=7 \n",
      "\n",
      "Building the spin chain \n",
      "\n",
      "Imaginary time evolution \n",
      "\n"
     ]
    },
    {
     "name": "stderr",
     "output_type": "stream",
     "text": [
      "t=0.005, max-bond=4: 100%|#################################################################################################################################################################################################| 100/100 [00:00<00:00, 6785.47%/s]\n"
     ]
    },
    {
     "name": "stdout",
     "output_type": "stream",
     "text": [
      "Real time evolution\n"
     ]
    },
    {
     "name": "stderr",
     "output_type": "stream",
     "text": [
      "t=9.9, max-bond=20: 100%|###################################################################################################################################################################################################| 100/100 [00:05<00:00, 17.77it/s]\n"
     ]
    },
    {
     "name": "stdout",
     "output_type": "stream",
     "text": [
      "Time:5s\n",
      "Max error 0.0025379742355004847\n",
      "Simulation 104 / 245\n",
      "Building Hamiltonian for L=7\n",
      "Initial state: random subsystem and thermal bath\n",
      "\n",
      "done\n",
      "Building Hamiltonian for L=7 \n",
      "\n",
      "Building the spin chain \n",
      "\n",
      "Imaginary time evolution \n",
      "\n"
     ]
    },
    {
     "name": "stderr",
     "output_type": "stream",
     "text": [
      "t=0.005, max-bond=4: 100%|#################################################################################################################################################################################################| 100/100 [00:00<00:00, 7028.46%/s]\n"
     ]
    },
    {
     "name": "stdout",
     "output_type": "stream",
     "text": [
      "Real time evolution\n"
     ]
    },
    {
     "name": "stderr",
     "output_type": "stream",
     "text": [
      "t=9.9, max-bond=20: 100%|###################################################################################################################################################################################################| 100/100 [00:05<00:00, 17.71it/s]\n"
     ]
    },
    {
     "name": "stdout",
     "output_type": "stream",
     "text": [
      "Time:5s\n",
      "Max error 0.0027538315794921817\n",
      "i = 3, j = 0 =====================================\n",
      "Simulation 105 / 245\n",
      "Building Hamiltonian for L=7\n",
      "Initial state: random subsystem and thermal bath\n",
      "\n",
      "done\n",
      "Building Hamiltonian for L=7 \n",
      "\n",
      "Building the spin chain \n",
      "\n",
      "Imaginary time evolution \n",
      "\n"
     ]
    },
    {
     "name": "stderr",
     "output_type": "stream",
     "text": [
      "t=0.005, max-bond=4: 100%|#################################################################################################################################################################################################| 100/100 [00:00<00:00, 7425.78%/s]\n"
     ]
    },
    {
     "name": "stdout",
     "output_type": "stream",
     "text": [
      "Real time evolution\n"
     ]
    },
    {
     "name": "stderr",
     "output_type": "stream",
     "text": [
      "t=9.9, max-bond=49: 100%|###################################################################################################################################################################################################| 100/100 [00:16<00:00,  6.22it/s]\n"
     ]
    },
    {
     "name": "stdout",
     "output_type": "stream",
     "text": [
      "Time:16s\n",
      "Max error 0.0010810114007080954\n",
      "Simulation 106 / 245\n",
      "Building Hamiltonian for L=7\n",
      "Initial state: random subsystem and thermal bath\n",
      "\n",
      "done\n",
      "Building Hamiltonian for L=7 \n",
      "\n",
      "Building the spin chain \n",
      "\n",
      "Imaginary time evolution \n",
      "\n"
     ]
    },
    {
     "name": "stderr",
     "output_type": "stream",
     "text": [
      "t=0.005, max-bond=4: 100%|#################################################################################################################################################################################################| 100/100 [00:00<00:00, 7222.10%/s]\n"
     ]
    },
    {
     "name": "stdout",
     "output_type": "stream",
     "text": [
      "Real time evolution\n"
     ]
    },
    {
     "name": "stderr",
     "output_type": "stream",
     "text": [
      "t=9.9, max-bond=49: 100%|###################################################################################################################################################################################################| 100/100 [00:15<00:00,  6.41it/s]\n"
     ]
    },
    {
     "name": "stdout",
     "output_type": "stream",
     "text": [
      "Time:15s\n",
      "Max error 0.0011640508455113912\n",
      "Simulation 107 / 245\n",
      "Building Hamiltonian for L=7\n",
      "Initial state: random subsystem and thermal bath\n",
      "\n",
      "done\n",
      "Building Hamiltonian for L=7 \n",
      "\n",
      "Building the spin chain \n",
      "\n",
      "Imaginary time evolution \n",
      "\n"
     ]
    },
    {
     "name": "stderr",
     "output_type": "stream",
     "text": [
      "t=0.005, max-bond=4: 100%|#################################################################################################################################################################################################| 100/100 [00:00<00:00, 7205.97%/s]\n"
     ]
    },
    {
     "name": "stdout",
     "output_type": "stream",
     "text": [
      "Real time evolution\n"
     ]
    },
    {
     "name": "stderr",
     "output_type": "stream",
     "text": [
      "t=9.9, max-bond=49: 100%|###################################################################################################################################################################################################| 100/100 [00:15<00:00,  6.39it/s]\n"
     ]
    },
    {
     "name": "stdout",
     "output_type": "stream",
     "text": [
      "Time:15s\n",
      "Max error 0.001049044794956949\n",
      "Simulation 108 / 245\n",
      "Building Hamiltonian for L=7\n",
      "Initial state: random subsystem and thermal bath\n",
      "\n",
      "done\n",
      "Building Hamiltonian for L=7 \n",
      "\n",
      "Building the spin chain \n",
      "\n",
      "Imaginary time evolution \n",
      "\n"
     ]
    },
    {
     "name": "stderr",
     "output_type": "stream",
     "text": [
      "t=0.005, max-bond=4: 100%|#################################################################################################################################################################################################| 100/100 [00:00<00:00, 7218.24%/s]\n"
     ]
    },
    {
     "name": "stdout",
     "output_type": "stream",
     "text": [
      "Real time evolution\n"
     ]
    },
    {
     "name": "stderr",
     "output_type": "stream",
     "text": [
      "t=9.9, max-bond=49: 100%|###################################################################################################################################################################################################| 100/100 [00:15<00:00,  6.35it/s]\n"
     ]
    },
    {
     "name": "stdout",
     "output_type": "stream",
     "text": [
      "Time:15s\n",
      "Max error 0.0010269929213913354\n",
      "Simulation 109 / 245\n",
      "Building Hamiltonian for L=7\n",
      "Initial state: random subsystem and thermal bath\n",
      "\n",
      "done\n",
      "Building Hamiltonian for L=7 \n",
      "\n",
      "Building the spin chain \n",
      "\n",
      "Imaginary time evolution \n",
      "\n"
     ]
    },
    {
     "name": "stderr",
     "output_type": "stream",
     "text": [
      "t=0.005, max-bond=4: 100%|#################################################################################################################################################################################################| 100/100 [00:00<00:00, 7285.83%/s]\n"
     ]
    },
    {
     "name": "stdout",
     "output_type": "stream",
     "text": [
      "Real time evolution\n"
     ]
    },
    {
     "name": "stderr",
     "output_type": "stream",
     "text": [
      "t=9.9, max-bond=49: 100%|###################################################################################################################################################################################################| 100/100 [00:15<00:00,  6.30it/s]\n"
     ]
    },
    {
     "name": "stdout",
     "output_type": "stream",
     "text": [
      "Time:15s\n",
      "Max error 0.0010269267843791806\n",
      "i = 3, j = 1 =====================================\n",
      "Simulation 110 / 245\n",
      "Building Hamiltonian for L=7\n",
      "Initial state: random subsystem and thermal bath\n",
      "\n",
      "done\n",
      "Building Hamiltonian for L=7 \n",
      "\n",
      "Building the spin chain \n",
      "\n",
      "Imaginary time evolution \n",
      "\n"
     ]
    },
    {
     "name": "stderr",
     "output_type": "stream",
     "text": [
      "t=0.005, max-bond=4: 100%|#################################################################################################################################################################################################| 100/100 [00:00<00:00, 7271.68%/s]\n"
     ]
    },
    {
     "name": "stdout",
     "output_type": "stream",
     "text": [
      "Real time evolution\n"
     ]
    },
    {
     "name": "stderr",
     "output_type": "stream",
     "text": [
      "t=9.9, max-bond=49: 100%|###################################################################################################################################################################################################| 100/100 [00:15<00:00,  6.42it/s]\n"
     ]
    },
    {
     "name": "stdout",
     "output_type": "stream",
     "text": [
      "Time:15s\n",
      "Max error 0.0010751211874848493\n",
      "Simulation 111 / 245\n",
      "Building Hamiltonian for L=7\n",
      "Initial state: random subsystem and thermal bath\n",
      "\n",
      "done\n",
      "Building Hamiltonian for L=7 \n",
      "\n",
      "Building the spin chain \n",
      "\n",
      "Imaginary time evolution \n",
      "\n"
     ]
    },
    {
     "name": "stderr",
     "output_type": "stream",
     "text": [
      "t=0.005, max-bond=4: 100%|#################################################################################################################################################################################################| 100/100 [00:00<00:00, 7148.37%/s]\n"
     ]
    },
    {
     "name": "stdout",
     "output_type": "stream",
     "text": [
      "Real time evolution\n"
     ]
    },
    {
     "name": "stderr",
     "output_type": "stream",
     "text": [
      "t=9.9, max-bond=49: 100%|###################################################################################################################################################################################################| 100/100 [00:15<00:00,  6.41it/s]\n"
     ]
    },
    {
     "name": "stdout",
     "output_type": "stream",
     "text": [
      "Time:15s\n",
      "Max error 0.0008971115358121878\n",
      "Simulation 112 / 245\n",
      "Building Hamiltonian for L=7\n",
      "Initial state: random subsystem and thermal bath\n",
      "\n",
      "done\n",
      "Building Hamiltonian for L=7 \n",
      "\n",
      "Building the spin chain \n",
      "\n",
      "Imaginary time evolution \n",
      "\n"
     ]
    },
    {
     "name": "stderr",
     "output_type": "stream",
     "text": [
      "t=0.005, max-bond=4: 100%|#################################################################################################################################################################################################| 100/100 [00:00<00:00, 7276.85%/s]\n"
     ]
    },
    {
     "name": "stdout",
     "output_type": "stream",
     "text": [
      "Real time evolution\n"
     ]
    },
    {
     "name": "stderr",
     "output_type": "stream",
     "text": [
      "t=9.9, max-bond=48: 100%|###################################################################################################################################################################################################| 100/100 [00:15<00:00,  6.46it/s]\n"
     ]
    },
    {
     "name": "stdout",
     "output_type": "stream",
     "text": [
      "Time:15s\n",
      "Max error 0.0011042679315865628\n",
      "Simulation 113 / 245\n",
      "Building Hamiltonian for L=7\n",
      "Initial state: random subsystem and thermal bath\n",
      "\n",
      "done\n",
      "Building Hamiltonian for L=7 \n",
      "\n",
      "Building the spin chain \n",
      "\n",
      "Imaginary time evolution \n",
      "\n"
     ]
    },
    {
     "name": "stderr",
     "output_type": "stream",
     "text": [
      "t=0.005, max-bond=4: 100%|#################################################################################################################################################################################################| 100/100 [00:00<00:00, 7229.81%/s]\n"
     ]
    },
    {
     "name": "stdout",
     "output_type": "stream",
     "text": [
      "Real time evolution\n"
     ]
    },
    {
     "name": "stderr",
     "output_type": "stream",
     "text": [
      "t=9.9, max-bond=49: 100%|###################################################################################################################################################################################################| 100/100 [00:15<00:00,  6.41it/s]\n"
     ]
    },
    {
     "name": "stdout",
     "output_type": "stream",
     "text": [
      "Time:15s\n",
      "Max error 0.0011754505988532276\n",
      "Simulation 114 / 245\n",
      "Building Hamiltonian for L=7\n",
      "Initial state: random subsystem and thermal bath\n",
      "\n",
      "done\n",
      "Building Hamiltonian for L=7 \n",
      "\n",
      "Building the spin chain \n",
      "\n",
      "Imaginary time evolution \n",
      "\n"
     ]
    },
    {
     "name": "stderr",
     "output_type": "stream",
     "text": [
      "t=0.005, max-bond=4: 100%|#################################################################################################################################################################################################| 100/100 [00:00<00:00, 7159.96%/s]\n"
     ]
    },
    {
     "name": "stdout",
     "output_type": "stream",
     "text": [
      "Real time evolution\n"
     ]
    },
    {
     "name": "stderr",
     "output_type": "stream",
     "text": [
      "t=9.9, max-bond=49: 100%|###################################################################################################################################################################################################| 100/100 [00:19<00:00,  5.02it/s]\n"
     ]
    },
    {
     "name": "stdout",
     "output_type": "stream",
     "text": [
      "Time:19s\n",
      "Max error 0.0007759132032919494\n",
      "i = 3, j = 2 =====================================\n",
      "Simulation 115 / 245\n",
      "Building Hamiltonian for L=7\n",
      "Initial state: random subsystem and thermal bath\n",
      "\n",
      "done\n",
      "Building Hamiltonian for L=7 \n",
      "\n",
      "Building the spin chain \n",
      "\n",
      "Imaginary time evolution \n",
      "\n"
     ]
    },
    {
     "name": "stderr",
     "output_type": "stream",
     "text": [
      "t=0.005, max-bond=4: 100%|#################################################################################################################################################################################################| 100/100 [00:00<00:00, 6345.68%/s]\n"
     ]
    },
    {
     "name": "stdout",
     "output_type": "stream",
     "text": [
      "Real time evolution\n"
     ]
    },
    {
     "name": "stderr",
     "output_type": "stream",
     "text": [
      "t=9.9, max-bond=48: 100%|###################################################################################################################################################################################################| 100/100 [00:23<00:00,  4.27it/s]\n"
     ]
    },
    {
     "name": "stdout",
     "output_type": "stream",
     "text": [
      "Time:23s\n",
      "Max error 0.002749176611432904\n",
      "Simulation 116 / 245\n",
      "Building Hamiltonian for L=7\n",
      "Initial state: random subsystem and thermal bath\n",
      "\n",
      "done\n",
      "Building Hamiltonian for L=7 \n",
      "\n",
      "Building the spin chain \n",
      "\n",
      "Imaginary time evolution \n",
      "\n"
     ]
    },
    {
     "name": "stderr",
     "output_type": "stream",
     "text": [
      "t=0.005, max-bond=4: 100%|#################################################################################################################################################################################################| 100/100 [00:00<00:00, 6122.54%/s]\n"
     ]
    },
    {
     "name": "stdout",
     "output_type": "stream",
     "text": [
      "Real time evolution\n"
     ]
    },
    {
     "name": "stderr",
     "output_type": "stream",
     "text": [
      "t=9.9, max-bond=48: 100%|###################################################################################################################################################################################################| 100/100 [00:23<00:00,  4.29it/s]\n"
     ]
    },
    {
     "name": "stdout",
     "output_type": "stream",
     "text": [
      "Time:23s\n",
      "Max error 0.002561286097599256\n",
      "Simulation 117 / 245\n",
      "Building Hamiltonian for L=7\n",
      "Initial state: random subsystem and thermal bath\n",
      "\n",
      "done\n",
      "Building Hamiltonian for L=7 \n",
      "\n",
      "Building the spin chain \n",
      "\n",
      "Imaginary time evolution \n",
      "\n"
     ]
    },
    {
     "name": "stderr",
     "output_type": "stream",
     "text": [
      "t=0.005, max-bond=4: 100%|#################################################################################################################################################################################################| 100/100 [00:00<00:00, 5886.00%/s]\n"
     ]
    },
    {
     "name": "stdout",
     "output_type": "stream",
     "text": [
      "Real time evolution\n"
     ]
    },
    {
     "name": "stderr",
     "output_type": "stream",
     "text": [
      "t=9.9, max-bond=49: 100%|###################################################################################################################################################################################################| 100/100 [00:23<00:00,  4.21it/s]\n"
     ]
    },
    {
     "name": "stdout",
     "output_type": "stream",
     "text": [
      "Time:23s\n",
      "Max error 0.0026014642092378453\n",
      "Simulation 118 / 245\n",
      "Building Hamiltonian for L=7\n",
      "Initial state: random subsystem and thermal bath\n",
      "\n",
      "done\n",
      "Building Hamiltonian for L=7 \n",
      "\n",
      "Building the spin chain \n",
      "\n",
      "Imaginary time evolution \n",
      "\n"
     ]
    },
    {
     "name": "stderr",
     "output_type": "stream",
     "text": [
      "t=0.005, max-bond=4: 100%|#################################################################################################################################################################################################| 100/100 [00:00<00:00, 6520.29%/s]\n"
     ]
    },
    {
     "name": "stdout",
     "output_type": "stream",
     "text": [
      "Real time evolution\n"
     ]
    },
    {
     "name": "stderr",
     "output_type": "stream",
     "text": [
      "t=9.9, max-bond=48: 100%|###################################################################################################################################################################################################| 100/100 [00:23<00:00,  4.26it/s]\n"
     ]
    },
    {
     "name": "stdout",
     "output_type": "stream",
     "text": [
      "Time:23s\n",
      "Max error 0.0027506554068883818\n",
      "Simulation 119 / 245\n",
      "Building Hamiltonian for L=7\n",
      "Initial state: random subsystem and thermal bath\n",
      "\n",
      "done\n",
      "Building Hamiltonian for L=7 \n",
      "\n",
      "Building the spin chain \n",
      "\n",
      "Imaginary time evolution \n",
      "\n"
     ]
    },
    {
     "name": "stderr",
     "output_type": "stream",
     "text": [
      "t=0.005, max-bond=4: 100%|#################################################################################################################################################################################################| 100/100 [00:00<00:00, 4195.73%/s]\n"
     ]
    },
    {
     "name": "stdout",
     "output_type": "stream",
     "text": [
      "Real time evolution\n"
     ]
    },
    {
     "name": "stderr",
     "output_type": "stream",
     "text": [
      "t=9.9, max-bond=48: 100%|###################################################################################################################################################################################################| 100/100 [00:23<00:00,  4.30it/s]\n"
     ]
    },
    {
     "name": "stdout",
     "output_type": "stream",
     "text": [
      "Time:23s\n",
      "Max error 0.002734009166364659\n",
      "i = 3, j = 3 =====================================\n",
      "Simulation 120 / 245\n",
      "Building Hamiltonian for L=7\n",
      "Initial state: random subsystem and thermal bath\n",
      "\n",
      "done\n",
      "Building Hamiltonian for L=7 \n",
      "\n",
      "Building the spin chain \n",
      "\n",
      "Imaginary time evolution \n",
      "\n"
     ]
    },
    {
     "name": "stderr",
     "output_type": "stream",
     "text": [
      "t=0.005, max-bond=4: 100%|#################################################################################################################################################################################################| 100/100 [00:00<00:00, 4198.42%/s]\n"
     ]
    },
    {
     "name": "stdout",
     "output_type": "stream",
     "text": [
      "Real time evolution\n"
     ]
    },
    {
     "name": "stderr",
     "output_type": "stream",
     "text": [
      "t=9.9, max-bond=49: 100%|###################################################################################################################################################################################################| 100/100 [00:23<00:00,  4.27it/s]\n"
     ]
    },
    {
     "name": "stdout",
     "output_type": "stream",
     "text": [
      "Time:23s\n",
      "Max error 0.0026088346414530465\n",
      "Simulation 121 / 245\n",
      "Building Hamiltonian for L=7\n",
      "Initial state: random subsystem and thermal bath\n",
      "\n",
      "done\n",
      "Building Hamiltonian for L=7 \n",
      "\n",
      "Building the spin chain \n",
      "\n",
      "Imaginary time evolution \n",
      "\n"
     ]
    },
    {
     "name": "stderr",
     "output_type": "stream",
     "text": [
      "t=0.005, max-bond=4: 100%|#################################################################################################################################################################################################| 100/100 [00:00<00:00, 6090.35%/s]\n"
     ]
    },
    {
     "name": "stdout",
     "output_type": "stream",
     "text": [
      "Real time evolution\n"
     ]
    },
    {
     "name": "stderr",
     "output_type": "stream",
     "text": [
      "t=9.9, max-bond=49: 100%|###################################################################################################################################################################################################| 100/100 [00:23<00:00,  4.29it/s]\n"
     ]
    },
    {
     "name": "stdout",
     "output_type": "stream",
     "text": [
      "Time:23s\n",
      "Max error 0.0027919716367717563\n",
      "Simulation 122 / 245\n",
      "Building Hamiltonian for L=7\n",
      "Initial state: random subsystem and thermal bath\n",
      "\n",
      "done\n",
      "Building Hamiltonian for L=7 \n",
      "\n",
      "Building the spin chain \n",
      "\n",
      "Imaginary time evolution \n",
      "\n"
     ]
    },
    {
     "name": "stderr",
     "output_type": "stream",
     "text": [
      "t=0.005, max-bond=4: 100%|#################################################################################################################################################################################################| 100/100 [00:00<00:00, 5853.31%/s]\n"
     ]
    },
    {
     "name": "stdout",
     "output_type": "stream",
     "text": [
      "Real time evolution\n"
     ]
    },
    {
     "name": "stderr",
     "output_type": "stream",
     "text": [
      "t=9.9, max-bond=49: 100%|###################################################################################################################################################################################################| 100/100 [00:23<00:00,  4.29it/s]\n"
     ]
    },
    {
     "name": "stdout",
     "output_type": "stream",
     "text": [
      "Time:23s\n",
      "Max error 0.0026703963258187234\n",
      "Simulation 123 / 245\n",
      "Building Hamiltonian for L=7\n",
      "Initial state: random subsystem and thermal bath\n",
      "\n",
      "done\n",
      "Building Hamiltonian for L=7 \n",
      "\n",
      "Building the spin chain \n",
      "\n",
      "Imaginary time evolution \n",
      "\n"
     ]
    },
    {
     "name": "stderr",
     "output_type": "stream",
     "text": [
      "t=0.005, max-bond=4: 100%|#################################################################################################################################################################################################| 100/100 [00:00<00:00, 6226.61%/s]\n"
     ]
    },
    {
     "name": "stdout",
     "output_type": "stream",
     "text": [
      "Real time evolution\n"
     ]
    },
    {
     "name": "stderr",
     "output_type": "stream",
     "text": [
      "t=9.9, max-bond=49: 100%|###################################################################################################################################################################################################| 100/100 [00:23<00:00,  4.28it/s]\n"
     ]
    },
    {
     "name": "stdout",
     "output_type": "stream",
     "text": [
      "Time:23s\n",
      "Max error 0.002802312694716501\n",
      "Simulation 124 / 245\n",
      "Building Hamiltonian for L=7\n",
      "Initial state: random subsystem and thermal bath\n",
      "\n",
      "done\n",
      "Building Hamiltonian for L=7 \n",
      "\n",
      "Building the spin chain \n",
      "\n",
      "Imaginary time evolution \n",
      "\n"
     ]
    },
    {
     "name": "stderr",
     "output_type": "stream",
     "text": [
      "t=0.005, max-bond=4: 100%|#################################################################################################################################################################################################| 100/100 [00:00<00:00, 4703.51%/s]\n"
     ]
    },
    {
     "name": "stdout",
     "output_type": "stream",
     "text": [
      "Real time evolution\n"
     ]
    },
    {
     "name": "stderr",
     "output_type": "stream",
     "text": [
      "t=9.9, max-bond=49: 100%|###################################################################################################################################################################################################| 100/100 [00:23<00:00,  4.23it/s]\n"
     ]
    },
    {
     "name": "stdout",
     "output_type": "stream",
     "text": [
      "Time:23s\n",
      "Max error 0.0026960701771738447\n",
      "i = 3, j = 4 =====================================\n",
      "Simulation 125 / 245\n",
      "Building Hamiltonian for L=7\n",
      "Initial state: random subsystem and thermal bath\n",
      "\n",
      "done\n",
      "Building Hamiltonian for L=7 \n",
      "\n",
      "Building the spin chain \n",
      "\n",
      "Imaginary time evolution \n",
      "\n"
     ]
    },
    {
     "name": "stderr",
     "output_type": "stream",
     "text": [
      "t=0.005, max-bond=4: 100%|#################################################################################################################################################################################################| 100/100 [00:00<00:00, 4046.41%/s]\n"
     ]
    },
    {
     "name": "stdout",
     "output_type": "stream",
     "text": [
      "Real time evolution\n"
     ]
    },
    {
     "name": "stderr",
     "output_type": "stream",
     "text": [
      "t=9.9, max-bond=48: 100%|###################################################################################################################################################################################################| 100/100 [00:23<00:00,  4.28it/s]\n"
     ]
    },
    {
     "name": "stdout",
     "output_type": "stream",
     "text": [
      "Time:23s\n",
      "Max error 0.0027463816440322537\n",
      "Simulation 126 / 245\n",
      "Building Hamiltonian for L=7\n",
      "Initial state: random subsystem and thermal bath\n",
      "\n",
      "done\n",
      "Building Hamiltonian for L=7 \n",
      "\n",
      "Building the spin chain \n",
      "\n",
      "Imaginary time evolution \n",
      "\n"
     ]
    },
    {
     "name": "stderr",
     "output_type": "stream",
     "text": [
      "t=0.005, max-bond=4: 100%|#################################################################################################################################################################################################| 100/100 [00:00<00:00, 5101.26%/s]\n"
     ]
    },
    {
     "name": "stdout",
     "output_type": "stream",
     "text": [
      "Real time evolution\n"
     ]
    },
    {
     "name": "stderr",
     "output_type": "stream",
     "text": [
      "t=9.9, max-bond=49: 100%|###################################################################################################################################################################################################| 100/100 [00:23<00:00,  4.26it/s]\n"
     ]
    },
    {
     "name": "stdout",
     "output_type": "stream",
     "text": [
      "Time:23s\n",
      "Max error 0.002791531924023166\n",
      "Simulation 127 / 245\n",
      "Building Hamiltonian for L=7\n",
      "Initial state: random subsystem and thermal bath\n",
      "\n",
      "done\n",
      "Building Hamiltonian for L=7 \n",
      "\n",
      "Building the spin chain \n",
      "\n",
      "Imaginary time evolution \n",
      "\n"
     ]
    },
    {
     "name": "stderr",
     "output_type": "stream",
     "text": [
      "t=0.005, max-bond=4: 100%|#################################################################################################################################################################################################| 100/100 [00:00<00:00, 6091.06%/s]\n"
     ]
    },
    {
     "name": "stdout",
     "output_type": "stream",
     "text": [
      "Real time evolution\n"
     ]
    },
    {
     "name": "stderr",
     "output_type": "stream",
     "text": [
      "t=9.9, max-bond=49: 100%|###################################################################################################################################################################################################| 100/100 [00:23<00:00,  4.24it/s]\n"
     ]
    },
    {
     "name": "stdout",
     "output_type": "stream",
     "text": [
      "Time:23s\n",
      "Max error 0.0026334614343531317\n",
      "Simulation 128 / 245\n",
      "Building Hamiltonian for L=7\n",
      "Initial state: random subsystem and thermal bath\n",
      "\n",
      "done\n",
      "Building Hamiltonian for L=7 \n",
      "\n",
      "Building the spin chain \n",
      "\n",
      "Imaginary time evolution \n",
      "\n"
     ]
    },
    {
     "name": "stderr",
     "output_type": "stream",
     "text": [
      "t=0.005, max-bond=4: 100%|#################################################################################################################################################################################################| 100/100 [00:00<00:00, 6253.81%/s]\n"
     ]
    },
    {
     "name": "stdout",
     "output_type": "stream",
     "text": [
      "Real time evolution\n"
     ]
    },
    {
     "name": "stderr",
     "output_type": "stream",
     "text": [
      "t=9.9, max-bond=49: 100%|###################################################################################################################################################################################################| 100/100 [00:23<00:00,  4.28it/s]\n"
     ]
    },
    {
     "name": "stdout",
     "output_type": "stream",
     "text": [
      "Time:23s\n",
      "Max error 0.00266113704868926\n",
      "Simulation 129 / 245\n",
      "Building Hamiltonian for L=7\n",
      "Initial state: random subsystem and thermal bath\n",
      "\n",
      "done\n",
      "Building Hamiltonian for L=7 \n",
      "\n",
      "Building the spin chain \n",
      "\n",
      "Imaginary time evolution \n",
      "\n"
     ]
    },
    {
     "name": "stderr",
     "output_type": "stream",
     "text": [
      "t=0.005, max-bond=4: 100%|#################################################################################################################################################################################################| 100/100 [00:00<00:00, 6077.47%/s]\n"
     ]
    },
    {
     "name": "stdout",
     "output_type": "stream",
     "text": [
      "Real time evolution\n"
     ]
    },
    {
     "name": "stderr",
     "output_type": "stream",
     "text": [
      "t=9.9, max-bond=48: 100%|###################################################################################################################################################################################################| 100/100 [00:23<00:00,  4.26it/s]\n"
     ]
    },
    {
     "name": "stdout",
     "output_type": "stream",
     "text": [
      "Time:23s\n",
      "Max error 0.0027640972558083746\n",
      "i = 3, j = 5 =====================================\n",
      "Simulation 130 / 245\n",
      "Building Hamiltonian for L=7\n",
      "Initial state: random subsystem and thermal bath\n",
      "\n",
      "done\n",
      "Building Hamiltonian for L=7 \n",
      "\n",
      "Building the spin chain \n",
      "\n",
      "Imaginary time evolution \n",
      "\n"
     ]
    },
    {
     "name": "stderr",
     "output_type": "stream",
     "text": [
      "t=0.005, max-bond=4: 100%|#################################################################################################################################################################################################| 100/100 [00:00<00:00, 3383.84%/s]\n"
     ]
    },
    {
     "name": "stdout",
     "output_type": "stream",
     "text": [
      "Real time evolution\n"
     ]
    },
    {
     "name": "stderr",
     "output_type": "stream",
     "text": [
      "t=9.9, max-bond=49: 100%|###################################################################################################################################################################################################| 100/100 [00:23<00:00,  4.27it/s]\n"
     ]
    },
    {
     "name": "stdout",
     "output_type": "stream",
     "text": [
      "Time:23s\n",
      "Max error 0.0027751280895808392\n",
      "Simulation 131 / 245\n",
      "Building Hamiltonian for L=7\n",
      "Initial state: random subsystem and thermal bath\n",
      "\n",
      "done\n",
      "Building Hamiltonian for L=7 \n",
      "\n",
      "Building the spin chain \n",
      "\n",
      "Imaginary time evolution \n",
      "\n"
     ]
    },
    {
     "name": "stderr",
     "output_type": "stream",
     "text": [
      "t=0.005, max-bond=4: 100%|#################################################################################################################################################################################################| 100/100 [00:00<00:00, 5888.64%/s]\n"
     ]
    },
    {
     "name": "stdout",
     "output_type": "stream",
     "text": [
      "Real time evolution\n"
     ]
    },
    {
     "name": "stderr",
     "output_type": "stream",
     "text": [
      "t=9.9, max-bond=49: 100%|###################################################################################################################################################################################################| 100/100 [00:18<00:00,  5.38it/s]\n"
     ]
    },
    {
     "name": "stdout",
     "output_type": "stream",
     "text": [
      "Time:18s\n",
      "Max error 0.00274243412904961\n",
      "Simulation 132 / 245\n",
      "Building Hamiltonian for L=7\n",
      "Initial state: random subsystem and thermal bath\n",
      "\n",
      "done\n",
      "Building Hamiltonian for L=7 \n",
      "\n",
      "Building the spin chain \n",
      "\n",
      "Imaginary time evolution \n",
      "\n"
     ]
    },
    {
     "name": "stderr",
     "output_type": "stream",
     "text": [
      "t=0.005, max-bond=4: 100%|#################################################################################################################################################################################################| 100/100 [00:00<00:00, 6919.24%/s]\n"
     ]
    },
    {
     "name": "stdout",
     "output_type": "stream",
     "text": [
      "Real time evolution\n"
     ]
    },
    {
     "name": "stderr",
     "output_type": "stream",
     "text": [
      "t=9.9, max-bond=49: 100%|###################################################################################################################################################################################################| 100/100 [00:15<00:00,  6.41it/s]\n"
     ]
    },
    {
     "name": "stdout",
     "output_type": "stream",
     "text": [
      "Time:15s\n",
      "Max error 0.002790531315466282\n",
      "Simulation 133 / 245\n",
      "Building Hamiltonian for L=7\n",
      "Initial state: random subsystem and thermal bath\n",
      "\n",
      "done\n",
      "Building Hamiltonian for L=7 \n",
      "\n",
      "Building the spin chain \n",
      "\n",
      "Imaginary time evolution \n",
      "\n"
     ]
    },
    {
     "name": "stderr",
     "output_type": "stream",
     "text": [
      "t=0.005, max-bond=4: 100%|#################################################################################################################################################################################################| 100/100 [00:00<00:00, 6930.10%/s]\n"
     ]
    },
    {
     "name": "stdout",
     "output_type": "stream",
     "text": [
      "Real time evolution\n"
     ]
    },
    {
     "name": "stderr",
     "output_type": "stream",
     "text": [
      "t=9.9, max-bond=49: 100%|###################################################################################################################################################################################################| 100/100 [00:15<00:00,  6.33it/s]\n"
     ]
    },
    {
     "name": "stdout",
     "output_type": "stream",
     "text": [
      "Time:15s\n",
      "Max error 0.0028776357772040493\n",
      "Simulation 134 / 245\n",
      "Building Hamiltonian for L=7\n",
      "Initial state: random subsystem and thermal bath\n",
      "\n",
      "done\n",
      "Building Hamiltonian for L=7 \n",
      "\n",
      "Building the spin chain \n",
      "\n",
      "Imaginary time evolution \n",
      "\n"
     ]
    },
    {
     "name": "stderr",
     "output_type": "stream",
     "text": [
      "t=0.005, max-bond=4: 100%|#################################################################################################################################################################################################| 100/100 [00:00<00:00, 6945.48%/s]\n"
     ]
    },
    {
     "name": "stdout",
     "output_type": "stream",
     "text": [
      "Real time evolution\n"
     ]
    },
    {
     "name": "stderr",
     "output_type": "stream",
     "text": [
      "t=9.9, max-bond=49: 100%|###################################################################################################################################################################################################| 100/100 [00:15<00:00,  6.30it/s]\n"
     ]
    },
    {
     "name": "stdout",
     "output_type": "stream",
     "text": [
      "Time:15s\n",
      "Max error 0.00283861193035775\n",
      "i = 3, j = 6 =====================================\n",
      "Simulation 135 / 245\n",
      "Building Hamiltonian for L=7\n",
      "Initial state: random subsystem and thermal bath\n",
      "\n",
      "done\n",
      "Building Hamiltonian for L=7 \n",
      "\n",
      "Building the spin chain \n",
      "\n",
      "Imaginary time evolution \n",
      "\n"
     ]
    },
    {
     "name": "stderr",
     "output_type": "stream",
     "text": [
      "t=0.005, max-bond=4: 100%|#################################################################################################################################################################################################| 100/100 [00:00<00:00, 6895.92%/s]\n"
     ]
    },
    {
     "name": "stdout",
     "output_type": "stream",
     "text": [
      "Real time evolution\n"
     ]
    },
    {
     "name": "stderr",
     "output_type": "stream",
     "text": [
      "t=9.9, max-bond=48: 100%|###################################################################################################################################################################################################| 100/100 [00:15<00:00,  6.41it/s]\n"
     ]
    },
    {
     "name": "stdout",
     "output_type": "stream",
     "text": [
      "Time:15s\n",
      "Max error 0.002775046879240189\n",
      "Simulation 136 / 245\n",
      "Building Hamiltonian for L=7\n",
      "Initial state: random subsystem and thermal bath\n",
      "\n",
      "done\n",
      "Building Hamiltonian for L=7 \n",
      "\n",
      "Building the spin chain \n",
      "\n",
      "Imaginary time evolution \n",
      "\n"
     ]
    },
    {
     "name": "stderr",
     "output_type": "stream",
     "text": [
      "t=0.005, max-bond=4: 100%|#################################################################################################################################################################################################| 100/100 [00:00<00:00, 6749.66%/s]\n"
     ]
    },
    {
     "name": "stdout",
     "output_type": "stream",
     "text": [
      "Real time evolution\n"
     ]
    },
    {
     "name": "stderr",
     "output_type": "stream",
     "text": [
      "t=9.9, max-bond=49: 100%|###################################################################################################################################################################################################| 100/100 [00:15<00:00,  6.38it/s]\n"
     ]
    },
    {
     "name": "stdout",
     "output_type": "stream",
     "text": [
      "Time:15s\n",
      "Max error 0.002630629067263028\n",
      "Simulation 137 / 245\n",
      "Building Hamiltonian for L=7\n",
      "Initial state: random subsystem and thermal bath\n",
      "\n",
      "done\n",
      "Building Hamiltonian for L=7 \n",
      "\n",
      "Building the spin chain \n",
      "\n",
      "Imaginary time evolution \n",
      "\n"
     ]
    },
    {
     "name": "stderr",
     "output_type": "stream",
     "text": [
      "t=0.005, max-bond=4: 100%|#################################################################################################################################################################################################| 100/100 [00:00<00:00, 6958.96%/s]\n"
     ]
    },
    {
     "name": "stdout",
     "output_type": "stream",
     "text": [
      "Real time evolution\n"
     ]
    },
    {
     "name": "stderr",
     "output_type": "stream",
     "text": [
      "t=9.9, max-bond=48: 100%|###################################################################################################################################################################################################| 100/100 [00:15<00:00,  6.34it/s]\n"
     ]
    },
    {
     "name": "stdout",
     "output_type": "stream",
     "text": [
      "Time:15s\n",
      "Max error 0.0027328612698085215\n",
      "Simulation 138 / 245\n",
      "Building Hamiltonian for L=7\n",
      "Initial state: random subsystem and thermal bath\n",
      "\n",
      "done\n",
      "Building Hamiltonian for L=7 \n",
      "\n",
      "Building the spin chain \n",
      "\n",
      "Imaginary time evolution \n",
      "\n"
     ]
    },
    {
     "name": "stderr",
     "output_type": "stream",
     "text": [
      "t=0.005, max-bond=4: 100%|#################################################################################################################################################################################################| 100/100 [00:00<00:00, 6898.19%/s]\n"
     ]
    },
    {
     "name": "stdout",
     "output_type": "stream",
     "text": [
      "Real time evolution\n"
     ]
    },
    {
     "name": "stderr",
     "output_type": "stream",
     "text": [
      "t=9.9, max-bond=48: 100%|###################################################################################################################################################################################################| 100/100 [00:15<00:00,  6.56it/s]\n"
     ]
    },
    {
     "name": "stdout",
     "output_type": "stream",
     "text": [
      "Time:15s\n",
      "Max error 0.002784845856701538\n",
      "Simulation 139 / 245\n",
      "Building Hamiltonian for L=7\n",
      "Initial state: random subsystem and thermal bath\n",
      "\n",
      "done\n",
      "Building Hamiltonian for L=7 \n",
      "\n",
      "Building the spin chain \n",
      "\n",
      "Imaginary time evolution \n",
      "\n"
     ]
    },
    {
     "name": "stderr",
     "output_type": "stream",
     "text": [
      "t=0.005, max-bond=4: 100%|#################################################################################################################################################################################################| 100/100 [00:00<00:00, 6891.16%/s]\n"
     ]
    },
    {
     "name": "stdout",
     "output_type": "stream",
     "text": [
      "Real time evolution\n"
     ]
    },
    {
     "name": "stderr",
     "output_type": "stream",
     "text": [
      "t=9.9, max-bond=49: 100%|###################################################################################################################################################################################################| 100/100 [00:15<00:00,  6.39it/s]\n"
     ]
    },
    {
     "name": "stdout",
     "output_type": "stream",
     "text": [
      "Time:15s\n",
      "Max error 0.00278160429343935\n",
      "i = 4, j = 0 =====================================\n",
      "Simulation 140 / 245\n",
      "Building Hamiltonian for L=7\n",
      "Initial state: random subsystem and thermal bath\n",
      "\n",
      "done\n",
      "Building Hamiltonian for L=7 \n",
      "\n",
      "Building the spin chain \n",
      "\n",
      "Imaginary time evolution \n",
      "\n"
     ]
    },
    {
     "name": "stderr",
     "output_type": "stream",
     "text": [
      "t=0.005, max-bond=4: 100%|#################################################################################################################################################################################################| 100/100 [00:00<00:00, 7039.90%/s]\n"
     ]
    },
    {
     "name": "stdout",
     "output_type": "stream",
     "text": [
      "Real time evolution\n"
     ]
    },
    {
     "name": "stderr",
     "output_type": "stream",
     "text": [
      "t=9.9, max-bond=83: 100%|###################################################################################################################################################################################################| 100/100 [00:32<00:00,  3.04it/s]\n"
     ]
    },
    {
     "name": "stdout",
     "output_type": "stream",
     "text": [
      "Time:32s\n",
      "Max error 0.0008329803687177744\n",
      "Simulation 141 / 245\n",
      "Building Hamiltonian for L=7\n",
      "Initial state: random subsystem and thermal bath\n",
      "\n",
      "done\n",
      "Building Hamiltonian for L=7 \n",
      "\n",
      "Building the spin chain \n",
      "\n",
      "Imaginary time evolution \n",
      "\n"
     ]
    },
    {
     "name": "stderr",
     "output_type": "stream",
     "text": [
      "t=0.005, max-bond=4: 100%|#################################################################################################################################################################################################| 100/100 [00:00<00:00, 7203.86%/s]\n"
     ]
    },
    {
     "name": "stdout",
     "output_type": "stream",
     "text": [
      "Real time evolution\n"
     ]
    },
    {
     "name": "stderr",
     "output_type": "stream",
     "text": [
      "t=9.9, max-bond=83: 100%|###################################################################################################################################################################################################| 100/100 [00:35<00:00,  2.85it/s]\n"
     ]
    },
    {
     "name": "stdout",
     "output_type": "stream",
     "text": [
      "Time:35s\n",
      "Max error 0.0009944514125732574\n",
      "Simulation 142 / 245\n",
      "Building Hamiltonian for L=7\n",
      "Initial state: random subsystem and thermal bath\n",
      "\n",
      "done\n",
      "Building Hamiltonian for L=7 \n",
      "\n",
      "Building the spin chain \n",
      "\n",
      "Imaginary time evolution \n",
      "\n"
     ]
    },
    {
     "name": "stderr",
     "output_type": "stream",
     "text": [
      "t=0.005, max-bond=4: 100%|#################################################################################################################################################################################################| 100/100 [00:00<00:00, 7123.48%/s]\n"
     ]
    },
    {
     "name": "stdout",
     "output_type": "stream",
     "text": [
      "Real time evolution\n"
     ]
    },
    {
     "name": "stderr",
     "output_type": "stream",
     "text": [
      "t=9.9, max-bond=84: 100%|###################################################################################################################################################################################################| 100/100 [00:42<00:00,  2.34it/s]\n"
     ]
    },
    {
     "name": "stdout",
     "output_type": "stream",
     "text": [
      "Time:42s\n",
      "Max error 0.0011200010223082757\n",
      "Simulation 143 / 245\n",
      "Building Hamiltonian for L=7\n",
      "Initial state: random subsystem and thermal bath\n",
      "\n",
      "done\n",
      "Building Hamiltonian for L=7 \n",
      "\n",
      "Building the spin chain \n",
      "\n",
      "Imaginary time evolution \n",
      "\n"
     ]
    },
    {
     "name": "stderr",
     "output_type": "stream",
     "text": [
      "t=0.005, max-bond=4: 100%|#################################################################################################################################################################################################| 100/100 [00:00<00:00, 6737.51%/s]\n"
     ]
    },
    {
     "name": "stdout",
     "output_type": "stream",
     "text": [
      "Real time evolution\n"
     ]
    },
    {
     "name": "stderr",
     "output_type": "stream",
     "text": [
      "t=9.9, max-bond=84: 100%|###################################################################################################################################################################################################| 100/100 [00:48<00:00,  2.07it/s]\n"
     ]
    },
    {
     "name": "stdout",
     "output_type": "stream",
     "text": [
      "Time:48s\n",
      "Max error 0.0009171392732836214\n",
      "Simulation 144 / 245\n",
      "Building Hamiltonian for L=7\n",
      "Initial state: random subsystem and thermal bath\n",
      "\n",
      "done\n",
      "Building Hamiltonian for L=7 \n",
      "\n",
      "Building the spin chain \n",
      "\n",
      "Imaginary time evolution \n",
      "\n"
     ]
    },
    {
     "name": "stderr",
     "output_type": "stream",
     "text": [
      "t=0.005, max-bond=4: 100%|#################################################################################################################################################################################################| 100/100 [00:00<00:00, 7259.72%/s]\n"
     ]
    },
    {
     "name": "stdout",
     "output_type": "stream",
     "text": [
      "Real time evolution\n"
     ]
    },
    {
     "name": "stderr",
     "output_type": "stream",
     "text": [
      "t=9.9, max-bond=84: 100%|###################################################################################################################################################################################################| 100/100 [00:32<00:00,  3.08it/s]\n"
     ]
    },
    {
     "name": "stdout",
     "output_type": "stream",
     "text": [
      "Time:32s\n",
      "Max error 0.0009734452523163455\n",
      "i = 4, j = 1 =====================================\n",
      "Simulation 145 / 245\n",
      "Building Hamiltonian for L=7\n",
      "Initial state: random subsystem and thermal bath\n",
      "\n",
      "done\n",
      "Building Hamiltonian for L=7 \n",
      "\n",
      "Building the spin chain \n",
      "\n",
      "Imaginary time evolution \n",
      "\n"
     ]
    },
    {
     "name": "stderr",
     "output_type": "stream",
     "text": [
      "t=0.005, max-bond=4: 100%|#################################################################################################################################################################################################| 100/100 [00:00<00:00, 7186.09%/s]\n"
     ]
    },
    {
     "name": "stdout",
     "output_type": "stream",
     "text": [
      "Real time evolution\n"
     ]
    },
    {
     "name": "stderr",
     "output_type": "stream",
     "text": [
      "t=9.9, max-bond=83: 100%|###################################################################################################################################################################################################| 100/100 [00:32<00:00,  3.10it/s]\n"
     ]
    },
    {
     "name": "stdout",
     "output_type": "stream",
     "text": [
      "Time:32s\n",
      "Max error 0.0008652417127151273\n",
      "Simulation 146 / 245\n",
      "Building Hamiltonian for L=7\n",
      "Initial state: random subsystem and thermal bath\n",
      "\n",
      "done\n",
      "Building Hamiltonian for L=7 \n",
      "\n",
      "Building the spin chain \n",
      "\n",
      "Imaginary time evolution \n",
      "\n"
     ]
    },
    {
     "name": "stderr",
     "output_type": "stream",
     "text": [
      "t=0.005, max-bond=4: 100%|#################################################################################################################################################################################################| 100/100 [00:00<00:00, 7295.58%/s]\n"
     ]
    },
    {
     "name": "stdout",
     "output_type": "stream",
     "text": [
      "Real time evolution\n"
     ]
    },
    {
     "name": "stderr",
     "output_type": "stream",
     "text": [
      "t=9.9, max-bond=84: 100%|###################################################################################################################################################################################################| 100/100 [00:32<00:00,  3.09it/s]\n"
     ]
    },
    {
     "name": "stdout",
     "output_type": "stream",
     "text": [
      "Time:32s\n",
      "Max error 0.0009574930237184727\n",
      "Simulation 147 / 245\n",
      "Building Hamiltonian for L=7\n",
      "Initial state: random subsystem and thermal bath\n",
      "\n",
      "done\n",
      "Building Hamiltonian for L=7 \n",
      "\n",
      "Building the spin chain \n",
      "\n",
      "Imaginary time evolution \n",
      "\n"
     ]
    },
    {
     "name": "stderr",
     "output_type": "stream",
     "text": [
      "t=0.005, max-bond=4: 100%|#################################################################################################################################################################################################| 100/100 [00:00<00:00, 7205.72%/s]\n"
     ]
    },
    {
     "name": "stdout",
     "output_type": "stream",
     "text": [
      "Real time evolution\n"
     ]
    },
    {
     "name": "stderr",
     "output_type": "stream",
     "text": [
      "t=9.9, max-bond=84: 100%|###################################################################################################################################################################################################| 100/100 [00:32<00:00,  3.08it/s]\n"
     ]
    },
    {
     "name": "stdout",
     "output_type": "stream",
     "text": [
      "Time:32s\n",
      "Max error 0.0010375178448962055\n",
      "Simulation 148 / 245\n",
      "Building Hamiltonian for L=7\n",
      "Initial state: random subsystem and thermal bath\n",
      "\n",
      "done\n",
      "Building Hamiltonian for L=7 \n",
      "\n",
      "Building the spin chain \n",
      "\n",
      "Imaginary time evolution \n",
      "\n"
     ]
    },
    {
     "name": "stderr",
     "output_type": "stream",
     "text": [
      "t=0.005, max-bond=4: 100%|#################################################################################################################################################################################################| 100/100 [00:00<00:00, 7276.85%/s]\n"
     ]
    },
    {
     "name": "stdout",
     "output_type": "stream",
     "text": [
      "Real time evolution\n"
     ]
    },
    {
     "name": "stderr",
     "output_type": "stream",
     "text": [
      "t=9.9, max-bond=83: 100%|###################################################################################################################################################################################################| 100/100 [00:32<00:00,  3.06it/s]\n"
     ]
    },
    {
     "name": "stdout",
     "output_type": "stream",
     "text": [
      "Time:32s\n",
      "Max error 0.000870794881692304\n",
      "Simulation 149 / 245\n",
      "Building Hamiltonian for L=7\n",
      "Initial state: random subsystem and thermal bath\n",
      "\n",
      "done\n",
      "Building Hamiltonian for L=7 \n",
      "\n",
      "Building the spin chain \n",
      "\n",
      "Imaginary time evolution \n",
      "\n"
     ]
    },
    {
     "name": "stderr",
     "output_type": "stream",
     "text": [
      "t=0.005, max-bond=4: 100%|#################################################################################################################################################################################################| 100/100 [00:00<00:00, 7314.29%/s]\n"
     ]
    },
    {
     "name": "stdout",
     "output_type": "stream",
     "text": [
      "Real time evolution\n"
     ]
    },
    {
     "name": "stderr",
     "output_type": "stream",
     "text": [
      "t=9.9, max-bond=84: 100%|###################################################################################################################################################################################################| 100/100 [00:32<00:00,  3.08it/s]\n"
     ]
    },
    {
     "name": "stdout",
     "output_type": "stream",
     "text": [
      "Time:32s\n",
      "Max error 0.0009328732712834025\n",
      "i = 4, j = 2 =====================================\n",
      "Simulation 150 / 245\n",
      "Building Hamiltonian for L=7\n",
      "Initial state: random subsystem and thermal bath\n",
      "\n",
      "done\n",
      "Building Hamiltonian for L=7 \n",
      "\n",
      "Building the spin chain \n",
      "\n",
      "Imaginary time evolution \n",
      "\n"
     ]
    },
    {
     "name": "stderr",
     "output_type": "stream",
     "text": [
      "t=0.005, max-bond=4: 100%|#################################################################################################################################################################################################| 100/100 [00:00<00:00, 7030.82%/s]\n"
     ]
    },
    {
     "name": "stdout",
     "output_type": "stream",
     "text": [
      "Real time evolution\n"
     ]
    },
    {
     "name": "stderr",
     "output_type": "stream",
     "text": [
      "t=9.9, max-bond=83: 100%|###################################################################################################################################################################################################| 100/100 [00:32<00:00,  3.07it/s]\n"
     ]
    },
    {
     "name": "stdout",
     "output_type": "stream",
     "text": [
      "Time:32s\n",
      "Max error 0.002809206186284923\n",
      "Simulation 151 / 245\n",
      "Building Hamiltonian for L=7\n",
      "Initial state: random subsystem and thermal bath\n",
      "\n",
      "done\n",
      "Building Hamiltonian for L=7 \n",
      "\n",
      "Building the spin chain \n",
      "\n",
      "Imaginary time evolution \n",
      "\n"
     ]
    },
    {
     "name": "stderr",
     "output_type": "stream",
     "text": [
      "t=0.005, max-bond=4: 100%|#################################################################################################################################################################################################| 100/100 [00:00<00:00, 7002.18%/s]\n"
     ]
    },
    {
     "name": "stdout",
     "output_type": "stream",
     "text": [
      "Real time evolution\n"
     ]
    },
    {
     "name": "stderr",
     "output_type": "stream",
     "text": [
      "t=9.9, max-bond=84: 100%|###################################################################################################################################################################################################| 100/100 [00:32<00:00,  3.08it/s]\n"
     ]
    },
    {
     "name": "stdout",
     "output_type": "stream",
     "text": [
      "Time:32s\n",
      "Max error 0.002497909852013751\n",
      "Simulation 152 / 245\n",
      "Building Hamiltonian for L=7\n",
      "Initial state: random subsystem and thermal bath\n",
      "\n",
      "done\n",
      "Building Hamiltonian for L=7 \n",
      "\n",
      "Building the spin chain \n",
      "\n",
      "Imaginary time evolution \n",
      "\n"
     ]
    },
    {
     "name": "stderr",
     "output_type": "stream",
     "text": [
      "t=0.005, max-bond=4: 100%|#################################################################################################################################################################################################| 100/100 [00:00<00:00, 7016.82%/s]\n"
     ]
    },
    {
     "name": "stdout",
     "output_type": "stream",
     "text": [
      "Real time evolution\n"
     ]
    },
    {
     "name": "stderr",
     "output_type": "stream",
     "text": [
      "t=9.9, max-bond=84: 100%|###################################################################################################################################################################################################| 100/100 [00:32<00:00,  3.07it/s]\n"
     ]
    },
    {
     "name": "stdout",
     "output_type": "stream",
     "text": [
      "Time:32s\n",
      "Max error 0.0025249118226642066\n",
      "Simulation 153 / 245\n",
      "Building Hamiltonian for L=7\n",
      "Initial state: random subsystem and thermal bath\n",
      "\n",
      "done\n",
      "Building Hamiltonian for L=7 \n",
      "\n",
      "Building the spin chain \n",
      "\n",
      "Imaginary time evolution \n",
      "\n"
     ]
    },
    {
     "name": "stderr",
     "output_type": "stream",
     "text": [
      "t=0.005, max-bond=4: 100%|#################################################################################################################################################################################################| 100/100 [00:00<00:00, 7102.73%/s]\n"
     ]
    },
    {
     "name": "stdout",
     "output_type": "stream",
     "text": [
      "Real time evolution\n"
     ]
    },
    {
     "name": "stderr",
     "output_type": "stream",
     "text": [
      "t=9.9, max-bond=84: 100%|###################################################################################################################################################################################################| 100/100 [00:33<00:00,  2.95it/s]\n"
     ]
    },
    {
     "name": "stdout",
     "output_type": "stream",
     "text": [
      "Time:33s\n",
      "Max error 0.002550476361811152\n",
      "Simulation 154 / 245\n",
      "Building Hamiltonian for L=7\n",
      "Initial state: random subsystem and thermal bath\n",
      "\n",
      "done\n",
      "Building Hamiltonian for L=7 \n",
      "\n",
      "Building the spin chain \n",
      "\n",
      "Imaginary time evolution \n",
      "\n"
     ]
    },
    {
     "name": "stderr",
     "output_type": "stream",
     "text": [
      "t=0.005, max-bond=4: 100%|#################################################################################################################################################################################################| 100/100 [00:00<00:00, 5136.68%/s]\n"
     ]
    },
    {
     "name": "stdout",
     "output_type": "stream",
     "text": [
      "Real time evolution\n"
     ]
    },
    {
     "name": "stderr",
     "output_type": "stream",
     "text": [
      "t=9.9, max-bond=84: 100%|###################################################################################################################################################################################################| 100/100 [00:45<00:00,  2.20it/s]\n"
     ]
    },
    {
     "name": "stdout",
     "output_type": "stream",
     "text": [
      "Time:45s\n",
      "Max error 0.0026093942352003628\n",
      "i = 4, j = 3 =====================================\n",
      "Simulation 155 / 245\n",
      "Building Hamiltonian for L=7\n",
      "Initial state: random subsystem and thermal bath\n",
      "\n",
      "done\n",
      "Building Hamiltonian for L=7 \n",
      "\n",
      "Building the spin chain \n",
      "\n",
      "Imaginary time evolution \n",
      "\n"
     ]
    },
    {
     "name": "stderr",
     "output_type": "stream",
     "text": [
      "t=0.005, max-bond=4: 100%|#################################################################################################################################################################################################| 100/100 [00:00<00:00, 6784.05%/s]\n"
     ]
    },
    {
     "name": "stdout",
     "output_type": "stream",
     "text": [
      "Real time evolution\n"
     ]
    },
    {
     "name": "stderr",
     "output_type": "stream",
     "text": [
      "t=9.9, max-bond=84: 100%|###################################################################################################################################################################################################| 100/100 [00:32<00:00,  3.11it/s]\n"
     ]
    },
    {
     "name": "stdout",
     "output_type": "stream",
     "text": [
      "Time:32s\n",
      "Max error 0.002741730989891847\n",
      "Simulation 156 / 245\n",
      "Building Hamiltonian for L=7\n",
      "Initial state: random subsystem and thermal bath\n",
      "\n",
      "done\n",
      "Building Hamiltonian for L=7 \n",
      "\n",
      "Building the spin chain \n",
      "\n",
      "Imaginary time evolution \n",
      "\n"
     ]
    },
    {
     "name": "stderr",
     "output_type": "stream",
     "text": [
      "t=0.005, max-bond=4: 100%|#################################################################################################################################################################################################| 100/100 [00:00<00:00, 6964.62%/s]\n"
     ]
    },
    {
     "name": "stdout",
     "output_type": "stream",
     "text": [
      "Real time evolution\n"
     ]
    },
    {
     "name": "stderr",
     "output_type": "stream",
     "text": [
      "t=9.9, max-bond=83: 100%|###################################################################################################################################################################################################| 100/100 [00:32<00:00,  3.07it/s]\n"
     ]
    },
    {
     "name": "stdout",
     "output_type": "stream",
     "text": [
      "Time:32s\n",
      "Max error 0.0027863952330001076\n",
      "Simulation 157 / 245\n",
      "Building Hamiltonian for L=7\n",
      "Initial state: random subsystem and thermal bath\n",
      "\n",
      "done\n",
      "Building Hamiltonian for L=7 \n",
      "\n",
      "Building the spin chain \n",
      "\n",
      "Imaginary time evolution \n",
      "\n"
     ]
    },
    {
     "name": "stderr",
     "output_type": "stream",
     "text": [
      "t=0.005, max-bond=4: 100%|#################################################################################################################################################################################################| 100/100 [00:00<00:00, 6900.68%/s]\n"
     ]
    },
    {
     "name": "stdout",
     "output_type": "stream",
     "text": [
      "Real time evolution\n"
     ]
    },
    {
     "name": "stderr",
     "output_type": "stream",
     "text": [
      "t=9.9, max-bond=84: 100%|###################################################################################################################################################################################################| 100/100 [00:32<00:00,  3.09it/s]\n"
     ]
    },
    {
     "name": "stdout",
     "output_type": "stream",
     "text": [
      "Time:32s\n",
      "Max error 0.002654606462618791\n",
      "Simulation 158 / 245\n",
      "Building Hamiltonian for L=7\n",
      "Initial state: random subsystem and thermal bath\n",
      "\n",
      "done\n",
      "Building Hamiltonian for L=7 \n",
      "\n",
      "Building the spin chain \n",
      "\n",
      "Imaginary time evolution \n",
      "\n"
     ]
    },
    {
     "name": "stderr",
     "output_type": "stream",
     "text": [
      "t=0.005, max-bond=4: 100%|#################################################################################################################################################################################################| 100/100 [00:00<00:00, 6992.14%/s]\n"
     ]
    },
    {
     "name": "stdout",
     "output_type": "stream",
     "text": [
      "Real time evolution\n"
     ]
    },
    {
     "name": "stderr",
     "output_type": "stream",
     "text": [
      "t=9.9, max-bond=84: 100%|###################################################################################################################################################################################################| 100/100 [00:35<00:00,  2.81it/s]\n"
     ]
    },
    {
     "name": "stdout",
     "output_type": "stream",
     "text": [
      "Time:35s\n",
      "Max error 0.002788755842651728\n",
      "Simulation 159 / 245\n",
      "Building Hamiltonian for L=7\n",
      "Initial state: random subsystem and thermal bath\n",
      "\n",
      "done\n",
      "Building Hamiltonian for L=7 \n",
      "\n",
      "Building the spin chain \n",
      "\n",
      "Imaginary time evolution \n",
      "\n"
     ]
    },
    {
     "name": "stderr",
     "output_type": "stream",
     "text": [
      "t=0.005, max-bond=4: 100%|#################################################################################################################################################################################################| 100/100 [00:00<00:00, 6753.03%/s]\n"
     ]
    },
    {
     "name": "stdout",
     "output_type": "stream",
     "text": [
      "Real time evolution\n"
     ]
    },
    {
     "name": "stderr",
     "output_type": "stream",
     "text": [
      "t=9.9, max-bond=84: 100%|###################################################################################################################################################################################################| 100/100 [00:34<00:00,  2.91it/s]\n"
     ]
    },
    {
     "name": "stdout",
     "output_type": "stream",
     "text": [
      "Time:34s\n",
      "Max error 0.0023217083732016827\n",
      "i = 4, j = 4 =====================================\n",
      "Simulation 160 / 245\n",
      "Building Hamiltonian for L=7\n",
      "Initial state: random subsystem and thermal bath\n",
      "\n",
      "done\n",
      "Building Hamiltonian for L=7 \n",
      "\n",
      "Building the spin chain \n",
      "\n",
      "Imaginary time evolution \n",
      "\n"
     ]
    },
    {
     "name": "stderr",
     "output_type": "stream",
     "text": [
      "t=0.005, max-bond=4: 100%|#################################################################################################################################################################################################| 100/100 [00:00<00:00, 6979.22%/s]\n"
     ]
    },
    {
     "name": "stdout",
     "output_type": "stream",
     "text": [
      "Real time evolution\n"
     ]
    },
    {
     "name": "stderr",
     "output_type": "stream",
     "text": [
      "t=9.9, max-bond=83: 100%|###################################################################################################################################################################################################| 100/100 [00:33<00:00,  2.95it/s]\n"
     ]
    },
    {
     "name": "stdout",
     "output_type": "stream",
     "text": [
      "Time:33s\n",
      "Max error 0.002469259925285987\n",
      "Simulation 161 / 245\n",
      "Building Hamiltonian for L=7\n",
      "Initial state: random subsystem and thermal bath\n",
      "\n",
      "done\n",
      "Building Hamiltonian for L=7 \n",
      "\n",
      "Building the spin chain \n",
      "\n",
      "Imaginary time evolution \n",
      "\n"
     ]
    },
    {
     "name": "stderr",
     "output_type": "stream",
     "text": [
      "t=0.005, max-bond=4: 100%|#################################################################################################################################################################################################| 100/100 [00:00<00:00, 5934.55%/s]\n"
     ]
    },
    {
     "name": "stdout",
     "output_type": "stream",
     "text": [
      "Real time evolution\n"
     ]
    },
    {
     "name": "stderr",
     "output_type": "stream",
     "text": [
      "t=9.9, max-bond=84: 100%|###################################################################################################################################################################################################| 100/100 [00:50<00:00,  1.96it/s]\n"
     ]
    },
    {
     "name": "stdout",
     "output_type": "stream",
     "text": [
      "Time:50s\n",
      "Max error 0.002841251103101978\n",
      "Simulation 162 / 245\n",
      "Building Hamiltonian for L=7\n",
      "Initial state: random subsystem and thermal bath\n",
      "\n",
      "done\n",
      "Building Hamiltonian for L=7 \n",
      "\n",
      "Building the spin chain \n",
      "\n",
      "Imaginary time evolution \n",
      "\n"
     ]
    },
    {
     "name": "stderr",
     "output_type": "stream",
     "text": [
      "t=0.005, max-bond=4: 100%|#################################################################################################################################################################################################| 100/100 [00:00<00:00, 6168.28%/s]\n"
     ]
    },
    {
     "name": "stdout",
     "output_type": "stream",
     "text": [
      "Real time evolution\n"
     ]
    },
    {
     "name": "stderr",
     "output_type": "stream",
     "text": [
      "t=9.9, max-bond=84: 100%|###################################################################################################################################################################################################| 100/100 [00:49<00:00,  2.04it/s]\n"
     ]
    },
    {
     "name": "stdout",
     "output_type": "stream",
     "text": [
      "Time:49s\n",
      "Max error 0.002532482006092929\n",
      "Simulation 163 / 245\n",
      "Building Hamiltonian for L=7\n",
      "Initial state: random subsystem and thermal bath\n",
      "\n",
      "done\n",
      "Building Hamiltonian for L=7 \n",
      "\n",
      "Building the spin chain \n",
      "\n",
      "Imaginary time evolution \n",
      "\n"
     ]
    },
    {
     "name": "stderr",
     "output_type": "stream",
     "text": [
      "t=0.005, max-bond=4: 100%|#################################################################################################################################################################################################| 100/100 [00:00<00:00, 6031.06%/s]\n"
     ]
    },
    {
     "name": "stdout",
     "output_type": "stream",
     "text": [
      "Real time evolution\n"
     ]
    },
    {
     "name": "stderr",
     "output_type": "stream",
     "text": [
      "t=9.9, max-bond=84: 100%|###################################################################################################################################################################################################| 100/100 [00:33<00:00,  3.00it/s]\n"
     ]
    },
    {
     "name": "stdout",
     "output_type": "stream",
     "text": [
      "Time:33s\n",
      "Max error 0.002748400440239033\n",
      "Simulation 164 / 245\n",
      "Building Hamiltonian for L=7\n",
      "Initial state: random subsystem and thermal bath\n",
      "\n",
      "done\n",
      "Building Hamiltonian for L=7 \n",
      "\n",
      "Building the spin chain \n",
      "\n",
      "Imaginary time evolution \n",
      "\n"
     ]
    },
    {
     "name": "stderr",
     "output_type": "stream",
     "text": [
      "t=0.005, max-bond=4: 100%|#################################################################################################################################################################################################| 100/100 [00:00<00:00, 6941.11%/s]\n"
     ]
    },
    {
     "name": "stdout",
     "output_type": "stream",
     "text": [
      "Real time evolution\n"
     ]
    },
    {
     "name": "stderr",
     "output_type": "stream",
     "text": [
      "t=8.9, max-bond=71:  90%|################################################################################################################################################################################4                   | 90/100 [00:24<00:13,  1.32s/it]"
     ]
    }
   ],
   "source": [
    "table = np.empty([7,7])\n",
    "\n",
    "for i in range(7):\n",
    "    for j in range(7):\n",
    "        print(f'i = {i}, j = {j} =====================================')\n",
    "        avrg = 0\n",
    "        for k in range(5):\n",
    "            print(f'Simulation {(i*7 + j)*5 + k} / {7*7*5}')\n",
    "            avrg += calculate_error(L, omega, V, V_, beta, T, dt, 10**(-2-i), 10**(-2-j), tolerance)\n",
    "        table[i][j] = avrg/5\n"
   ]
  },
  {
   "cell_type": "code",
   "execution_count": null,
   "id": "bd222807",
   "metadata": {},
   "outputs": [],
   "source": [
    "import pickle\n",
    "\n",
    "with open('./table.pkl', 'wb') as f:\n",
    "    pickle.dump(table, f, protocol=pickle.HIGHEST_PROTOCOL)\n"
   ]
  },
  {
   "cell_type": "code",
   "execution_count": 43,
   "id": "f5e4a850",
   "metadata": {},
   "outputs": [
    {
     "data": {
      "image/png": "[encoded data removed]",
      "text/plain": [
       "<Figure size 832x624 with 1 Axes>"
      ]
     },
     "metadata": {},
     "output_type": "display_data"
    }
   ],
   "source": [
    "### PLOT\n",
    "# here I plot the difference in the expectation values\n",
    "\n",
    "t = np.arange(0, T, dt)\n",
    "\n",
    "plt.figure(dpi=130)#figsize=(9, 6))\n",
    "\n",
    "for key in keys:\n",
    "    plt.plot(t, diff_avrg[key], linewidth=0.5, label=key)\n",
    "    \n",
    "#avrg = []\n",
    "#for i in range(len(t)):\n",
    "#    avrg.append(sum((diff[key][i] for key in keys))/15)\n",
    "#lt.plot(t, avrg, linewidth=2, linestyle='dashed', color='black')\n",
    "\n",
    "plt.grid()\n",
    "plt.xlabel(r't/$\\Omega$')\n",
    "plt.title('Exact - TEBD')\n",
    "\n",
    "fig = plt.gcf()\n",
    "#plt.legend()\n",
    "plt.show()\n",
    "\n",
    "#fig.savefig('./pictures/consistency_check_3_errors.pdf', dpi=150)"
   ]
  },
  {
   "cell_type": "code",
   "execution_count": null,
   "id": "f9ea05d1",
   "metadata": {},
   "outputs": [],
   "source": []
  },
  {
   "cell_type": "code",
   "execution_count": null,
   "id": "2cfb1998",
   "metadata": {},
   "outputs": [],
   "source": []
  },
  {
   "cell_type": "code",
   "execution_count": null,
   "id": "568088ac",
   "metadata": {},
   "outputs": [],
   "source": []
  },
  {
   "cell_type": "code",
   "execution_count": null,
   "id": "c31957d8",
   "metadata": {},
   "outputs": [],
   "source": []
  }
 ],
 "metadata": {
  "kernelspec": {
   "display_name": "Python 3 (ipykernel)",
   "language": "python",
   "name": "python3"
  },
  "language_info": {
   "codemirror_mode": {
    "name": "ipython",
    "version": 3
   },
   "file_extension": ".py",
   "mimetype": "text/x-python",
   "name": "python",
   "nbconvert_exporter": "python",
   "pygments_lexer": "ipython3",
   "version": "3.9.13"
  }
 },
 "nbformat": 4,
 "nbformat_minor": 5
}
