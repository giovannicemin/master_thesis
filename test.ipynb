{
 "cells": [
  {
   "cell_type": "markdown",
   "id": "f12b2f02",
   "metadata": {},
   "source": [
    "# TEST\n",
    "\n",
    "Test the code for more spins"
   ]
  },
  {
   "cell_type": "code",
   "execution_count": 9,
   "id": "1ddcc072",
   "metadata": {},
   "outputs": [],
   "source": [
    "import numpy as np\n",
    "import matplotlib.pyplot as plt\n",
    "import time\n",
    "\n",
    "import quimb as qu\n",
    "import quimb.tensor as qtn\n",
    "import quimb.linalg.base_linalg as la\n",
    "from itertools import product"
   ]
  },
  {
   "cell_type": "code",
   "execution_count": 10,
   "id": "22e95dfe",
   "metadata": {},
   "outputs": [],
   "source": [
    "### PROBLEM PARAMETERS\n",
    "L = 40         # chain length\n",
    "omega = 1     # Rabi frequency\n",
    "V = 0.1       # B-S interaction strength\n",
    "V_ = 0.1        # bath interaction strength\n",
    "beta = 0.001    # inverse temperature for the bath\n",
    "\n",
    "T = 10        # total time of the simulation\n",
    "dt = 0.1      # time step for coherece vector time evolution\n",
    "\n",
    "cutoff = 1e-8 # cutoff for TEBD algorithm\n",
    "\n",
    "### USEFULL VARIABLES\n",
    "dims = [2]*L # overall space of L qbits\n",
    "\n",
    "I = qu.pauli('I')\n",
    "X = qu.pauli('Y')\n",
    "Z = qu.pauli('Z')"
   ]
  },
  {
   "cell_type": "markdown",
   "id": "8021c504",
   "metadata": {},
   "source": [
    "### TEBD"
   ]
  },
  {
   "cell_type": "code",
   "execution_count": 11,
   "id": "34d62675",
   "metadata": {},
   "outputs": [
    {
     "name": "stdout",
     "output_type": "stream",
     "text": [
      "Building Hamiltonian for L=40 \n",
      "\n",
      "Building the spin chain \n",
      "\n",
      "     1 1 1 1 1 1 1 1 1 1 1 1 1 1 1 1 1 1 1 1 1 1 1 1 1 1 1 1 1 1 1 1 1 1 1    \n",
      "... +─●─●─●─●─●─●─●─●─●─●─●─●─●─●─●─●─●─●─●─●─●─●─●─●─●─●─●─●─●─●─●─●─●─●─ ...\n",
      "      │ │ │ │ │ │ │ │ │ │ │ │ │ │ │ │ │ │ │ │ │ │ │ │ │ │ │ │ │ │ │ │ │ │     \n",
      "                                 ...                                  \n",
      "     1 1 1 1 1 1 \n",
      "    ●─●─●─●─●─●─+\n",
      "    │ │ │ │ │ │  \n"
     ]
    }
   ],
   "source": [
    "### BUILDING THE HAMILTONIAN for the thermalization\n",
    "\n",
    "O_Rabi = (omega/2)*X & I\n",
    "N = (I + Z)/2 & I\n",
    "\n",
    "print(f'Building Hamiltonian for L={L} \\n')\n",
    "# the hamiltonian\n",
    "H1 = {i: O_Rabi for i in range(L)}\n",
    "H2 = {None: V_*N&N, (L-1, 0): V*N&N, (0, 1): V*N&N, (1, 2): V*N&N}\n",
    "\n",
    "H = qtn.LocalHam1D(L=L, H2=H2, H1=H1, cyclic=True)\n",
    "\n",
    "### BUILDING THE SPIN CHAIN\n",
    "\n",
    "print('Building the spin chain \\n')\n",
    "B = np.array([1, 0, 0, 1])/np.sqrt(2)\n",
    "arrays = [B for i in range(L)]\n",
    "\n",
    "psi = qtn.MPS_product_state(arrays, cyclic=True)#, site_ind_id='s{}')\n",
    "\n",
    "psi.show()"
   ]
  },
  {
   "cell_type": "code",
   "execution_count": 12,
   "id": "5c13e577",
   "metadata": {},
   "outputs": [
    {
     "name": "stdout",
     "output_type": "stream",
     "text": [
      "Check for the normalization: 0.9999999999999911\n",
      "\n"
     ]
    }
   ],
   "source": [
    "print(f'Check for the normalization: {psi.H @ psi}\\n')"
   ]
  },
  {
   "cell_type": "code",
   "execution_count": 13,
   "id": "fec9388f",
   "metadata": {},
   "outputs": [
    {
     "name": "stdout",
     "output_type": "stream",
     "text": [
      "Imaginary time evolution \n",
      "\n"
     ]
    },
    {
     "name": "stderr",
     "output_type": "stream",
     "text": [
      "t=0.0005, max-bond=4: 100%|################################################################################################################################################################################################| 100/100 [00:00<00:00, 1413.92%/s]"
     ]
    },
    {
     "name": "stdout",
     "output_type": "stream",
     "text": [
      "     2 2 2 2 2 2 2 2 2 2 2 2 2 2 2 2 2 2 2 2 2 2 2 2 2 2 2 2 2 2 2 2 2 2 2    \n",
      "... +─●─●─●─●─●─●─●─●─●─●─●─●─●─●─●─●─●─●─●─●─●─●─●─●─●─●─●─●─●─●─●─●─●─●─ ...\n",
      "      │ │ │ │ │ │ │ │ │ │ │ │ │ │ │ │ │ │ │ │ │ │ │ │ │ │ │ │ │ │ │ │ │ │     \n",
      "                                 ...                                  \n",
      "     2 2 2 2 2 2 \n",
      "    ●─●─●─●─●─●─+\n",
      "    │ │ │ │ │ │  \n"
     ]
    },
    {
     "name": "stderr",
     "output_type": "stream",
     "text": [
      "\n"
     ]
    }
   ],
   "source": [
    "### IMAGINARY TIME EVOLUTION\n",
    "\n",
    "print('Imaginary time evolution \\n')\n",
    "\n",
    "# create the object\n",
    "tebd_th = qtn.TEBD(psi, H, imag=True)\n",
    "\n",
    "# cutoff for truncating after each infinitesimal-time operator application\n",
    "tebd_th.split_opts['cutoff'] = 1e-10\n",
    "\n",
    "tebd_th.update_to(beta/2, tol=1e-3)\n",
    "psi_th = tebd_th.pt\n",
    "\n",
    "psi_th.show() "
   ]
  },
  {
   "cell_type": "code",
   "execution_count": 14,
   "id": "a2c7d6c1",
   "metadata": {},
   "outputs": [
    {
     "name": "stdout",
     "output_type": "stream",
     "text": [
      "Check for the normalization beta/2: (0.5000000025080288-6.399022959717362e-44j)\n",
      "\n"
     ]
    }
   ],
   "source": [
    "print(f'Check for the normalization beta/2: {psi_th.H @ psi_th}\\n')"
   ]
  },
  {
   "cell_type": "code",
   "execution_count": 15,
   "id": "a011529f",
   "metadata": {},
   "outputs": [
    {
     "name": "stdout",
     "output_type": "stream",
     "text": [
      "     2 2 2 2 2 2 2 2 2 2 2 2 2 2 2 2 2 2 2 2 2 2 2 2 2 2 2 2 2 2 2 2 2 2 2    \n",
      "... +─●─●─●─●─●─●─●─●─●─●─●─●─●─●─●─●─●─●─●─●─●─●─●─●─●─●─●─●─●─●─●─●─●─●─ ...\n",
      "      │ │ │ │ │ │ │ │ │ │ │ │ │ │ │ │ │ │ │ │ │ │ │ │ │ │ │ │ │ │ │ │ │ │     \n",
      "                                 ...                                  \n",
      "     2 2 2 2 2 2 \n",
      "    ●─●─●─●─●─●─+\n",
      "    │ │ │ │ │ │  \n"
     ]
    }
   ],
   "source": [
    "### INITIAL CONDITIONS\n",
    "\n",
    "# random initial conditions\n",
    "#Rand1 = rand1 & qu.pauli('I')\n",
    "#Rand2 = rand2 & qu.pauli('I')\n",
    "\n",
    "#psi_init = psi_th.gate(Rand1&Rand2, (0,1), contract='swap+split')\n",
    "psi_init = psi_th.copy()\n",
    "psi_init.show()"
   ]
  },
  {
   "cell_type": "code",
   "execution_count": 16,
   "id": "267988e3",
   "metadata": {},
   "outputs": [
    {
     "name": "stderr",
     "output_type": "stream",
     "text": [
      "t=10, max-bond=35: 100%|####################################################################################################################################################################################################| 100/100 [01:07<00:00,  1.47it/s]"
     ]
    },
    {
     "name": "stdout",
     "output_type": "stream",
     "text": [
      "Time:67s\n"
     ]
    },
    {
     "name": "stderr",
     "output_type": "stream",
     "text": [
      "\n"
     ]
    }
   ],
   "source": [
    "### THE SIMULATION\n",
    "\n",
    "start = time.time()\n",
    "\n",
    "# first I build the observables\n",
    "observables_tebd = {}\n",
    "results = {}\n",
    "for ob1, ob2 in product(['I', 'X', 'Y', 'Z'], repeat=2):\n",
    "    key = ob1 + '1' + ob2 + '2'\n",
    "    results[key] = []\n",
    "    observables_tebd[key] = []\n",
    "\n",
    "# dropping the identity\n",
    "observables_tebd.pop('I1I2')\n",
    "results.pop('I1I2')\n",
    "    \n",
    "# create the object\n",
    "tebd = qtn.TEBD(psi_init, H)\n",
    "\n",
    "# cutoff for truncating after each infinitesimal-time operator application\n",
    "tebd.split_opts['cutoff'] = cutoff\n",
    "\n",
    "t = np.linspace(0, T, 100)\n",
    "keys = results.keys()\n",
    "\n",
    "# I can either set a timestep or a tolerance and the timestep is calculated accordingly\n",
    "# generate the state at each time in t (same as exact simulation)\n",
    "#     and target error 1e-3 for whole evolution\n",
    "for psit in tebd.at_times(t, tol=1e-3):\n",
    "    for key in keys:\n",
    "        ob1 = qu.pauli(key[0]) & qu.pauli('I')\n",
    "        ob2 = qu.pauli(key[2]) & qu.pauli('I')\n",
    "        results[key].append((psit.H @ psit.gate(ob1 & ob2, (0, 1))).real)\n",
    "        \n",
    "end = time.time()\n",
    "print(f'Time:{int(end - start)}s')"
   ]
  },
  {
   "cell_type": "code",
   "execution_count": 17,
   "id": "3832ad04",
   "metadata": {},
   "outputs": [
    {
     "name": "stdout",
     "output_type": "stream",
     "text": [
      "Check for the normalization: (0.5000000607633204-1.7064544989059136e-16j)\n",
      "\n"
     ]
    }
   ],
   "source": [
    "print(f'Check for the normalization: {tebd.pt.H @ tebd.pt}\\n')"
   ]
  },
  {
   "cell_type": "code",
   "execution_count": 18,
   "id": "7126ae73",
   "metadata": {},
   "outputs": [
    {
     "data": {
      "image/png": "[encoded data removed]",
      "text/plain": [
       "<Figure size 640x480 with 1 Axes>"
      ]
     },
     "metadata": {},
     "output_type": "display_data"
    }
   ],
   "source": [
    "keys = results.keys()\n",
    "keys = ['I1Z2', 'Z1I2', 'Z1Z2', 'Z1X2']\n",
    "\n",
    "for key in keys:\n",
    "    plt.plot(t, results[key], label=key)\n",
    "    plt.title(f'L={L}')\n",
    "plt.legend()\n",
    "plt.grid()"
   ]
  },
  {
   "cell_type": "code",
   "execution_count": null,
   "id": "296527d8",
   "metadata": {},
   "outputs": [],
   "source": []
  },
  {
   "cell_type": "code",
   "execution_count": null,
   "id": "9b496f37",
   "metadata": {},
   "outputs": [],
   "source": []
  },
  {
   "cell_type": "code",
   "execution_count": null,
   "id": "e11873ad",
   "metadata": {},
   "outputs": [],
   "source": []
  }
 ],
 "metadata": {
  "kernelspec": {
   "display_name": "Python 3 (ipykernel)",
   "language": "python",
   "name": "python3"
  },
  "language_info": {
   "codemirror_mode": {
    "name": "ipython",
    "version": 3
   },
   "file_extension": ".py",
   "mimetype": "text/x-python",
   "name": "python",
   "nbconvert_exporter": "python",
   "pygments_lexer": "ipython3",
   "version": "3.9.13"
  }
 },
 "nbformat": 4,
 "nbformat_minor": 5
}
